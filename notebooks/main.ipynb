{
 "cells": [
  {
   "cell_type": "markdown",
   "id": "e193a58d",
   "metadata": {},
   "source": [
    "# **Predictive Analytics**"
   ]
  },
  {
   "cell_type": "markdown",
   "id": "5db52510",
   "metadata": {},
   "source": [
    "- Import Library"
   ]
  },
  {
   "cell_type": "code",
   "execution_count": 2,
   "id": "1195a406",
   "metadata": {},
   "outputs": [],
   "source": [
    "import pandas as pd\n",
    "import numpy as np\n",
    "import tensorflow as tf\n",
    "import matplotlib.pyplot as plt\n",
    "import seaborn as sns\n",
    "from sklearn.model_selection import train_test_split\n",
    "from sklearn.preprocessing import StandardScaler\n",
    "from tensorflow.keras.models import Sequential\n",
    "from tensorflow.keras.layers import Dense\n",
    "from tensorflow.keras.callbacks import EarlyStopping, ReduceLROnPlateau, ModelCheckpoint"
   ]
  },
  {
   "cell_type": "markdown",
   "id": "791ddeac",
   "metadata": {},
   "source": [
    "- Load Data"
   ]
  },
  {
   "cell_type": "code",
   "execution_count": 3,
   "id": "dec2b264",
   "metadata": {},
   "outputs": [
    {
     "name": "stderr",
     "output_type": "stream",
     "text": [
      "C:\\Users\\acer\\AppData\\Local\\Temp\\ipykernel_12496\\2920403303.py:1: UserWarning: Could not infer format, so each element will be parsed individually, falling back to `dateutil`. To ensure parsing is consistent and as-expected, please specify a format.\n",
      "  df = pd.read_csv('../data/raw/SolarPrediction.csv', parse_dates=['Time'])\n"
     ]
    }
   ],
   "source": [
    "df = pd.read_csv('../data/raw/SolarPrediction.csv', parse_dates=['Time'])"
   ]
  },
  {
   "cell_type": "markdown",
   "id": "04a6df3e",
   "metadata": {},
   "source": [
    "## Exploration Data Analysis"
   ]
  },
  {
   "cell_type": "code",
   "execution_count": 4,
   "id": "d9c23211",
   "metadata": {},
   "outputs": [
    {
     "data": {
      "application/vnd.microsoft.datawrangler.viewer.v0+json": {
       "columns": [
        {
         "name": "index",
         "rawType": "int64",
         "type": "integer"
        },
        {
         "name": "UNIXTime",
         "rawType": "int64",
         "type": "integer"
        },
        {
         "name": "Data",
         "rawType": "object",
         "type": "string"
        },
        {
         "name": "Time",
         "rawType": "datetime64[ns]",
         "type": "datetime"
        },
        {
         "name": "Radiation",
         "rawType": "float64",
         "type": "float"
        },
        {
         "name": "Temperature",
         "rawType": "int64",
         "type": "integer"
        },
        {
         "name": "Pressure",
         "rawType": "float64",
         "type": "float"
        },
        {
         "name": "Humidity",
         "rawType": "int64",
         "type": "integer"
        },
        {
         "name": "WindDirection(Degrees)",
         "rawType": "float64",
         "type": "float"
        },
        {
         "name": "Speed",
         "rawType": "float64",
         "type": "float"
        },
        {
         "name": "TimeSunRise",
         "rawType": "object",
         "type": "string"
        },
        {
         "name": "TimeSunSet",
         "rawType": "object",
         "type": "string"
        }
       ],
       "ref": "e1f78138-f047-444d-b3e0-09b069ae696a",
       "rows": [
        [
         "0",
         "1475229326",
         "9/29/2016 12:00:00 AM",
         "2025-05-25 23:55:26",
         "1.21",
         "48",
         "30.46",
         "59",
         "177.39",
         "5.62",
         "06:13:00",
         "18:13:00"
        ],
        [
         "1",
         "1475229023",
         "9/29/2016 12:00:00 AM",
         "2025-05-25 23:50:23",
         "1.21",
         "48",
         "30.46",
         "58",
         "176.78",
         "3.37",
         "06:13:00",
         "18:13:00"
        ],
        [
         "2",
         "1475228726",
         "9/29/2016 12:00:00 AM",
         "2025-05-25 23:45:26",
         "1.23",
         "48",
         "30.46",
         "57",
         "158.75",
         "3.37",
         "06:13:00",
         "18:13:00"
        ],
        [
         "3",
         "1475228421",
         "9/29/2016 12:00:00 AM",
         "2025-05-25 23:40:21",
         "1.21",
         "48",
         "30.46",
         "60",
         "137.71",
         "3.37",
         "06:13:00",
         "18:13:00"
        ],
        [
         "4",
         "1475228124",
         "9/29/2016 12:00:00 AM",
         "2025-05-25 23:35:24",
         "1.17",
         "48",
         "30.46",
         "62",
         "104.95",
         "5.62",
         "06:13:00",
         "18:13:00"
        ]
       ],
       "shape": {
        "columns": 11,
        "rows": 5
       }
      },
      "text/html": [
       "<div>\n",
       "<style scoped>\n",
       "    .dataframe tbody tr th:only-of-type {\n",
       "        vertical-align: middle;\n",
       "    }\n",
       "\n",
       "    .dataframe tbody tr th {\n",
       "        vertical-align: top;\n",
       "    }\n",
       "\n",
       "    .dataframe thead th {\n",
       "        text-align: right;\n",
       "    }\n",
       "</style>\n",
       "<table border=\"1\" class=\"dataframe\">\n",
       "  <thead>\n",
       "    <tr style=\"text-align: right;\">\n",
       "      <th></th>\n",
       "      <th>UNIXTime</th>\n",
       "      <th>Data</th>\n",
       "      <th>Time</th>\n",
       "      <th>Radiation</th>\n",
       "      <th>Temperature</th>\n",
       "      <th>Pressure</th>\n",
       "      <th>Humidity</th>\n",
       "      <th>WindDirection(Degrees)</th>\n",
       "      <th>Speed</th>\n",
       "      <th>TimeSunRise</th>\n",
       "      <th>TimeSunSet</th>\n",
       "    </tr>\n",
       "  </thead>\n",
       "  <tbody>\n",
       "    <tr>\n",
       "      <th>0</th>\n",
       "      <td>1475229326</td>\n",
       "      <td>9/29/2016 12:00:00 AM</td>\n",
       "      <td>2025-05-25 23:55:26</td>\n",
       "      <td>1.21</td>\n",
       "      <td>48</td>\n",
       "      <td>30.46</td>\n",
       "      <td>59</td>\n",
       "      <td>177.39</td>\n",
       "      <td>5.62</td>\n",
       "      <td>06:13:00</td>\n",
       "      <td>18:13:00</td>\n",
       "    </tr>\n",
       "    <tr>\n",
       "      <th>1</th>\n",
       "      <td>1475229023</td>\n",
       "      <td>9/29/2016 12:00:00 AM</td>\n",
       "      <td>2025-05-25 23:50:23</td>\n",
       "      <td>1.21</td>\n",
       "      <td>48</td>\n",
       "      <td>30.46</td>\n",
       "      <td>58</td>\n",
       "      <td>176.78</td>\n",
       "      <td>3.37</td>\n",
       "      <td>06:13:00</td>\n",
       "      <td>18:13:00</td>\n",
       "    </tr>\n",
       "    <tr>\n",
       "      <th>2</th>\n",
       "      <td>1475228726</td>\n",
       "      <td>9/29/2016 12:00:00 AM</td>\n",
       "      <td>2025-05-25 23:45:26</td>\n",
       "      <td>1.23</td>\n",
       "      <td>48</td>\n",
       "      <td>30.46</td>\n",
       "      <td>57</td>\n",
       "      <td>158.75</td>\n",
       "      <td>3.37</td>\n",
       "      <td>06:13:00</td>\n",
       "      <td>18:13:00</td>\n",
       "    </tr>\n",
       "    <tr>\n",
       "      <th>3</th>\n",
       "      <td>1475228421</td>\n",
       "      <td>9/29/2016 12:00:00 AM</td>\n",
       "      <td>2025-05-25 23:40:21</td>\n",
       "      <td>1.21</td>\n",
       "      <td>48</td>\n",
       "      <td>30.46</td>\n",
       "      <td>60</td>\n",
       "      <td>137.71</td>\n",
       "      <td>3.37</td>\n",
       "      <td>06:13:00</td>\n",
       "      <td>18:13:00</td>\n",
       "    </tr>\n",
       "    <tr>\n",
       "      <th>4</th>\n",
       "      <td>1475228124</td>\n",
       "      <td>9/29/2016 12:00:00 AM</td>\n",
       "      <td>2025-05-25 23:35:24</td>\n",
       "      <td>1.17</td>\n",
       "      <td>48</td>\n",
       "      <td>30.46</td>\n",
       "      <td>62</td>\n",
       "      <td>104.95</td>\n",
       "      <td>5.62</td>\n",
       "      <td>06:13:00</td>\n",
       "      <td>18:13:00</td>\n",
       "    </tr>\n",
       "  </tbody>\n",
       "</table>\n",
       "</div>"
      ],
      "text/plain": [
       "     UNIXTime                   Data                Time  Radiation  \\\n",
       "0  1475229326  9/29/2016 12:00:00 AM 2025-05-25 23:55:26       1.21   \n",
       "1  1475229023  9/29/2016 12:00:00 AM 2025-05-25 23:50:23       1.21   \n",
       "2  1475228726  9/29/2016 12:00:00 AM 2025-05-25 23:45:26       1.23   \n",
       "3  1475228421  9/29/2016 12:00:00 AM 2025-05-25 23:40:21       1.21   \n",
       "4  1475228124  9/29/2016 12:00:00 AM 2025-05-25 23:35:24       1.17   \n",
       "\n",
       "   Temperature  Pressure  Humidity  WindDirection(Degrees)  Speed TimeSunRise  \\\n",
       "0           48     30.46        59                  177.39   5.62    06:13:00   \n",
       "1           48     30.46        58                  176.78   3.37    06:13:00   \n",
       "2           48     30.46        57                  158.75   3.37    06:13:00   \n",
       "3           48     30.46        60                  137.71   3.37    06:13:00   \n",
       "4           48     30.46        62                  104.95   5.62    06:13:00   \n",
       "\n",
       "  TimeSunSet  \n",
       "0   18:13:00  \n",
       "1   18:13:00  \n",
       "2   18:13:00  \n",
       "3   18:13:00  \n",
       "4   18:13:00  "
      ]
     },
     "execution_count": 4,
     "metadata": {},
     "output_type": "execute_result"
    }
   ],
   "source": [
    "df.head()"
   ]
  },
  {
   "cell_type": "code",
   "execution_count": 5,
   "id": "d36accac",
   "metadata": {},
   "outputs": [
    {
     "data": {
      "application/vnd.microsoft.datawrangler.viewer.v0+json": {
       "columns": [
        {
         "name": "index",
         "rawType": "object",
         "type": "string"
        },
        {
         "name": "0",
         "rawType": "object",
         "type": "unknown"
        }
       ],
       "ref": "1e422e05-ee34-4104-84d0-bb9bdb00c3f2",
       "rows": [
        [
         "UNIXTime",
         "int64"
        ],
        [
         "Data",
         "object"
        ],
        [
         "Time",
         "datetime64[ns]"
        ],
        [
         "Radiation",
         "float64"
        ],
        [
         "Temperature",
         "int64"
        ],
        [
         "Pressure",
         "float64"
        ],
        [
         "Humidity",
         "int64"
        ],
        [
         "WindDirection(Degrees)",
         "float64"
        ],
        [
         "Speed",
         "float64"
        ],
        [
         "TimeSunRise",
         "object"
        ],
        [
         "TimeSunSet",
         "object"
        ]
       ],
       "shape": {
        "columns": 1,
        "rows": 11
       }
      },
      "text/plain": [
       "UNIXTime                           int64\n",
       "Data                              object\n",
       "Time                      datetime64[ns]\n",
       "Radiation                        float64\n",
       "Temperature                        int64\n",
       "Pressure                         float64\n",
       "Humidity                           int64\n",
       "WindDirection(Degrees)           float64\n",
       "Speed                            float64\n",
       "TimeSunRise                       object\n",
       "TimeSunSet                        object\n",
       "dtype: object"
      ]
     },
     "execution_count": 5,
     "metadata": {},
     "output_type": "execute_result"
    }
   ],
   "source": [
    "df.dtypes"
   ]
  },
  {
   "cell_type": "code",
   "execution_count": 7,
   "id": "af67f666",
   "metadata": {},
   "outputs": [
    {
     "data": {
      "application/vnd.microsoft.datawrangler.viewer.v0+json": {
       "columns": [
        {
         "name": "index",
         "rawType": "object",
         "type": "string"
        },
        {
         "name": "0",
         "rawType": "int64",
         "type": "integer"
        }
       ],
       "ref": "566ca5ff-4b5b-46b0-91ea-15835be828ca",
       "rows": [
        [
         "UNIXTime",
         "0"
        ],
        [
         "Data",
         "0"
        ],
        [
         "Time",
         "0"
        ],
        [
         "Radiation",
         "0"
        ],
        [
         "Temperature",
         "0"
        ],
        [
         "Pressure",
         "0"
        ],
        [
         "Humidity",
         "0"
        ],
        [
         "WindDirection(Degrees)",
         "0"
        ],
        [
         "Speed",
         "0"
        ],
        [
         "TimeSunRise",
         "0"
        ],
        [
         "TimeSunSet",
         "0"
        ]
       ],
       "shape": {
        "columns": 1,
        "rows": 11
       }
      },
      "text/plain": [
       "UNIXTime                  0\n",
       "Data                      0\n",
       "Time                      0\n",
       "Radiation                 0\n",
       "Temperature               0\n",
       "Pressure                  0\n",
       "Humidity                  0\n",
       "WindDirection(Degrees)    0\n",
       "Speed                     0\n",
       "TimeSunRise               0\n",
       "TimeSunSet                0\n",
       "dtype: int64"
      ]
     },
     "execution_count": 7,
     "metadata": {},
     "output_type": "execute_result"
    }
   ],
   "source": [
    "df.isna().sum()"
   ]
  },
  {
   "cell_type": "code",
   "execution_count": 6,
   "id": "891224c6",
   "metadata": {},
   "outputs": [
    {
     "data": {
      "application/vnd.microsoft.datawrangler.viewer.v0+json": {
       "columns": [
        {
         "name": "index",
         "rawType": "object",
         "type": "string"
        },
        {
         "name": "UNIXTime",
         "rawType": "float64",
         "type": "float"
        },
        {
         "name": "Time",
         "rawType": "object",
         "type": "unknown"
        },
        {
         "name": "Radiation",
         "rawType": "float64",
         "type": "float"
        },
        {
         "name": "Temperature",
         "rawType": "float64",
         "type": "float"
        },
        {
         "name": "Pressure",
         "rawType": "float64",
         "type": "float"
        },
        {
         "name": "Humidity",
         "rawType": "float64",
         "type": "float"
        },
        {
         "name": "WindDirection(Degrees)",
         "rawType": "float64",
         "type": "float"
        },
        {
         "name": "Speed",
         "rawType": "float64",
         "type": "float"
        }
       ],
       "ref": "fafe8f0c-153c-48df-b5f4-0a2594e28332",
       "rows": [
        [
         "count",
         "32686.0",
         "32686",
         "32686.0",
         "32686.0",
         "32686.0",
         "32686.0",
         "32686.0",
         "32686.0"
        ],
        [
         "mean",
         "1478047264.9448082",
         "2025-05-25 12:01:17.574068480",
         "207.12469742397357",
         "51.10325521630055",
         "30.42287890840115",
         "75.01630667564095",
         "143.48982071835036",
         "6.243869240653491"
        ],
        [
         "min",
         "1472724008.0",
         "2025-05-25 00:00:01",
         "1.11",
         "34.0",
         "30.19",
         "8.0",
         "0.09",
         "0.0"
        ],
        [
         "25%",
         "1475546497.5",
         "2025-05-25 06:00:17",
         "1.23",
         "46.0",
         "30.4",
         "56.0",
         "82.22749999999999",
         "3.37"
        ],
        [
         "50%",
         "1478026069.5",
         "2025-05-25 12:00:30",
         "2.66",
         "50.0",
         "30.43",
         "85.0",
         "147.7",
         "5.62"
        ],
        [
         "75%",
         "1480480128.0",
         "2025-05-25 18:00:49",
         "354.235",
         "55.0",
         "30.46",
         "97.0",
         "179.31",
         "7.87"
        ],
        [
         "max",
         "1483264501.0",
         "2025-05-25 23:56:25",
         "1601.26",
         "71.0",
         "30.56",
         "103.0",
         "359.95",
         "40.5"
        ],
        [
         "std",
         "3005036.6420480353",
         null,
         "315.91638719511025",
         "6.20115735704016",
         "0.05467315506388666",
         "25.990218508443228",
         "83.16749964761783",
         "3.4904735500653947"
        ]
       ],
       "shape": {
        "columns": 8,
        "rows": 8
       }
      },
      "text/html": [
       "<div>\n",
       "<style scoped>\n",
       "    .dataframe tbody tr th:only-of-type {\n",
       "        vertical-align: middle;\n",
       "    }\n",
       "\n",
       "    .dataframe tbody tr th {\n",
       "        vertical-align: top;\n",
       "    }\n",
       "\n",
       "    .dataframe thead th {\n",
       "        text-align: right;\n",
       "    }\n",
       "</style>\n",
       "<table border=\"1\" class=\"dataframe\">\n",
       "  <thead>\n",
       "    <tr style=\"text-align: right;\">\n",
       "      <th></th>\n",
       "      <th>UNIXTime</th>\n",
       "      <th>Time</th>\n",
       "      <th>Radiation</th>\n",
       "      <th>Temperature</th>\n",
       "      <th>Pressure</th>\n",
       "      <th>Humidity</th>\n",
       "      <th>WindDirection(Degrees)</th>\n",
       "      <th>Speed</th>\n",
       "    </tr>\n",
       "  </thead>\n",
       "  <tbody>\n",
       "    <tr>\n",
       "      <th>count</th>\n",
       "      <td>3.268600e+04</td>\n",
       "      <td>32686</td>\n",
       "      <td>32686.000000</td>\n",
       "      <td>32686.000000</td>\n",
       "      <td>32686.000000</td>\n",
       "      <td>32686.000000</td>\n",
       "      <td>32686.000000</td>\n",
       "      <td>32686.000000</td>\n",
       "    </tr>\n",
       "    <tr>\n",
       "      <th>mean</th>\n",
       "      <td>1.478047e+09</td>\n",
       "      <td>2025-05-25 12:01:17.574068480</td>\n",
       "      <td>207.124697</td>\n",
       "      <td>51.103255</td>\n",
       "      <td>30.422879</td>\n",
       "      <td>75.016307</td>\n",
       "      <td>143.489821</td>\n",
       "      <td>6.243869</td>\n",
       "    </tr>\n",
       "    <tr>\n",
       "      <th>min</th>\n",
       "      <td>1.472724e+09</td>\n",
       "      <td>2025-05-25 00:00:01</td>\n",
       "      <td>1.110000</td>\n",
       "      <td>34.000000</td>\n",
       "      <td>30.190000</td>\n",
       "      <td>8.000000</td>\n",
       "      <td>0.090000</td>\n",
       "      <td>0.000000</td>\n",
       "    </tr>\n",
       "    <tr>\n",
       "      <th>25%</th>\n",
       "      <td>1.475546e+09</td>\n",
       "      <td>2025-05-25 06:00:17</td>\n",
       "      <td>1.230000</td>\n",
       "      <td>46.000000</td>\n",
       "      <td>30.400000</td>\n",
       "      <td>56.000000</td>\n",
       "      <td>82.227500</td>\n",
       "      <td>3.370000</td>\n",
       "    </tr>\n",
       "    <tr>\n",
       "      <th>50%</th>\n",
       "      <td>1.478026e+09</td>\n",
       "      <td>2025-05-25 12:00:30</td>\n",
       "      <td>2.660000</td>\n",
       "      <td>50.000000</td>\n",
       "      <td>30.430000</td>\n",
       "      <td>85.000000</td>\n",
       "      <td>147.700000</td>\n",
       "      <td>5.620000</td>\n",
       "    </tr>\n",
       "    <tr>\n",
       "      <th>75%</th>\n",
       "      <td>1.480480e+09</td>\n",
       "      <td>2025-05-25 18:00:49</td>\n",
       "      <td>354.235000</td>\n",
       "      <td>55.000000</td>\n",
       "      <td>30.460000</td>\n",
       "      <td>97.000000</td>\n",
       "      <td>179.310000</td>\n",
       "      <td>7.870000</td>\n",
       "    </tr>\n",
       "    <tr>\n",
       "      <th>max</th>\n",
       "      <td>1.483265e+09</td>\n",
       "      <td>2025-05-25 23:56:25</td>\n",
       "      <td>1601.260000</td>\n",
       "      <td>71.000000</td>\n",
       "      <td>30.560000</td>\n",
       "      <td>103.000000</td>\n",
       "      <td>359.950000</td>\n",
       "      <td>40.500000</td>\n",
       "    </tr>\n",
       "    <tr>\n",
       "      <th>std</th>\n",
       "      <td>3.005037e+06</td>\n",
       "      <td>NaN</td>\n",
       "      <td>315.916387</td>\n",
       "      <td>6.201157</td>\n",
       "      <td>0.054673</td>\n",
       "      <td>25.990219</td>\n",
       "      <td>83.167500</td>\n",
       "      <td>3.490474</td>\n",
       "    </tr>\n",
       "  </tbody>\n",
       "</table>\n",
       "</div>"
      ],
      "text/plain": [
       "           UNIXTime                           Time     Radiation  \\\n",
       "count  3.268600e+04                          32686  32686.000000   \n",
       "mean   1.478047e+09  2025-05-25 12:01:17.574068480    207.124697   \n",
       "min    1.472724e+09            2025-05-25 00:00:01      1.110000   \n",
       "25%    1.475546e+09            2025-05-25 06:00:17      1.230000   \n",
       "50%    1.478026e+09            2025-05-25 12:00:30      2.660000   \n",
       "75%    1.480480e+09            2025-05-25 18:00:49    354.235000   \n",
       "max    1.483265e+09            2025-05-25 23:56:25   1601.260000   \n",
       "std    3.005037e+06                            NaN    315.916387   \n",
       "\n",
       "        Temperature      Pressure      Humidity  WindDirection(Degrees)  \\\n",
       "count  32686.000000  32686.000000  32686.000000            32686.000000   \n",
       "mean      51.103255     30.422879     75.016307              143.489821   \n",
       "min       34.000000     30.190000      8.000000                0.090000   \n",
       "25%       46.000000     30.400000     56.000000               82.227500   \n",
       "50%       50.000000     30.430000     85.000000              147.700000   \n",
       "75%       55.000000     30.460000     97.000000              179.310000   \n",
       "max       71.000000     30.560000    103.000000              359.950000   \n",
       "std        6.201157      0.054673     25.990219               83.167500   \n",
       "\n",
       "              Speed  \n",
       "count  32686.000000  \n",
       "mean       6.243869  \n",
       "min        0.000000  \n",
       "25%        3.370000  \n",
       "50%        5.620000  \n",
       "75%        7.870000  \n",
       "max       40.500000  \n",
       "std        3.490474  "
      ]
     },
     "execution_count": 6,
     "metadata": {},
     "output_type": "execute_result"
    }
   ],
   "source": [
    "df.describe()"
   ]
  },
  {
   "cell_type": "code",
   "execution_count": 8,
   "id": "88c58639",
   "metadata": {},
   "outputs": [
    {
     "data": {
      "text/plain": [
       "np.int64(0)"
      ]
     },
     "execution_count": 8,
     "metadata": {},
     "output_type": "execute_result"
    }
   ],
   "source": [
    "df.duplicated().sum()"
   ]
  },
  {
   "cell_type": "code",
   "execution_count": 9,
   "id": "9787afb1",
   "metadata": {},
   "outputs": [
    {
     "data": {
      "image/png": "[encoded data removed]",
      "text/plain": [
       "<Figure size 800x500 with 1 Axes>"
      ]
     },
     "metadata": {},
     "output_type": "display_data"
    }
   ],
   "source": [
    "plt.figure(figsize=(8,5))\n",
    "sns.histplot(df['Radiation'], kde=True, bins=50, color='orange')\n",
    "plt.title('Distribusi Nilai Radiasi Matahari')\n",
    "plt.xlabel('Radiation')\n",
    "plt.ylabel('Frequency')\n",
    "plt.show()"
   ]
  },
  {
   "cell_type": "code",
   "execution_count": 10,
   "id": "6c459e17",
   "metadata": {},
   "outputs": [],
   "source": [
    "numerical_cols = ['Radiation', 'Temperature', 'Pressure', 'Humidity', 'WindDirection(Degrees)', 'Speed']\n",
    "correlation_matrix = df[numerical_cols].corr()"
   ]
  },
  {
   "cell_type": "code",
   "execution_count": 11,
   "id": "6a4a9883",
   "metadata": {},
   "outputs": [
    {
     "data": {
      "image/png": "[encoded data removed]",
      "text/plain": [
       "<Figure size 1000x700 with 2 Axes>"
      ]
     },
     "metadata": {},
     "output_type": "display_data"
    }
   ],
   "source": [
    "plt.figure(figsize=(10, 7))\n",
    "sns.heatmap(correlation_matrix, annot=True, cmap='coolwarm', fmt='.2f')\n",
    "plt.title('Heatmap Korelasi antar Fitur')\n",
    "plt.show()"
   ]
  },
  {
   "cell_type": "markdown",
   "id": "405958f8",
   "metadata": {},
   "source": [
    "## Data Preprocessing"
   ]
  },
  {
   "cell_type": "code",
   "execution_count": 12,
   "id": "18ecfc29",
   "metadata": {},
   "outputs": [],
   "source": [
    "def time_to_minutes(t):\n",
    "    return t.hour * 60 + t.minute + t.second / 60\n",
    "df['Temperature'] = df['Temperature'].astype(float)\n",
    "df['Humidity'] = df['Humidity'].astype(float)\n",
    "df['TimeSunRise'] = pd.to_datetime(df['TimeSunRise'], format=\"%H:%M:%S\").dt.time\n",
    "df['TimeSunSet'] = pd.to_datetime(df['TimeSunSet'], format=\"%H:%M:%S\").dt.time\n",
    "df['SunRiseMinutes'] = df['TimeSunRise'].apply(time_to_minutes)\n",
    "df['SunSetMinutes'] = df['TimeSunSet'].apply(time_to_minutes)\n",
    "df['CurrentMinutes'] = df['Time'].apply(time_to_minutes)\n",
    "df['MinutesSinceSunrise'] = df['CurrentMinutes'] - df['SunRiseMinutes']\n",
    "df['MinutesUntilSunset'] = df['SunSetMinutes'] - df['CurrentMinutes']\n",
    "df['DaylightDuration'] = df['SunSetMinutes'] - df['SunRiseMinutes']\n",
    "df = df.drop(columns=['UNIXTime','Data','Time','TimeSunRise','TimeSunSet'])"
   ]
  },
  {
   "cell_type": "code",
   "execution_count": 13,
   "id": "490ee646",
   "metadata": {},
   "outputs": [
    {
     "name": "stdout",
     "output_type": "stream",
     "text": [
      "Kolom Radiation : 1965 outlier\n",
      "Kolom Temperature : 89 outlier\n",
      "Kolom Pressure : 1662 outlier\n",
      "Kolom Humidity : 0 outlier\n",
      "Kolom WindDirection(Degrees) : 1618 outlier\n",
      "Kolom Speed : 479 outlier\n",
      "Kolom SunRiseMinutes : 0 outlier\n",
      "Kolom SunSetMinutes : 0 outlier\n",
      "Kolom CurrentMinutes : 0 outlier\n",
      "Kolom MinutesSinceSunrise : 0 outlier\n",
      "Kolom MinutesUntilSunset : 0 outlier\n",
      "Kolom DaylightDuration : 0 outlier\n"
     ]
    }
   ],
   "source": [
    "numeric =  df.select_dtypes(include=\"number\").columns\n",
    "for i in numeric:\n",
    "    Q1 = df[i].quantile(0.25)\n",
    "    Q3 = df[i].quantile(0.75)\n",
    "    IQR = Q3 - Q1\n",
    "    lower = Q1 - 1.5 * IQR\n",
    "    upper = Q3 + 1.5 * IQR\n",
    "\n",
    "    outlier = df[(df[i] < lower) | (df[i] > upper)]\n",
    "    print(f\"Kolom {i} : {len(outlier)} outlier\")"
   ]
  },
  {
   "cell_type": "code",
   "execution_count": 14,
   "id": "b6970f90",
   "metadata": {},
   "outputs": [
    {
     "name": "stdout",
     "output_type": "stream",
     "text": [
      "Kolom Radiation : 0 outlier\n",
      "Kolom Temperature : 0 outlier\n",
      "Kolom Pressure : 0 outlier\n",
      "Kolom Humidity : 0 outlier\n",
      "Kolom WindDirection(Degrees) : 0 outlier\n",
      "Kolom Speed : 0 outlier\n",
      "Kolom SunRiseMinutes : 0 outlier\n",
      "Kolom SunSetMinutes : 0 outlier\n",
      "Kolom CurrentMinutes : 0 outlier\n",
      "Kolom MinutesSinceSunrise : 0 outlier\n",
      "Kolom MinutesUntilSunset : 0 outlier\n",
      "Kolom DaylightDuration : 0 outlier\n"
     ]
    }
   ],
   "source": [
    "def outlierhandling(series):\n",
    "    Q1 = df[series].quantile(0.25)\n",
    "    Q3 = df[series].quantile(0.75)\n",
    "    IQR = Q3 - Q1\n",
    "    lower = Q1 - 1.5 * IQR\n",
    "    upper = Q3 + 1.5 * IQR\n",
    "    df.loc[df[series] > upper, series] = upper\n",
    "    df.loc[df[series] < lower, series] = lower\n",
    "    return df\n",
    "for i in numeric:\n",
    "    df = outlierhandling(i)\n",
    "for i in numeric:\n",
    "    Q1 = df[i].quantile(0.25)\n",
    "    Q3 = df[i].quantile(0.75)\n",
    "    IQR = Q3 - Q1\n",
    "    lower = Q1 - 1.5 * IQR\n",
    "    upper = Q3 + 1.5 * IQR\n",
    "    outlier = df[(df[i] < lower) | (df[i] > upper)]\n",
    "    print(f\"Kolom {i} : {len(outlier)} outlier\")"
   ]
  },
  {
   "cell_type": "code",
   "execution_count": 15,
   "id": "b4e9a304",
   "metadata": {},
   "outputs": [],
   "source": [
    "X = df.drop('Radiation',axis=1)\n",
    "y = df['Radiation']\n",
    "\n",
    "X_train,X_test,y_train,y_test = train_test_split(X, y, test_size=0.2, random_state=42)\n",
    "\n",
    "scaler = StandardScaler()\n",
    "X_train_scaled = scaler.fit_transform(X_train)\n",
    "X_test_scaled = scaler.transform(X_test)"
   ]
  },
  {
   "cell_type": "markdown",
   "id": "4c6a6b7c",
   "metadata": {},
   "source": [
    "## Modelling"
   ]
  },
  {
   "cell_type": "code",
   "execution_count": 16,
   "id": "4231f750",
   "metadata": {},
   "outputs": [
    {
     "name": "stderr",
     "output_type": "stream",
     "text": [
      "d:\\Dicoding\\Predictive-Analytic\\.venv\\lib\\site-packages\\keras\\src\\layers\\core\\dense.py:93: UserWarning: Do not pass an `input_shape`/`input_dim` argument to a layer. When using Sequential models, prefer using an `Input(shape)` object as the first layer in the model instead.\n",
      "  super().__init__(activity_regularizer=activity_regularizer, **kwargs)\n"
     ]
    },
    {
     "data": {
      "text/html": [
       "<pre style=\"white-space:pre;overflow-x:auto;line-height:normal;font-family:Menlo,'DejaVu Sans Mono',consolas,'Courier New',monospace\"><span style=\"font-weight: bold\">Model: \"sequential\"</span>\n",
       "</pre>\n"
      ],
      "text/plain": [
       "\u001b[1mModel: \"sequential\"\u001b[0m\n"
      ]
     },
     "metadata": {},
     "output_type": "display_data"
    },
    {
     "data": {
      "text/html": [
       "<pre style=\"white-space:pre;overflow-x:auto;line-height:normal;font-family:Menlo,'DejaVu Sans Mono',consolas,'Courier New',monospace\">┏━━━━━━━━━━━━━━━━━━━━━━━━━━━━━━━━━┳━━━━━━━━━━━━━━━━━━━━━━━━┳━━━━━━━━━━━━━━━┓\n",
       "┃<span style=\"font-weight: bold\"> Layer (type)                    </span>┃<span style=\"font-weight: bold\"> Output Shape           </span>┃<span style=\"font-weight: bold\">       Param # </span>┃\n",
       "┡━━━━━━━━━━━━━━━━━━━━━━━━━━━━━━━━━╇━━━━━━━━━━━━━━━━━━━━━━━━╇━━━━━━━━━━━━━━━┩\n",
       "│ dense (<span style=\"color: #0087ff; text-decoration-color: #0087ff\">Dense</span>)                   │ (<span style=\"color: #00d7ff; text-decoration-color: #00d7ff\">None</span>, <span style=\"color: #00af00; text-decoration-color: #00af00\">32</span>)             │           <span style=\"color: #00af00; text-decoration-color: #00af00\">384</span> │\n",
       "├─────────────────────────────────┼────────────────────────┼───────────────┤\n",
       "│ dense_1 (<span style=\"color: #0087ff; text-decoration-color: #0087ff\">Dense</span>)                 │ (<span style=\"color: #00d7ff; text-decoration-color: #00d7ff\">None</span>, <span style=\"color: #00af00; text-decoration-color: #00af00\">64</span>)             │         <span style=\"color: #00af00; text-decoration-color: #00af00\">2,112</span> │\n",
       "├─────────────────────────────────┼────────────────────────┼───────────────┤\n",
       "│ dense_2 (<span style=\"color: #0087ff; text-decoration-color: #0087ff\">Dense</span>)                 │ (<span style=\"color: #00d7ff; text-decoration-color: #00d7ff\">None</span>, <span style=\"color: #00af00; text-decoration-color: #00af00\">128</span>)            │         <span style=\"color: #00af00; text-decoration-color: #00af00\">8,320</span> │\n",
       "├─────────────────────────────────┼────────────────────────┼───────────────┤\n",
       "│ dense_3 (<span style=\"color: #0087ff; text-decoration-color: #0087ff\">Dense</span>)                 │ (<span style=\"color: #00d7ff; text-decoration-color: #00d7ff\">None</span>, <span style=\"color: #00af00; text-decoration-color: #00af00\">256</span>)            │        <span style=\"color: #00af00; text-decoration-color: #00af00\">33,024</span> │\n",
       "├─────────────────────────────────┼────────────────────────┼───────────────┤\n",
       "│ dense_4 (<span style=\"color: #0087ff; text-decoration-color: #0087ff\">Dense</span>)                 │ (<span style=\"color: #00d7ff; text-decoration-color: #00d7ff\">None</span>, <span style=\"color: #00af00; text-decoration-color: #00af00\">512</span>)            │       <span style=\"color: #00af00; text-decoration-color: #00af00\">131,584</span> │\n",
       "├─────────────────────────────────┼────────────────────────┼───────────────┤\n",
       "│ dense_5 (<span style=\"color: #0087ff; text-decoration-color: #0087ff\">Dense</span>)                 │ (<span style=\"color: #00d7ff; text-decoration-color: #00d7ff\">None</span>, <span style=\"color: #00af00; text-decoration-color: #00af00\">1</span>)              │           <span style=\"color: #00af00; text-decoration-color: #00af00\">513</span> │\n",
       "└─────────────────────────────────┴────────────────────────┴───────────────┘\n",
       "</pre>\n"
      ],
      "text/plain": [
       "┏━━━━━━━━━━━━━━━━━━━━━━━━━━━━━━━━━┳━━━━━━━━━━━━━━━━━━━━━━━━┳━━━━━━━━━━━━━━━┓\n",
       "┃\u001b[1m \u001b[0m\u001b[1mLayer (type)                   \u001b[0m\u001b[1m \u001b[0m┃\u001b[1m \u001b[0m\u001b[1mOutput Shape          \u001b[0m\u001b[1m \u001b[0m┃\u001b[1m \u001b[0m\u001b[1m      Param #\u001b[0m\u001b[1m \u001b[0m┃\n",
       "┡━━━━━━━━━━━━━━━━━━━━━━━━━━━━━━━━━╇━━━━━━━━━━━━━━━━━━━━━━━━╇━━━━━━━━━━━━━━━┩\n",
       "│ dense (\u001b[38;5;33mDense\u001b[0m)                   │ (\u001b[38;5;45mNone\u001b[0m, \u001b[38;5;34m32\u001b[0m)             │           \u001b[38;5;34m384\u001b[0m │\n",
       "├─────────────────────────────────┼────────────────────────┼───────────────┤\n",
       "│ dense_1 (\u001b[38;5;33mDense\u001b[0m)                 │ (\u001b[38;5;45mNone\u001b[0m, \u001b[38;5;34m64\u001b[0m)             │         \u001b[38;5;34m2,112\u001b[0m │\n",
       "├─────────────────────────────────┼────────────────────────┼───────────────┤\n",
       "│ dense_2 (\u001b[38;5;33mDense\u001b[0m)                 │ (\u001b[38;5;45mNone\u001b[0m, \u001b[38;5;34m128\u001b[0m)            │         \u001b[38;5;34m8,320\u001b[0m │\n",
       "├─────────────────────────────────┼────────────────────────┼───────────────┤\n",
       "│ dense_3 (\u001b[38;5;33mDense\u001b[0m)                 │ (\u001b[38;5;45mNone\u001b[0m, \u001b[38;5;34m256\u001b[0m)            │        \u001b[38;5;34m33,024\u001b[0m │\n",
       "├─────────────────────────────────┼────────────────────────┼───────────────┤\n",
       "│ dense_4 (\u001b[38;5;33mDense\u001b[0m)                 │ (\u001b[38;5;45mNone\u001b[0m, \u001b[38;5;34m512\u001b[0m)            │       \u001b[38;5;34m131,584\u001b[0m │\n",
       "├─────────────────────────────────┼────────────────────────┼───────────────┤\n",
       "│ dense_5 (\u001b[38;5;33mDense\u001b[0m)                 │ (\u001b[38;5;45mNone\u001b[0m, \u001b[38;5;34m1\u001b[0m)              │           \u001b[38;5;34m513\u001b[0m │\n",
       "└─────────────────────────────────┴────────────────────────┴───────────────┘\n"
      ]
     },
     "metadata": {},
     "output_type": "display_data"
    },
    {
     "data": {
      "text/html": [
       "<pre style=\"white-space:pre;overflow-x:auto;line-height:normal;font-family:Menlo,'DejaVu Sans Mono',consolas,'Courier New',monospace\"><span style=\"font-weight: bold\"> Total params: </span><span style=\"color: #00af00; text-decoration-color: #00af00\">175,937</span> (687.25 KB)\n",
       "</pre>\n"
      ],
      "text/plain": [
       "\u001b[1m Total params: \u001b[0m\u001b[38;5;34m175,937\u001b[0m (687.25 KB)\n"
      ]
     },
     "metadata": {},
     "output_type": "display_data"
    },
    {
     "data": {
      "text/html": [
       "<pre style=\"white-space:pre;overflow-x:auto;line-height:normal;font-family:Menlo,'DejaVu Sans Mono',consolas,'Courier New',monospace\"><span style=\"font-weight: bold\"> Trainable params: </span><span style=\"color: #00af00; text-decoration-color: #00af00\">175,937</span> (687.25 KB)\n",
       "</pre>\n"
      ],
      "text/plain": [
       "\u001b[1m Trainable params: \u001b[0m\u001b[38;5;34m175,937\u001b[0m (687.25 KB)\n"
      ]
     },
     "metadata": {},
     "output_type": "display_data"
    },
    {
     "data": {
      "text/html": [
       "<pre style=\"white-space:pre;overflow-x:auto;line-height:normal;font-family:Menlo,'DejaVu Sans Mono',consolas,'Courier New',monospace\"><span style=\"font-weight: bold\"> Non-trainable params: </span><span style=\"color: #00af00; text-decoration-color: #00af00\">0</span> (0.00 B)\n",
       "</pre>\n"
      ],
      "text/plain": [
       "\u001b[1m Non-trainable params: \u001b[0m\u001b[38;5;34m0\u001b[0m (0.00 B)\n"
      ]
     },
     "metadata": {},
     "output_type": "display_data"
    }
   ],
   "source": [
    "model = Sequential([\n",
    "    Dense(32, activation='relu', input_shape=(X_train_scaled.shape[1],)),\n",
    "    Dense(64, activation='relu'),\n",
    "    Dense(128, activation='relu'),\n",
    "    Dense(256, activation='relu'),\n",
    "    Dense(512, activation='relu'),\n",
    "    Dense(1)\n",
    "])\n",
    "model.compile(optimizer='Adam', loss='mse', metrics=['mae'])\n",
    "model.summary()"
   ]
  },
  {
   "cell_type": "code",
   "execution_count": 17,
   "id": "f5c2fb38",
   "metadata": {},
   "outputs": [],
   "source": [
    "callback = [\n",
    "    EarlyStopping(patience=5, restore_best_weights=True),\n",
    "    ReduceLROnPlateau(monitor='val_loss', factor=0.5, patience=5, min_lr=1e-6,verbose=1),\n",
    "    ModelCheckpoint(filepath='../models/best_model.keras', monitor='val_loss', save_best_only=True, mode='min', verbose=1)\n",
    "]"
   ]
  },
  {
   "cell_type": "code",
   "execution_count": 18,
   "id": "50d89179",
   "metadata": {},
   "outputs": [
    {
     "name": "stdout",
     "output_type": "stream",
     "text": [
      "Epoch 1/100\n",
      "\u001b[1m317/327\u001b[0m \u001b[32m━━━━━━━━━━━━━━━━━━━\u001b[0m\u001b[37m━\u001b[0m \u001b[1m0s\u001b[0m 4ms/step - loss: 66210.3984 - mae: 163.4243\n",
      "Epoch 1: val_loss improved from inf to 16328.24121, saving model to ../models/best_model.keras\n",
      "\u001b[1m327/327\u001b[0m \u001b[32m━━━━━━━━━━━━━━━━━━━━\u001b[0m\u001b[37m\u001b[0m \u001b[1m3s\u001b[0m 5ms/step - loss: 65218.2930 - mae: 161.8263 - val_loss: 16328.2412 - val_mae: 67.5570 - learning_rate: 0.0010\n",
      "Epoch 2/100\n",
      "\u001b[1m321/327\u001b[0m \u001b[32m━━━━━━━━━━━━━━━━━━━\u001b[0m\u001b[37m━\u001b[0m \u001b[1m0s\u001b[0m 3ms/step - loss: 14329.5654 - mae: 63.7946\n",
      "Epoch 2: val_loss improved from 16328.24121 to 11213.68164, saving model to ../models/best_model.keras\n",
      "\u001b[1m327/327\u001b[0m \u001b[32m━━━━━━━━━━━━━━━━━━━━\u001b[0m\u001b[37m\u001b[0m \u001b[1m2s\u001b[0m 4ms/step - loss: 14310.9639 - mae: 63.7391 - val_loss: 11213.6816 - val_mae: 55.5730 - learning_rate: 0.0010\n",
      "Epoch 3/100\n",
      "\u001b[1m312/327\u001b[0m \u001b[32m━━━━━━━━━━━━━━━━━━━\u001b[0m\u001b[37m━\u001b[0m \u001b[1m0s\u001b[0m 4ms/step - loss: 11266.6953 - mae: 54.8700\n",
      "Epoch 3: val_loss improved from 11213.68164 to 10016.27539, saving model to ../models/best_model.keras\n",
      "\u001b[1m327/327\u001b[0m \u001b[32m━━━━━━━━━━━━━━━━━━━━\u001b[0m\u001b[37m\u001b[0m \u001b[1m1s\u001b[0m 4ms/step - loss: 11239.3877 - mae: 54.7944 - val_loss: 10016.2754 - val_mae: 50.2949 - learning_rate: 0.0010\n",
      "Epoch 4/100\n",
      "\u001b[1m314/327\u001b[0m \u001b[32m━━━━━━━━━━━━━━━━━━━\u001b[0m\u001b[37m━\u001b[0m \u001b[1m0s\u001b[0m 3ms/step - loss: 9518.4561 - mae: 49.0453\n",
      "Epoch 4: val_loss improved from 10016.27539 to 9396.31738, saving model to ../models/best_model.keras\n",
      "\u001b[1m327/327\u001b[0m \u001b[32m━━━━━━━━━━━━━━━━━━━━\u001b[0m\u001b[37m\u001b[0m \u001b[1m1s\u001b[0m 4ms/step - loss: 9521.3271 - mae: 49.0442 - val_loss: 9396.3174 - val_mae: 50.0785 - learning_rate: 0.0010\n",
      "Epoch 5/100\n",
      "\u001b[1m327/327\u001b[0m \u001b[32m━━━━━━━━━━━━━━━━━━━━\u001b[0m\u001b[37m\u001b[0m \u001b[1m0s\u001b[0m 4ms/step - loss: 8656.2969 - mae: 46.3571\n",
      "Epoch 5: val_loss improved from 9396.31738 to 8936.02246, saving model to ../models/best_model.keras\n",
      "\u001b[1m327/327\u001b[0m \u001b[32m━━━━━━━━━━━━━━━━━━━━\u001b[0m\u001b[37m\u001b[0m \u001b[1m2s\u001b[0m 5ms/step - loss: 8657.4453 - mae: 46.3597 - val_loss: 8936.0225 - val_mae: 46.9592 - learning_rate: 0.0010\n",
      "Epoch 6/100\n",
      "\u001b[1m315/327\u001b[0m \u001b[32m━━━━━━━━━━━━━━━━━━━\u001b[0m\u001b[37m━\u001b[0m \u001b[1m0s\u001b[0m 4ms/step - loss: 8864.9189 - mae: 46.5032\n",
      "Epoch 6: val_loss improved from 8936.02246 to 8705.31055, saving model to ../models/best_model.keras\n",
      "\u001b[1m327/327\u001b[0m \u001b[32m━━━━━━━━━━━━━━━━━━━━\u001b[0m\u001b[37m\u001b[0m \u001b[1m1s\u001b[0m 4ms/step - loss: 8860.2324 - mae: 46.4771 - val_loss: 8705.3105 - val_mae: 46.1990 - learning_rate: 0.0010\n",
      "Epoch 7/100\n",
      "\u001b[1m323/327\u001b[0m \u001b[32m━━━━━━━━━━━━━━━━━━━\u001b[0m\u001b[37m━\u001b[0m \u001b[1m0s\u001b[0m 4ms/step - loss: 8168.7280 - mae: 44.1087\n",
      "Epoch 7: val_loss improved from 8705.31055 to 8051.66406, saving model to ../models/best_model.keras\n",
      "\u001b[1m327/327\u001b[0m \u001b[32m━━━━━━━━━━━━━━━━━━━━\u001b[0m\u001b[37m\u001b[0m \u001b[1m2s\u001b[0m 4ms/step - loss: 8172.3120 - mae: 44.1168 - val_loss: 8051.6641 - val_mae: 43.1773 - learning_rate: 0.0010\n",
      "Epoch 8/100\n",
      "\u001b[1m325/327\u001b[0m \u001b[32m━━━━━━━━━━━━━━━━━━━\u001b[0m\u001b[37m━\u001b[0m \u001b[1m0s\u001b[0m 4ms/step - loss: 8461.6582 - mae: 44.6444\n",
      "Epoch 8: val_loss did not improve from 8051.66406\n",
      "\u001b[1m327/327\u001b[0m \u001b[32m━━━━━━━━━━━━━━━━━━━━\u001b[0m\u001b[37m\u001b[0m \u001b[1m1s\u001b[0m 4ms/step - loss: 8459.1982 - mae: 44.6348 - val_loss: 8235.9912 - val_mae: 43.9128 - learning_rate: 0.0010\n",
      "Epoch 9/100\n",
      "\u001b[1m315/327\u001b[0m \u001b[32m━━━━━━━━━━━━━━━━━━━\u001b[0m\u001b[37m━\u001b[0m \u001b[1m0s\u001b[0m 3ms/step - loss: 7825.8486 - mae: 41.9963\n",
      "Epoch 9: val_loss improved from 8051.66406 to 7760.13086, saving model to ../models/best_model.keras\n",
      "\u001b[1m327/327\u001b[0m \u001b[32m━━━━━━━━━━━━━━━━━━━━\u001b[0m\u001b[37m\u001b[0m \u001b[1m1s\u001b[0m 4ms/step - loss: 7832.2505 - mae: 42.0305 - val_loss: 7760.1309 - val_mae: 41.6975 - learning_rate: 0.0010\n",
      "Epoch 10/100\n",
      "\u001b[1m316/327\u001b[0m \u001b[32m━━━━━━━━━━━━━━━━━━━\u001b[0m\u001b[37m━\u001b[0m \u001b[1m0s\u001b[0m 3ms/step - loss: 7713.2549 - mae: 42.2307\n",
      "Epoch 10: val_loss did not improve from 7760.13086\n",
      "\u001b[1m327/327\u001b[0m \u001b[32m━━━━━━━━━━━━━━━━━━━━\u001b[0m\u001b[37m\u001b[0m \u001b[1m1s\u001b[0m 4ms/step - loss: 7714.9800 - mae: 42.2249 - val_loss: 8523.4834 - val_mae: 46.4052 - learning_rate: 0.0010\n",
      "Epoch 11/100\n",
      "\u001b[1m315/327\u001b[0m \u001b[32m━━━━━━━━━━━━━━━━━━━\u001b[0m\u001b[37m━\u001b[0m \u001b[1m0s\u001b[0m 4ms/step - loss: 7742.6821 - mae: 41.9867\n",
      "Epoch 11: val_loss did not improve from 7760.13086\n",
      "\u001b[1m327/327\u001b[0m \u001b[32m━━━━━━━━━━━━━━━━━━━━\u001b[0m\u001b[37m\u001b[0m \u001b[1m1s\u001b[0m 4ms/step - loss: 7740.6274 - mae: 41.9905 - val_loss: 8699.4678 - val_mae: 44.4633 - learning_rate: 0.0010\n",
      "Epoch 12/100\n",
      "\u001b[1m311/327\u001b[0m \u001b[32m━━━━━━━━━━━━━━━━━━━\u001b[0m\u001b[37m━\u001b[0m \u001b[1m0s\u001b[0m 3ms/step - loss: 7917.3066 - mae: 42.2871\n",
      "Epoch 12: val_loss improved from 7760.13086 to 7251.49902, saving model to ../models/best_model.keras\n",
      "\u001b[1m327/327\u001b[0m \u001b[32m━━━━━━━━━━━━━━━━━━━━\u001b[0m\u001b[37m\u001b[0m \u001b[1m1s\u001b[0m 4ms/step - loss: 7904.4600 - mae: 42.2750 - val_loss: 7251.4990 - val_mae: 39.7050 - learning_rate: 0.0010\n",
      "Epoch 13/100\n",
      "\u001b[1m317/327\u001b[0m \u001b[32m━━━━━━━━━━━━━━━━━━━\u001b[0m\u001b[37m━\u001b[0m \u001b[1m0s\u001b[0m 4ms/step - loss: 7802.9219 - mae: 42.6073\n",
      "Epoch 13: val_loss did not improve from 7251.49902\n",
      "\u001b[1m327/327\u001b[0m \u001b[32m━━━━━━━━━━━━━━━━━━━━\u001b[0m\u001b[37m\u001b[0m \u001b[1m1s\u001b[0m 4ms/step - loss: 7793.3999 - mae: 42.5748 - val_loss: 7687.2407 - val_mae: 40.7675 - learning_rate: 0.0010\n",
      "Epoch 14/100\n",
      "\u001b[1m315/327\u001b[0m \u001b[32m━━━━━━━━━━━━━━━━━━━\u001b[0m\u001b[37m━\u001b[0m \u001b[1m0s\u001b[0m 3ms/step - loss: 7634.0249 - mae: 41.4290\n",
      "Epoch 14: val_loss improved from 7251.49902 to 7156.91602, saving model to ../models/best_model.keras\n",
      "\u001b[1m327/327\u001b[0m \u001b[32m━━━━━━━━━━━━━━━━━━━━\u001b[0m\u001b[37m\u001b[0m \u001b[1m1s\u001b[0m 4ms/step - loss: 7621.9087 - mae: 41.4029 - val_loss: 7156.9160 - val_mae: 40.0241 - learning_rate: 0.0010\n",
      "Epoch 15/100\n",
      "\u001b[1m321/327\u001b[0m \u001b[32m━━━━━━━━━━━━━━━━━━━\u001b[0m\u001b[37m━\u001b[0m \u001b[1m0s\u001b[0m 3ms/step - loss: 7045.2974 - mae: 39.7350\n",
      "Epoch 15: val_loss improved from 7156.91602 to 7149.94873, saving model to ../models/best_model.keras\n",
      "\u001b[1m327/327\u001b[0m \u001b[32m━━━━━━━━━━━━━━━━━━━━\u001b[0m\u001b[37m\u001b[0m \u001b[1m1s\u001b[0m 4ms/step - loss: 7046.0815 - mae: 39.7332 - val_loss: 7149.9487 - val_mae: 38.4986 - learning_rate: 0.0010\n",
      "Epoch 16/100\n",
      "\u001b[1m317/327\u001b[0m \u001b[32m━━━━━━━━━━━━━━━━━━━\u001b[0m\u001b[37m━\u001b[0m \u001b[1m0s\u001b[0m 4ms/step - loss: 6468.6929 - mae: 37.3034\n",
      "Epoch 16: val_loss did not improve from 7149.94873\n",
      "\u001b[1m327/327\u001b[0m \u001b[32m━━━━━━━━━━━━━━━━━━━━\u001b[0m\u001b[37m\u001b[0m \u001b[1m1s\u001b[0m 4ms/step - loss: 6483.3291 - mae: 37.3509 - val_loss: 7490.7334 - val_mae: 41.7419 - learning_rate: 0.0010\n",
      "Epoch 17/100\n",
      "\u001b[1m312/327\u001b[0m \u001b[32m━━━━━━━━━━━━━━━━━━━\u001b[0m\u001b[37m━\u001b[0m \u001b[1m0s\u001b[0m 4ms/step - loss: 7072.2637 - mae: 40.0518\n",
      "Epoch 17: val_loss did not improve from 7149.94873\n",
      "\u001b[1m327/327\u001b[0m \u001b[32m━━━━━━━━━━━━━━━━━━━━\u001b[0m\u001b[37m\u001b[0m \u001b[1m1s\u001b[0m 4ms/step - loss: 7065.6016 - mae: 40.0081 - val_loss: 7209.8247 - val_mae: 39.5901 - learning_rate: 0.0010\n",
      "Epoch 18/100\n",
      "\u001b[1m316/327\u001b[0m \u001b[32m━━━━━━━━━━━━━━━━━━━\u001b[0m\u001b[37m━\u001b[0m \u001b[1m0s\u001b[0m 4ms/step - loss: 7163.7202 - mae: 40.2151\n",
      "Epoch 18: val_loss improved from 7149.94873 to 7049.87158, saving model to ../models/best_model.keras\n",
      "\u001b[1m327/327\u001b[0m \u001b[32m━━━━━━━━━━━━━━━━━━━━\u001b[0m\u001b[37m\u001b[0m \u001b[1m2s\u001b[0m 5ms/step - loss: 7159.6260 - mae: 40.1999 - val_loss: 7049.8716 - val_mae: 38.9883 - learning_rate: 0.0010\n",
      "Epoch 19/100\n",
      "\u001b[1m314/327\u001b[0m \u001b[32m━━━━━━━━━━━━━━━━━━━\u001b[0m\u001b[37m━\u001b[0m \u001b[1m0s\u001b[0m 3ms/step - loss: 6852.8540 - mae: 39.2292\n",
      "Epoch 19: val_loss did not improve from 7049.87158\n",
      "\u001b[1m327/327\u001b[0m \u001b[32m━━━━━━━━━━━━━━━━━━━━\u001b[0m\u001b[37m\u001b[0m \u001b[1m1s\u001b[0m 4ms/step - loss: 6852.7334 - mae: 39.2220 - val_loss: 7362.3677 - val_mae: 41.6407 - learning_rate: 0.0010\n",
      "Epoch 20/100\n",
      "\u001b[1m326/327\u001b[0m \u001b[32m━━━━━━━━━━━━━━━━━━━\u001b[0m\u001b[37m━\u001b[0m \u001b[1m0s\u001b[0m 4ms/step - loss: 6542.4189 - mae: 38.0609\n",
      "Epoch 20: val_loss improved from 7049.87158 to 6768.14160, saving model to ../models/best_model.keras\n",
      "\u001b[1m327/327\u001b[0m \u001b[32m━━━━━━━━━━━━━━━━━━━━\u001b[0m\u001b[37m\u001b[0m \u001b[1m1s\u001b[0m 4ms/step - loss: 6543.2690 - mae: 38.0615 - val_loss: 6768.1416 - val_mae: 37.8815 - learning_rate: 0.0010\n",
      "Epoch 21/100\n",
      "\u001b[1m321/327\u001b[0m \u001b[32m━━━━━━━━━━━━━━━━━━━\u001b[0m\u001b[37m━\u001b[0m \u001b[1m0s\u001b[0m 3ms/step - loss: 6655.8330 - mae: 38.3140\n",
      "Epoch 21: val_loss did not improve from 6768.14160\n",
      "\u001b[1m327/327\u001b[0m \u001b[32m━━━━━━━━━━━━━━━━━━━━\u001b[0m\u001b[37m\u001b[0m \u001b[1m1s\u001b[0m 4ms/step - loss: 6653.6836 - mae: 38.3016 - val_loss: 6978.0659 - val_mae: 40.7321 - learning_rate: 0.0010\n",
      "Epoch 22/100\n",
      "\u001b[1m323/327\u001b[0m \u001b[32m━━━━━━━━━━━━━━━━━━━\u001b[0m\u001b[37m━\u001b[0m \u001b[1m0s\u001b[0m 4ms/step - loss: 6500.9023 - mae: 38.0284\n",
      "Epoch 22: val_loss did not improve from 6768.14160\n",
      "\u001b[1m327/327\u001b[0m \u001b[32m━━━━━━━━━━━━━━━━━━━━\u001b[0m\u001b[37m\u001b[0m \u001b[1m1s\u001b[0m 4ms/step - loss: 6501.3257 - mae: 38.0240 - val_loss: 7006.7441 - val_mae: 39.2958 - learning_rate: 0.0010\n",
      "Epoch 23/100\n",
      "\u001b[1m313/327\u001b[0m \u001b[32m━━━━━━━━━━━━━━━━━━━\u001b[0m\u001b[37m━\u001b[0m \u001b[1m0s\u001b[0m 3ms/step - loss: 6384.5430 - mae: 37.3097\n",
      "Epoch 23: val_loss improved from 6768.14160 to 6736.21191, saving model to ../models/best_model.keras\n",
      "\u001b[1m327/327\u001b[0m \u001b[32m━━━━━━━━━━━━━━━━━━━━\u001b[0m\u001b[37m\u001b[0m \u001b[1m1s\u001b[0m 4ms/step - loss: 6384.0547 - mae: 37.3067 - val_loss: 6736.2119 - val_mae: 38.3670 - learning_rate: 0.0010\n",
      "Epoch 24/100\n",
      "\u001b[1m316/327\u001b[0m \u001b[32m━━━━━━━━━━━━━━━━━━━\u001b[0m\u001b[37m━\u001b[0m \u001b[1m0s\u001b[0m 3ms/step - loss: 5995.2949 - mae: 35.8889\n",
      "Epoch 24: val_loss did not improve from 6736.21191\n",
      "\u001b[1m327/327\u001b[0m \u001b[32m━━━━━━━━━━━━━━━━━━━━\u001b[0m\u001b[37m\u001b[0m \u001b[1m1s\u001b[0m 4ms/step - loss: 6005.4497 - mae: 35.9268 - val_loss: 6790.1387 - val_mae: 38.8102 - learning_rate: 0.0010\n",
      "Epoch 25/100\n",
      "\u001b[1m324/327\u001b[0m \u001b[32m━━━━━━━━━━━━━━━━━━━\u001b[0m\u001b[37m━\u001b[0m \u001b[1m0s\u001b[0m 3ms/step - loss: 6119.6133 - mae: 35.8066\n",
      "Epoch 25: val_loss improved from 6736.21191 to 6479.21240, saving model to ../models/best_model.keras\n",
      "\u001b[1m327/327\u001b[0m \u001b[32m━━━━━━━━━━━━━━━━━━━━\u001b[0m\u001b[37m\u001b[0m \u001b[1m1s\u001b[0m 4ms/step - loss: 6120.7915 - mae: 35.8116 - val_loss: 6479.2124 - val_mae: 36.7506 - learning_rate: 0.0010\n",
      "Epoch 26/100\n",
      "\u001b[1m325/327\u001b[0m \u001b[32m━━━━━━━━━━━━━━━━━━━\u001b[0m\u001b[37m━\u001b[0m \u001b[1m0s\u001b[0m 3ms/step - loss: 6213.7275 - mae: 36.2817\n",
      "Epoch 26: val_loss did not improve from 6479.21240\n",
      "\u001b[1m327/327\u001b[0m \u001b[32m━━━━━━━━━━━━━━━━━━━━\u001b[0m\u001b[37m\u001b[0m \u001b[1m1s\u001b[0m 4ms/step - loss: 6213.4375 - mae: 36.2826 - val_loss: 6975.3140 - val_mae: 40.7398 - learning_rate: 0.0010\n",
      "Epoch 27/100\n",
      "\u001b[1m314/327\u001b[0m \u001b[32m━━━━━━━━━━━━━━━━━━━\u001b[0m\u001b[37m━\u001b[0m \u001b[1m0s\u001b[0m 4ms/step - loss: 6269.2266 - mae: 37.2367\n",
      "Epoch 27: val_loss did not improve from 6479.21240\n",
      "\u001b[1m327/327\u001b[0m \u001b[32m━━━━━━━━━━━━━━━━━━━━\u001b[0m\u001b[37m\u001b[0m \u001b[1m1s\u001b[0m 4ms/step - loss: 6260.9189 - mae: 37.1896 - val_loss: 7598.9790 - val_mae: 41.5138 - learning_rate: 0.0010\n",
      "Epoch 28/100\n",
      "\u001b[1m312/327\u001b[0m \u001b[32m━━━━━━━━━━━━━━━━━━━\u001b[0m\u001b[37m━\u001b[0m \u001b[1m0s\u001b[0m 3ms/step - loss: 5913.1338 - mae: 36.3139\n",
      "Epoch 28: val_loss did not improve from 6479.21240\n",
      "\u001b[1m327/327\u001b[0m \u001b[32m━━━━━━━━━━━━━━━━━━━━\u001b[0m\u001b[37m\u001b[0m \u001b[1m1s\u001b[0m 4ms/step - loss: 5920.4668 - mae: 36.3048 - val_loss: 6739.7295 - val_mae: 38.3173 - learning_rate: 0.0010\n",
      "Epoch 29/100\n",
      "\u001b[1m327/327\u001b[0m \u001b[32m━━━━━━━━━━━━━━━━━━━━\u001b[0m\u001b[37m\u001b[0m \u001b[1m0s\u001b[0m 3ms/step - loss: 5888.1938 - mae: 35.7049\n",
      "Epoch 29: val_loss did not improve from 6479.21240\n",
      "\u001b[1m327/327\u001b[0m \u001b[32m━━━━━━━━━━━━━━━━━━━━\u001b[0m\u001b[37m\u001b[0m \u001b[1m1s\u001b[0m 4ms/step - loss: 5888.9438 - mae: 35.7074 - val_loss: 6596.2432 - val_mae: 38.7421 - learning_rate: 0.0010\n",
      "Epoch 30/100\n",
      "\u001b[1m309/327\u001b[0m \u001b[32m━━━━━━━━━━━━━━━━━━\u001b[0m\u001b[37m━━\u001b[0m \u001b[1m0s\u001b[0m 3ms/step - loss: 5962.6787 - mae: 35.8520\n",
      "Epoch 30: val_loss improved from 6479.21240 to 6304.91309, saving model to ../models/best_model.keras\n",
      "\u001b[1m327/327\u001b[0m \u001b[32m━━━━━━━━━━━━━━━━━━━━\u001b[0m\u001b[37m\u001b[0m \u001b[1m1s\u001b[0m 4ms/step - loss: 5959.1860 - mae: 35.8356 - val_loss: 6304.9131 - val_mae: 36.8329 - learning_rate: 0.0010\n",
      "Epoch 31/100\n",
      "\u001b[1m320/327\u001b[0m \u001b[32m━━━━━━━━━━━━━━━━━━━\u001b[0m\u001b[37m━\u001b[0m \u001b[1m0s\u001b[0m 4ms/step - loss: 5798.3452 - mae: 35.0698\n",
      "Epoch 31: val_loss did not improve from 6304.91309\n",
      "\u001b[1m327/327\u001b[0m \u001b[32m━━━━━━━━━━━━━━━━━━━━\u001b[0m\u001b[37m\u001b[0m \u001b[1m1s\u001b[0m 4ms/step - loss: 5801.6699 - mae: 35.0834 - val_loss: 6373.8521 - val_mae: 36.3152 - learning_rate: 0.0010\n",
      "Epoch 32/100\n",
      "\u001b[1m316/327\u001b[0m \u001b[32m━━━━━━━━━━━━━━━━━━━\u001b[0m\u001b[37m━\u001b[0m \u001b[1m0s\u001b[0m 3ms/step - loss: 5746.5361 - mae: 35.0204\n",
      "Epoch 32: val_loss did not improve from 6304.91309\n",
      "\u001b[1m327/327\u001b[0m \u001b[32m━━━━━━━━━━━━━━━━━━━━\u001b[0m\u001b[37m\u001b[0m \u001b[1m1s\u001b[0m 4ms/step - loss: 5751.0479 - mae: 35.0406 - val_loss: 6759.6660 - val_mae: 39.5958 - learning_rate: 0.0010\n",
      "Epoch 33/100\n",
      "\u001b[1m327/327\u001b[0m \u001b[32m━━━━━━━━━━━━━━━━━━━━\u001b[0m\u001b[37m\u001b[0m \u001b[1m0s\u001b[0m 3ms/step - loss: 5498.5562 - mae: 33.8467\n",
      "Epoch 33: val_loss did not improve from 6304.91309\n",
      "\u001b[1m327/327\u001b[0m \u001b[32m━━━━━━━━━━━━━━━━━━━━\u001b[0m\u001b[37m\u001b[0m \u001b[1m1s\u001b[0m 4ms/step - loss: 5499.1206 - mae: 33.8487 - val_loss: 6381.2959 - val_mae: 36.0746 - learning_rate: 0.0010\n",
      "Epoch 34/100\n",
      "\u001b[1m313/327\u001b[0m \u001b[32m━━━━━━━━━━━━━━━━━━━\u001b[0m\u001b[37m━\u001b[0m \u001b[1m0s\u001b[0m 3ms/step - loss: 5319.7983 - mae: 33.9092\n",
      "Epoch 34: val_loss did not improve from 6304.91309\n",
      "\u001b[1m327/327\u001b[0m \u001b[32m━━━━━━━━━━━━━━━━━━━━\u001b[0m\u001b[37m\u001b[0m \u001b[1m1s\u001b[0m 4ms/step - loss: 5335.3418 - mae: 33.9471 - val_loss: 6466.1157 - val_mae: 36.7254 - learning_rate: 0.0010\n",
      "Epoch 35/100\n",
      "\u001b[1m316/327\u001b[0m \u001b[32m━━━━━━━━━━━━━━━━━━━\u001b[0m\u001b[37m━\u001b[0m \u001b[1m0s\u001b[0m 3ms/step - loss: 5295.3750 - mae: 33.8062\n",
      "Epoch 35: ReduceLROnPlateau reducing learning rate to 0.0005000000237487257.\n",
      "\n",
      "Epoch 35: val_loss did not improve from 6304.91309\n",
      "\u001b[1m327/327\u001b[0m \u001b[32m━━━━━━━━━━━━━━━━━━━━\u001b[0m\u001b[37m\u001b[0m \u001b[1m1s\u001b[0m 4ms/step - loss: 5309.8467 - mae: 33.8411 - val_loss: 6344.0903 - val_mae: 36.1881 - learning_rate: 0.0010\n"
     ]
    }
   ],
   "source": [
    "history = model.fit(X_train_scaled,y_train, validation_split=0.2, batch_size=64, epochs=100, callbacks=[callback])"
   ]
  },
  {
   "cell_type": "markdown",
   "id": "ddd7a625",
   "metadata": {},
   "source": [
    "## Evaluation"
   ]
  },
  {
   "cell_type": "code",
   "execution_count": 19,
   "id": "092869af",
   "metadata": {},
   "outputs": [
    {
     "data": {
      "image/png": "[encoded data removed]",
      "text/plain": [
       "<Figure size 1400x500 with 2 Axes>"
      ]
     },
     "metadata": {},
     "output_type": "display_data"
    }
   ],
   "source": [
    "loss = history.history['loss']\n",
    "val_loss = history.history['val_loss']\n",
    "mae = history.history['mae']\n",
    "val_mae = history.history['val_mae']\n",
    "epochs = range(1, len(loss) + 1)\n",
    "\n",
    "# Plot Loss\n",
    "plt.figure(figsize=(14, 5))\n",
    "\n",
    "plt.subplot(1, 2, 1)\n",
    "plt.plot(epochs, loss, 'bo-', label='Training Loss')\n",
    "plt.plot(epochs, val_loss, 'ro-', label='Validation Loss')\n",
    "plt.title('Training vs Validation Loss')\n",
    "plt.xlabel('Epochs')\n",
    "plt.ylabel('MSE Loss')\n",
    "plt.legend()\n",
    "\n",
    "# Plot MAE\n",
    "plt.subplot(1, 2, 2)\n",
    "plt.plot(epochs, mae, 'bo-', label='Training MAE')\n",
    "plt.plot(epochs, val_mae, 'ro-', label='Validation MAE')\n",
    "plt.title('Training vs Validation MAE')\n",
    "plt.xlabel('Epochs')\n",
    "plt.ylabel('Mean Absolute Error')\n",
    "plt.legend()\n",
    "\n",
    "plt.tight_layout()\n",
    "plt.show()"
   ]
  },
  {
   "cell_type": "code",
   "execution_count": 20,
   "id": "f51cf4b4",
   "metadata": {},
   "outputs": [
    {
     "name": "stdout",
     "output_type": "stream",
     "text": [
      "MAE sekitar 18.32% dari rata-rata radiation\n"
     ]
    }
   ],
   "source": [
    "val_mae = history.history['val_mae'][-1]\n",
    "mae_percent = (val_mae / y_test.mean()) * 100\n",
    "print(f\"MAE sekitar {mae_percent:.2f}% dari rata-rata radiation\")"
   ]
  }
 ],
 "metadata": {
  "kernelspec": {
   "display_name": ".venv",
   "language": "python",
   "name": "python3"
  },
  "language_info": {
   "codemirror_mode": {
    "name": "ipython",
    "version": 3
   },
   "file_extension": ".py",
   "mimetype": "text/x-python",
   "name": "python",
   "nbconvert_exporter": "python",
   "pygments_lexer": "ipython3",
   "version": "3.10.0"
  }
 },
 "nbformat": 4,
 "nbformat_minor": 5
}

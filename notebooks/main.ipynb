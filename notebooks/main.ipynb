{
 "cells": [
  {
   "cell_type": "markdown",
   "id": "e193a58d",
   "metadata": {},
   "source": [
    "# **Predictive Analytics**"
   ]
  },
  {
   "cell_type": "markdown",
   "id": "5db52510",
   "metadata": {},
   "source": [
    "- Import Library"
   ]
  },
  {
   "cell_type": "code",
   "execution_count": 20,
   "id": "1195a406",
   "metadata": {},
   "outputs": [],
   "source": [
    "import pandas as pd\n",
    "import matplotlib.pyplot as plt\n",
    "import seaborn as sns\n",
    "from sklearn.model_selection import train_test_split\n",
    "from sklearn.preprocessing import StandardScaler\n",
    "from tensorflow.keras.models import Sequential\n",
    "from tensorflow.keras.layers import Dense\n",
    "from tensorflow.keras.callbacks import EarlyStopping, ReduceLROnPlateau, ModelCheckpoint"
   ]
  },
  {
   "cell_type": "markdown",
   "id": "791ddeac",
   "metadata": {},
   "source": [
    "- Load Data"
   ]
  },
  {
   "cell_type": "markdown",
   "id": "c5837833",
   "metadata": {},
   "source": [
    "Dataset yang digunakan dalam proyek ini diambil dari Kaggle - Solar Energy, yang berisi data pengukuran kondisi cuaca dan radiasi matahari di berbagai waktu. Dataset ini digunakan untuk membangun model prediktif terhadap nilai radiasi matahari berdasarkan kondisi cuaca historis. \n",
    "Solar Energy : https://www.kaggle.com/datasets/dronio/SolarEnergy."
   ]
  },
  {
   "cell_type": "code",
   "execution_count": 21,
   "id": "dec2b264",
   "metadata": {},
   "outputs": [
    {
     "name": "stderr",
     "output_type": "stream",
     "text": [
      "C:\\Users\\acer\\AppData\\Local\\Temp\\ipykernel_16188\\2920403303.py:1: UserWarning: Could not infer format, so each element will be parsed individually, falling back to `dateutil`. To ensure parsing is consistent and as-expected, please specify a format.\n",
      "  df = pd.read_csv('../data/raw/SolarPrediction.csv', parse_dates=['Time'])\n"
     ]
    }
   ],
   "source": [
    "df = pd.read_csv('../data/raw/SolarPrediction.csv', parse_dates=['Time'])"
   ]
  },
  {
   "cell_type": "markdown",
   "id": "439c1531",
   "metadata": {},
   "source": [
    "Dataset memiliki 32.686 baris dan 10 kolom data yang merepresentasikan pengukuran harian atau periodik (tergantung preprocessing) dari variabel-variabel cuaca dan radiasi matahari.\n",
    "- UNIXTime : Waktu dalam format UNIX timestamp.\n",
    "- Data : Format waktu yang telah di-decode dari UNIXTime.\n",
    "- Radiation : Nilai radiasi matahari (target yang akan diprediksi).\n",
    "- Temperature : Suhu udara pada waktu pengukuran.\n",
    "- Pressure : Tekanan udara.\n",
    "- Humidity : Kelembaban udara.\n",
    "- WindDirection(Degrees) : Arah angin dalam derajat.\n",
    "- Speed : Kecepatan angin.\n",
    "- TimeSunRise, TimeSunSet : Waktu matahari terbit dan terbenam.\n",
    "- Time : Waktu lokal dari pengukuran."
   ]
  },
  {
   "cell_type": "markdown",
   "id": "04a6df3e",
   "metadata": {},
   "source": [
    "## Exploration Data Analysis"
   ]
  },
  {
   "cell_type": "markdown",
   "id": "de4e9ea6",
   "metadata": {},
   "source": [
    "1. Pemeriksaan Struktur Data dan Missing Value :<br>\n",
    "Dataset terdiri dari 32.686 baris dengan berbagai variabel cuaca seperti Temperature, Humidity, Wind Speed, Radiation sebagai target. Hasil pengecekan menunjukan bahwa tidak terdapat missing value pada dataset, sehingga tidak diperlukan penanganan khusus terdapat nilai kosong."
   ]
  },
  {
   "cell_type": "code",
   "execution_count": 22,
   "id": "d9c23211",
   "metadata": {},
   "outputs": [
    {
     "data": {
      "application/vnd.microsoft.datawrangler.viewer.v0+json": {
       "columns": [
        {
         "name": "index",
         "rawType": "int64",
         "type": "integer"
        },
        {
         "name": "UNIXTime",
         "rawType": "int64",
         "type": "integer"
        },
        {
         "name": "Data",
         "rawType": "object",
         "type": "string"
        },
        {
         "name": "Time",
         "rawType": "datetime64[ns]",
         "type": "datetime"
        },
        {
         "name": "Radiation",
         "rawType": "float64",
         "type": "float"
        },
        {
         "name": "Temperature",
         "rawType": "int64",
         "type": "integer"
        },
        {
         "name": "Pressure",
         "rawType": "float64",
         "type": "float"
        },
        {
         "name": "Humidity",
         "rawType": "int64",
         "type": "integer"
        },
        {
         "name": "WindDirection(Degrees)",
         "rawType": "float64",
         "type": "float"
        },
        {
         "name": "Speed",
         "rawType": "float64",
         "type": "float"
        },
        {
         "name": "TimeSunRise",
         "rawType": "object",
         "type": "string"
        },
        {
         "name": "TimeSunSet",
         "rawType": "object",
         "type": "string"
        }
       ],
       "ref": "0f7d871e-4713-4bc0-8ae2-72a3a190ecc1",
       "rows": [
        [
         "0",
         "1475229326",
         "9/29/2016 12:00:00 AM",
         "2025-05-28 23:55:26",
         "1.21",
         "48",
         "30.46",
         "59",
         "177.39",
         "5.62",
         "06:13:00",
         "18:13:00"
        ],
        [
         "1",
         "1475229023",
         "9/29/2016 12:00:00 AM",
         "2025-05-28 23:50:23",
         "1.21",
         "48",
         "30.46",
         "58",
         "176.78",
         "3.37",
         "06:13:00",
         "18:13:00"
        ],
        [
         "2",
         "1475228726",
         "9/29/2016 12:00:00 AM",
         "2025-05-28 23:45:26",
         "1.23",
         "48",
         "30.46",
         "57",
         "158.75",
         "3.37",
         "06:13:00",
         "18:13:00"
        ],
        [
         "3",
         "1475228421",
         "9/29/2016 12:00:00 AM",
         "2025-05-28 23:40:21",
         "1.21",
         "48",
         "30.46",
         "60",
         "137.71",
         "3.37",
         "06:13:00",
         "18:13:00"
        ],
        [
         "4",
         "1475228124",
         "9/29/2016 12:00:00 AM",
         "2025-05-28 23:35:24",
         "1.17",
         "48",
         "30.46",
         "62",
         "104.95",
         "5.62",
         "06:13:00",
         "18:13:00"
        ]
       ],
       "shape": {
        "columns": 11,
        "rows": 5
       }
      },
      "text/html": [
       "<div>\n",
       "<style scoped>\n",
       "    .dataframe tbody tr th:only-of-type {\n",
       "        vertical-align: middle;\n",
       "    }\n",
       "\n",
       "    .dataframe tbody tr th {\n",
       "        vertical-align: top;\n",
       "    }\n",
       "\n",
       "    .dataframe thead th {\n",
       "        text-align: right;\n",
       "    }\n",
       "</style>\n",
       "<table border=\"1\" class=\"dataframe\">\n",
       "  <thead>\n",
       "    <tr style=\"text-align: right;\">\n",
       "      <th></th>\n",
       "      <th>UNIXTime</th>\n",
       "      <th>Data</th>\n",
       "      <th>Time</th>\n",
       "      <th>Radiation</th>\n",
       "      <th>Temperature</th>\n",
       "      <th>Pressure</th>\n",
       "      <th>Humidity</th>\n",
       "      <th>WindDirection(Degrees)</th>\n",
       "      <th>Speed</th>\n",
       "      <th>TimeSunRise</th>\n",
       "      <th>TimeSunSet</th>\n",
       "    </tr>\n",
       "  </thead>\n",
       "  <tbody>\n",
       "    <tr>\n",
       "      <th>0</th>\n",
       "      <td>1475229326</td>\n",
       "      <td>9/29/2016 12:00:00 AM</td>\n",
       "      <td>2025-05-28 23:55:26</td>\n",
       "      <td>1.21</td>\n",
       "      <td>48</td>\n",
       "      <td>30.46</td>\n",
       "      <td>59</td>\n",
       "      <td>177.39</td>\n",
       "      <td>5.62</td>\n",
       "      <td>06:13:00</td>\n",
       "      <td>18:13:00</td>\n",
       "    </tr>\n",
       "    <tr>\n",
       "      <th>1</th>\n",
       "      <td>1475229023</td>\n",
       "      <td>9/29/2016 12:00:00 AM</td>\n",
       "      <td>2025-05-28 23:50:23</td>\n",
       "      <td>1.21</td>\n",
       "      <td>48</td>\n",
       "      <td>30.46</td>\n",
       "      <td>58</td>\n",
       "      <td>176.78</td>\n",
       "      <td>3.37</td>\n",
       "      <td>06:13:00</td>\n",
       "      <td>18:13:00</td>\n",
       "    </tr>\n",
       "    <tr>\n",
       "      <th>2</th>\n",
       "      <td>1475228726</td>\n",
       "      <td>9/29/2016 12:00:00 AM</td>\n",
       "      <td>2025-05-28 23:45:26</td>\n",
       "      <td>1.23</td>\n",
       "      <td>48</td>\n",
       "      <td>30.46</td>\n",
       "      <td>57</td>\n",
       "      <td>158.75</td>\n",
       "      <td>3.37</td>\n",
       "      <td>06:13:00</td>\n",
       "      <td>18:13:00</td>\n",
       "    </tr>\n",
       "    <tr>\n",
       "      <th>3</th>\n",
       "      <td>1475228421</td>\n",
       "      <td>9/29/2016 12:00:00 AM</td>\n",
       "      <td>2025-05-28 23:40:21</td>\n",
       "      <td>1.21</td>\n",
       "      <td>48</td>\n",
       "      <td>30.46</td>\n",
       "      <td>60</td>\n",
       "      <td>137.71</td>\n",
       "      <td>3.37</td>\n",
       "      <td>06:13:00</td>\n",
       "      <td>18:13:00</td>\n",
       "    </tr>\n",
       "    <tr>\n",
       "      <th>4</th>\n",
       "      <td>1475228124</td>\n",
       "      <td>9/29/2016 12:00:00 AM</td>\n",
       "      <td>2025-05-28 23:35:24</td>\n",
       "      <td>1.17</td>\n",
       "      <td>48</td>\n",
       "      <td>30.46</td>\n",
       "      <td>62</td>\n",
       "      <td>104.95</td>\n",
       "      <td>5.62</td>\n",
       "      <td>06:13:00</td>\n",
       "      <td>18:13:00</td>\n",
       "    </tr>\n",
       "  </tbody>\n",
       "</table>\n",
       "</div>"
      ],
      "text/plain": [
       "     UNIXTime                   Data                Time  Radiation  \\\n",
       "0  1475229326  9/29/2016 12:00:00 AM 2025-05-28 23:55:26       1.21   \n",
       "1  1475229023  9/29/2016 12:00:00 AM 2025-05-28 23:50:23       1.21   \n",
       "2  1475228726  9/29/2016 12:00:00 AM 2025-05-28 23:45:26       1.23   \n",
       "3  1475228421  9/29/2016 12:00:00 AM 2025-05-28 23:40:21       1.21   \n",
       "4  1475228124  9/29/2016 12:00:00 AM 2025-05-28 23:35:24       1.17   \n",
       "\n",
       "   Temperature  Pressure  Humidity  WindDirection(Degrees)  Speed TimeSunRise  \\\n",
       "0           48     30.46        59                  177.39   5.62    06:13:00   \n",
       "1           48     30.46        58                  176.78   3.37    06:13:00   \n",
       "2           48     30.46        57                  158.75   3.37    06:13:00   \n",
       "3           48     30.46        60                  137.71   3.37    06:13:00   \n",
       "4           48     30.46        62                  104.95   5.62    06:13:00   \n",
       "\n",
       "  TimeSunSet  \n",
       "0   18:13:00  \n",
       "1   18:13:00  \n",
       "2   18:13:00  \n",
       "3   18:13:00  \n",
       "4   18:13:00  "
      ]
     },
     "execution_count": 22,
     "metadata": {},
     "output_type": "execute_result"
    }
   ],
   "source": [
    "df.head()"
   ]
  },
  {
   "cell_type": "code",
   "execution_count": 23,
   "id": "d36accac",
   "metadata": {},
   "outputs": [
    {
     "data": {
      "application/vnd.microsoft.datawrangler.viewer.v0+json": {
       "columns": [
        {
         "name": "index",
         "rawType": "object",
         "type": "string"
        },
        {
         "name": "0",
         "rawType": "object",
         "type": "unknown"
        }
       ],
       "ref": "fae7b7a5-2ab4-4961-8191-39d3f109aab8",
       "rows": [
        [
         "UNIXTime",
         "int64"
        ],
        [
         "Data",
         "object"
        ],
        [
         "Time",
         "datetime64[ns]"
        ],
        [
         "Radiation",
         "float64"
        ],
        [
         "Temperature",
         "int64"
        ],
        [
         "Pressure",
         "float64"
        ],
        [
         "Humidity",
         "int64"
        ],
        [
         "WindDirection(Degrees)",
         "float64"
        ],
        [
         "Speed",
         "float64"
        ],
        [
         "TimeSunRise",
         "object"
        ],
        [
         "TimeSunSet",
         "object"
        ]
       ],
       "shape": {
        "columns": 1,
        "rows": 11
       }
      },
      "text/plain": [
       "UNIXTime                           int64\n",
       "Data                              object\n",
       "Time                      datetime64[ns]\n",
       "Radiation                        float64\n",
       "Temperature                        int64\n",
       "Pressure                         float64\n",
       "Humidity                           int64\n",
       "WindDirection(Degrees)           float64\n",
       "Speed                            float64\n",
       "TimeSunRise                       object\n",
       "TimeSunSet                        object\n",
       "dtype: object"
      ]
     },
     "execution_count": 23,
     "metadata": {},
     "output_type": "execute_result"
    }
   ],
   "source": [
    "df.dtypes"
   ]
  },
  {
   "cell_type": "code",
   "execution_count": 24,
   "id": "af67f666",
   "metadata": {},
   "outputs": [
    {
     "data": {
      "application/vnd.microsoft.datawrangler.viewer.v0+json": {
       "columns": [
        {
         "name": "index",
         "rawType": "object",
         "type": "string"
        },
        {
         "name": "0",
         "rawType": "int64",
         "type": "integer"
        }
       ],
       "ref": "6928afe6-3a67-4c24-a53f-f14d64c766b4",
       "rows": [
        [
         "UNIXTime",
         "0"
        ],
        [
         "Data",
         "0"
        ],
        [
         "Time",
         "0"
        ],
        [
         "Radiation",
         "0"
        ],
        [
         "Temperature",
         "0"
        ],
        [
         "Pressure",
         "0"
        ],
        [
         "Humidity",
         "0"
        ],
        [
         "WindDirection(Degrees)",
         "0"
        ],
        [
         "Speed",
         "0"
        ],
        [
         "TimeSunRise",
         "0"
        ],
        [
         "TimeSunSet",
         "0"
        ]
       ],
       "shape": {
        "columns": 1,
        "rows": 11
       }
      },
      "text/plain": [
       "UNIXTime                  0\n",
       "Data                      0\n",
       "Time                      0\n",
       "Radiation                 0\n",
       "Temperature               0\n",
       "Pressure                  0\n",
       "Humidity                  0\n",
       "WindDirection(Degrees)    0\n",
       "Speed                     0\n",
       "TimeSunRise               0\n",
       "TimeSunSet                0\n",
       "dtype: int64"
      ]
     },
     "execution_count": 24,
     "metadata": {},
     "output_type": "execute_result"
    }
   ],
   "source": [
    "df.isna().sum()"
   ]
  },
  {
   "cell_type": "code",
   "execution_count": 26,
   "id": "88c58639",
   "metadata": {},
   "outputs": [
    {
     "data": {
      "text/plain": [
       "np.int64(0)"
      ]
     },
     "execution_count": 26,
     "metadata": {},
     "output_type": "execute_result"
    }
   ],
   "source": [
    "df.duplicated().sum()"
   ]
  },
  {
   "cell_type": "markdown",
   "id": "c720e45e",
   "metadata": {},
   "source": [
    "2. Statistik Deskriptif :<br> \n",
    "Nilai rata - rata radiasi berkisar 207 W/m², dengan nilai max mendekati 1601 W/m². Ini menunjukan adanya variasi besar pada intensitas cahaya matahari sepanjang waktu pengamatan, kemungkinan dipengaruhi oleh waktu dalam sehari, musim dan kondisi cuaca"
   ]
  },
  {
   "cell_type": "code",
   "execution_count": 25,
   "id": "891224c6",
   "metadata": {},
   "outputs": [
    {
     "data": {
      "application/vnd.microsoft.datawrangler.viewer.v0+json": {
       "columns": [
        {
         "name": "index",
         "rawType": "object",
         "type": "string"
        },
        {
         "name": "UNIXTime",
         "rawType": "float64",
         "type": "float"
        },
        {
         "name": "Time",
         "rawType": "object",
         "type": "unknown"
        },
        {
         "name": "Radiation",
         "rawType": "float64",
         "type": "float"
        },
        {
         "name": "Temperature",
         "rawType": "float64",
         "type": "float"
        },
        {
         "name": "Pressure",
         "rawType": "float64",
         "type": "float"
        },
        {
         "name": "Humidity",
         "rawType": "float64",
         "type": "float"
        },
        {
         "name": "WindDirection(Degrees)",
         "rawType": "float64",
         "type": "float"
        },
        {
         "name": "Speed",
         "rawType": "float64",
         "type": "float"
        }
       ],
       "ref": "60285a5d-8e00-44f9-a2b5-2d9ba2a8a11c",
       "rows": [
        [
         "count",
         "32686.0",
         "32686",
         "32686.0",
         "32686.0",
         "32686.0",
         "32686.0",
         "32686.0",
         "32686.0"
        ],
        [
         "mean",
         "1478047264.9448082",
         "2025-05-28 12:01:17.574068736",
         "207.12469742397357",
         "51.10325521630055",
         "30.42287890840115",
         "75.01630667564095",
         "143.48982071835036",
         "6.243869240653491"
        ],
        [
         "min",
         "1472724008.0",
         "2025-05-28 00:00:01",
         "1.11",
         "34.0",
         "30.19",
         "8.0",
         "0.09",
         "0.0"
        ],
        [
         "25%",
         "1475546497.5",
         "2025-05-28 06:00:17",
         "1.23",
         "46.0",
         "30.4",
         "56.0",
         "82.22749999999999",
         "3.37"
        ],
        [
         "50%",
         "1478026069.5",
         "2025-05-28 12:00:30",
         "2.66",
         "50.0",
         "30.43",
         "85.0",
         "147.7",
         "5.62"
        ],
        [
         "75%",
         "1480480128.0",
         "2025-05-28 18:00:49",
         "354.235",
         "55.0",
         "30.46",
         "97.0",
         "179.31",
         "7.87"
        ],
        [
         "max",
         "1483264501.0",
         "2025-05-28 23:56:25",
         "1601.26",
         "71.0",
         "30.56",
         "103.0",
         "359.95",
         "40.5"
        ],
        [
         "std",
         "3005036.6420480353",
         null,
         "315.91638719511025",
         "6.20115735704016",
         "0.05467315506388666",
         "25.990218508443228",
         "83.16749964761783",
         "3.4904735500653947"
        ]
       ],
       "shape": {
        "columns": 8,
        "rows": 8
       }
      },
      "text/html": [
       "<div>\n",
       "<style scoped>\n",
       "    .dataframe tbody tr th:only-of-type {\n",
       "        vertical-align: middle;\n",
       "    }\n",
       "\n",
       "    .dataframe tbody tr th {\n",
       "        vertical-align: top;\n",
       "    }\n",
       "\n",
       "    .dataframe thead th {\n",
       "        text-align: right;\n",
       "    }\n",
       "</style>\n",
       "<table border=\"1\" class=\"dataframe\">\n",
       "  <thead>\n",
       "    <tr style=\"text-align: right;\">\n",
       "      <th></th>\n",
       "      <th>UNIXTime</th>\n",
       "      <th>Time</th>\n",
       "      <th>Radiation</th>\n",
       "      <th>Temperature</th>\n",
       "      <th>Pressure</th>\n",
       "      <th>Humidity</th>\n",
       "      <th>WindDirection(Degrees)</th>\n",
       "      <th>Speed</th>\n",
       "    </tr>\n",
       "  </thead>\n",
       "  <tbody>\n",
       "    <tr>\n",
       "      <th>count</th>\n",
       "      <td>3.268600e+04</td>\n",
       "      <td>32686</td>\n",
       "      <td>32686.000000</td>\n",
       "      <td>32686.000000</td>\n",
       "      <td>32686.000000</td>\n",
       "      <td>32686.000000</td>\n",
       "      <td>32686.000000</td>\n",
       "      <td>32686.000000</td>\n",
       "    </tr>\n",
       "    <tr>\n",
       "      <th>mean</th>\n",
       "      <td>1.478047e+09</td>\n",
       "      <td>2025-05-28 12:01:17.574068736</td>\n",
       "      <td>207.124697</td>\n",
       "      <td>51.103255</td>\n",
       "      <td>30.422879</td>\n",
       "      <td>75.016307</td>\n",
       "      <td>143.489821</td>\n",
       "      <td>6.243869</td>\n",
       "    </tr>\n",
       "    <tr>\n",
       "      <th>min</th>\n",
       "      <td>1.472724e+09</td>\n",
       "      <td>2025-05-28 00:00:01</td>\n",
       "      <td>1.110000</td>\n",
       "      <td>34.000000</td>\n",
       "      <td>30.190000</td>\n",
       "      <td>8.000000</td>\n",
       "      <td>0.090000</td>\n",
       "      <td>0.000000</td>\n",
       "    </tr>\n",
       "    <tr>\n",
       "      <th>25%</th>\n",
       "      <td>1.475546e+09</td>\n",
       "      <td>2025-05-28 06:00:17</td>\n",
       "      <td>1.230000</td>\n",
       "      <td>46.000000</td>\n",
       "      <td>30.400000</td>\n",
       "      <td>56.000000</td>\n",
       "      <td>82.227500</td>\n",
       "      <td>3.370000</td>\n",
       "    </tr>\n",
       "    <tr>\n",
       "      <th>50%</th>\n",
       "      <td>1.478026e+09</td>\n",
       "      <td>2025-05-28 12:00:30</td>\n",
       "      <td>2.660000</td>\n",
       "      <td>50.000000</td>\n",
       "      <td>30.430000</td>\n",
       "      <td>85.000000</td>\n",
       "      <td>147.700000</td>\n",
       "      <td>5.620000</td>\n",
       "    </tr>\n",
       "    <tr>\n",
       "      <th>75%</th>\n",
       "      <td>1.480480e+09</td>\n",
       "      <td>2025-05-28 18:00:49</td>\n",
       "      <td>354.235000</td>\n",
       "      <td>55.000000</td>\n",
       "      <td>30.460000</td>\n",
       "      <td>97.000000</td>\n",
       "      <td>179.310000</td>\n",
       "      <td>7.870000</td>\n",
       "    </tr>\n",
       "    <tr>\n",
       "      <th>max</th>\n",
       "      <td>1.483265e+09</td>\n",
       "      <td>2025-05-28 23:56:25</td>\n",
       "      <td>1601.260000</td>\n",
       "      <td>71.000000</td>\n",
       "      <td>30.560000</td>\n",
       "      <td>103.000000</td>\n",
       "      <td>359.950000</td>\n",
       "      <td>40.500000</td>\n",
       "    </tr>\n",
       "    <tr>\n",
       "      <th>std</th>\n",
       "      <td>3.005037e+06</td>\n",
       "      <td>NaN</td>\n",
       "      <td>315.916387</td>\n",
       "      <td>6.201157</td>\n",
       "      <td>0.054673</td>\n",
       "      <td>25.990219</td>\n",
       "      <td>83.167500</td>\n",
       "      <td>3.490474</td>\n",
       "    </tr>\n",
       "  </tbody>\n",
       "</table>\n",
       "</div>"
      ],
      "text/plain": [
       "           UNIXTime                           Time     Radiation  \\\n",
       "count  3.268600e+04                          32686  32686.000000   \n",
       "mean   1.478047e+09  2025-05-28 12:01:17.574068736    207.124697   \n",
       "min    1.472724e+09            2025-05-28 00:00:01      1.110000   \n",
       "25%    1.475546e+09            2025-05-28 06:00:17      1.230000   \n",
       "50%    1.478026e+09            2025-05-28 12:00:30      2.660000   \n",
       "75%    1.480480e+09            2025-05-28 18:00:49    354.235000   \n",
       "max    1.483265e+09            2025-05-28 23:56:25   1601.260000   \n",
       "std    3.005037e+06                            NaN    315.916387   \n",
       "\n",
       "        Temperature      Pressure      Humidity  WindDirection(Degrees)  \\\n",
       "count  32686.000000  32686.000000  32686.000000            32686.000000   \n",
       "mean      51.103255     30.422879     75.016307              143.489821   \n",
       "min       34.000000     30.190000      8.000000                0.090000   \n",
       "25%       46.000000     30.400000     56.000000               82.227500   \n",
       "50%       50.000000     30.430000     85.000000              147.700000   \n",
       "75%       55.000000     30.460000     97.000000              179.310000   \n",
       "max       71.000000     30.560000    103.000000              359.950000   \n",
       "std        6.201157      0.054673     25.990219               83.167500   \n",
       "\n",
       "              Speed  \n",
       "count  32686.000000  \n",
       "mean       6.243869  \n",
       "min        0.000000  \n",
       "25%        3.370000  \n",
       "50%        5.620000  \n",
       "75%        7.870000  \n",
       "max       40.500000  \n",
       "std        3.490474  "
      ]
     },
     "execution_count": 25,
     "metadata": {},
     "output_type": "execute_result"
    }
   ],
   "source": [
    "df.describe()"
   ]
  },
  {
   "cell_type": "markdown",
   "id": "b03ea876",
   "metadata": {},
   "source": [
    "3. Distribusi Nilai Radiation :<br>\n",
    "Visualisasi histogram menunjukkan bahwa distribusi Radiation cenderung right-skewed, yaitu sebagian besar nilai berada di rentang rendah (sekitar 0–200 W/m²), dan hanya sedikit yang mencapai angka sangat tinggi. Pola ini wajar karena intensitas matahari tertinggi hanya terjadi dalam waktu tertentu (misalnya, siang hari pada hari cerah)."
   ]
  },
  {
   "cell_type": "code",
   "execution_count": 27,
   "id": "9787afb1",
   "metadata": {},
   "outputs": [
    {
     "data": {
      "image/png": "[encoded data removed]",
      "text/plain": [
       "<Figure size 800x500 with 1 Axes>"
      ]
     },
     "metadata": {},
     "output_type": "display_data"
    }
   ],
   "source": [
    "plt.figure(figsize=(8,5))\n",
    "sns.histplot(df['Radiation'], kde=True, bins=50, color='orange')\n",
    "plt.title('Distribusi Nilai Radiasi Matahari')\n",
    "plt.xlabel('Radiation')\n",
    "plt.ylabel('Frequency')\n",
    "plt.show()"
   ]
  },
  {
   "cell_type": "markdown",
   "id": "7ad413e6",
   "metadata": {},
   "source": [
    "4. Korelasi Antar Fitur :<br>\n",
    "Hasil perhitungan matriks korelasi menunjukkan bahwa:\n",
    "    - Temperature memiliki korelasi positif yang cukup tinggi dengan Radiation (~0.63), yang masuk akal karena suhu biasanya meningkat seiring dengan meningkatnya radiasi matahari.\n",
    "    - Humidity menunjukkan korelasi negatif terhadap Radiation, yang berarti semakin tinggi kelembaban, semakin rendah kemungkinan intensitas cahaya matahari (karena awan atau uap air menyerap sinar).\n",
    "    - Fitur lain seperti Pressure, WindDirection, dan Speed menunjukkan korelasi yang lebih lemah terhadap target."
   ]
  },
  {
   "cell_type": "code",
   "execution_count": 28,
   "id": "6c459e17",
   "metadata": {},
   "outputs": [],
   "source": [
    "numerical_cols = ['Radiation', 'Temperature', 'Pressure', 'Humidity', 'WindDirection(Degrees)', 'Speed']\n",
    "correlation_matrix = df[numerical_cols].corr()"
   ]
  },
  {
   "cell_type": "code",
   "execution_count": 29,
   "id": "6a4a9883",
   "metadata": {},
   "outputs": [
    {
     "data": {
      "image/png": "[encoded data removed]",
      "text/plain": [
       "<Figure size 1000x700 with 2 Axes>"
      ]
     },
     "metadata": {},
     "output_type": "display_data"
    }
   ],
   "source": [
    "plt.figure(figsize=(10, 7))\n",
    "sns.heatmap(correlation_matrix, annot=True, cmap='coolwarm', fmt='.2f')\n",
    "plt.title('Heatmap Korelasi antar Fitur')\n",
    "plt.show()"
   ]
  },
  {
   "cell_type": "markdown",
   "id": "405958f8",
   "metadata": {},
   "source": [
    "## Data Preprocessing"
   ]
  },
  {
   "cell_type": "markdown",
   "id": "511fd3ee",
   "metadata": {},
   "source": [
    "1. Seleksi dan Fitur Engineering :<br>\n",
    "Berdasarkan hasil eksplorasi data (EDA), fitur - fitur yang digunakan selain fitur asli dari dataset seperti Temperature, Humidity, Pressure, WindDirection(Degrees), dan Speed, dilakukan penambahan fitur baru berdasarkan informasi waktu (Time, SunRise, dan SunSet). Fitur tambahan tersebut adalah :\n",
    "    - SunRiseMinutes : Waktu matahari terbit dalam menit dari pukul 00:00\n",
    "    - SunSetMinutes : Waktu matahari terbenam dalam menit dari pukul 00:00\n",
    "    - CurrentMinutes : Waktu saat pengukuran dalam menit dari pukul 00:00\n",
    "    - MinutesSinceSunRise : Selisih menit antara waktu sekarang dan waktu matahari terbit\n",
    "    - MinuteUntilSunset : Selisih menit antara waktu matahari terbenam dan waktu sekarang\n",
    "    - DaylightDuration : Durasi siang hari dalam menit"
   ]
  },
  {
   "cell_type": "code",
   "execution_count": 30,
   "id": "18ecfc29",
   "metadata": {},
   "outputs": [],
   "source": [
    "def time_to_minutes(t):\n",
    "    return t.hour * 60 + t.minute + t.second / 60\n",
    "df['Temperature'] = df['Temperature'].astype(float)\n",
    "df['Humidity'] = df['Humidity'].astype(float)\n",
    "df['TimeSunRise'] = pd.to_datetime(df['TimeSunRise'], format=\"%H:%M:%S\").dt.time\n",
    "df['TimeSunSet'] = pd.to_datetime(df['TimeSunSet'], format=\"%H:%M:%S\").dt.time\n",
    "df['SunRiseMinutes'] = df['TimeSunRise'].apply(time_to_minutes)\n",
    "df['SunSetMinutes'] = df['TimeSunSet'].apply(time_to_minutes)\n",
    "df['CurrentMinutes'] = df['Time'].apply(time_to_minutes)\n",
    "df['MinutesSinceSunrise'] = df['CurrentMinutes'] - df['SunRiseMinutes']\n",
    "df['MinutesUntilSunset'] = df['SunSetMinutes'] - df['CurrentMinutes']\n",
    "df['DaylightDuration'] = df['SunSetMinutes'] - df['SunRiseMinutes']\n",
    "df = df.drop(columns=['UNIXTime','Data','Time','TimeSunRise','TimeSunSet'])"
   ]
  },
  {
   "cell_type": "markdown",
   "id": "9418a479",
   "metadata": {},
   "source": [
    "2. Handling Outlier :<br>\n",
    "Untuk menjaga kualitas data yang masuk ke model, dilakukan normalisasi terhadap nilai - nilai ekstrem (outlier). Penanganan ini penting agar model tidak terdistraksi oleh data yang tidak representatif. Metode yang digunakan adalah clipping berdasarkan distribusi kuartil (IQR)"
   ]
  },
  {
   "cell_type": "code",
   "execution_count": 31,
   "id": "490ee646",
   "metadata": {},
   "outputs": [
    {
     "name": "stdout",
     "output_type": "stream",
     "text": [
      "Kolom Radiation : 1965 outlier\n",
      "Kolom Temperature : 89 outlier\n",
      "Kolom Pressure : 1662 outlier\n",
      "Kolom Humidity : 0 outlier\n",
      "Kolom WindDirection(Degrees) : 1618 outlier\n",
      "Kolom Speed : 479 outlier\n",
      "Kolom SunRiseMinutes : 0 outlier\n",
      "Kolom SunSetMinutes : 0 outlier\n",
      "Kolom CurrentMinutes : 0 outlier\n",
      "Kolom MinutesSinceSunrise : 0 outlier\n",
      "Kolom MinutesUntilSunset : 0 outlier\n",
      "Kolom DaylightDuration : 0 outlier\n"
     ]
    }
   ],
   "source": [
    "numeric =  df.select_dtypes(include=\"number\").columns\n",
    "for i in numeric:\n",
    "    Q1 = df[i].quantile(0.25)\n",
    "    Q3 = df[i].quantile(0.75)\n",
    "    IQR = Q3 - Q1\n",
    "    lower = Q1 - 1.5 * IQR\n",
    "    upper = Q3 + 1.5 * IQR\n",
    "\n",
    "    outlier = df[(df[i] < lower) | (df[i] > upper)]\n",
    "    print(f\"Kolom {i} : {len(outlier)} outlier\")"
   ]
  },
  {
   "cell_type": "code",
   "execution_count": 32,
   "id": "b6970f90",
   "metadata": {},
   "outputs": [
    {
     "name": "stdout",
     "output_type": "stream",
     "text": [
      "Kolom Radiation : 0 outlier\n",
      "Kolom Temperature : 0 outlier\n",
      "Kolom Pressure : 0 outlier\n",
      "Kolom Humidity : 0 outlier\n",
      "Kolom WindDirection(Degrees) : 0 outlier\n",
      "Kolom Speed : 0 outlier\n",
      "Kolom SunRiseMinutes : 0 outlier\n",
      "Kolom SunSetMinutes : 0 outlier\n",
      "Kolom CurrentMinutes : 0 outlier\n",
      "Kolom MinutesSinceSunrise : 0 outlier\n",
      "Kolom MinutesUntilSunset : 0 outlier\n",
      "Kolom DaylightDuration : 0 outlier\n"
     ]
    }
   ],
   "source": [
    "def outlierhandling(series):\n",
    "    Q1 = df[series].quantile(0.25)\n",
    "    Q3 = df[series].quantile(0.75)\n",
    "    IQR = Q3 - Q1\n",
    "    lower = Q1 - 1.5 * IQR\n",
    "    upper = Q3 + 1.5 * IQR\n",
    "    df.loc[df[series] > upper, series] = upper\n",
    "    df.loc[df[series] < lower, series] = lower\n",
    "    return df\n",
    "for i in numeric:\n",
    "    df = outlierhandling(i)\n",
    "for i in numeric:\n",
    "    Q1 = df[i].quantile(0.25)\n",
    "    Q3 = df[i].quantile(0.75)\n",
    "    IQR = Q3 - Q1\n",
    "    lower = Q1 - 1.5 * IQR\n",
    "    upper = Q3 + 1.5 * IQR\n",
    "    outlier = df[(df[i] < lower) | (df[i] > upper)]\n",
    "    print(f\"Kolom {i} : {len(outlier)} outlier\")"
   ]
  },
  {
   "cell_type": "markdown",
   "id": "c3b3ff50",
   "metadata": {},
   "source": [
    "3. Seleksi Fitur dan Target :<br>\n",
    "Fitur dan Target yang digunakan dipisah terlebih dahulu pada variabel X sebagai fitur (Temperature, Humidity, Pressure, WindDirection(Degrees), Speed, SunRiseMinutes, SunSetMinutes, CurrentMinutes, MinuteUntilSunset and DaylightDuration) dan y sebagai target (Radiation)\n",
    "4. Split Data :<br>\n",
    "Melakukan splitting data menjadi dua yaitu Data training dan data testing yang dibagi sebesar 80:20\n",
    "5. Normalisasi Fitur :<br>\n",
    "Untuk memastikan semua fitur memiliki skala yang sebanding, dilakukan normalisasi menggunakan StandardScaler dari sklearn.preprocessing. Metode ini mengubah distribusi fitur agar memiliki mean = 0 dan standard deviation = 1, sehingga mempercepat proses konvergensi model dan menghindari dominasi fitur tertentu."
   ]
  },
  {
   "cell_type": "code",
   "execution_count": 33,
   "id": "b4e9a304",
   "metadata": {},
   "outputs": [],
   "source": [
    "X = df.drop('Radiation',axis=1)\n",
    "y = df['Radiation']\n",
    "\n",
    "X_train,X_test,y_train,y_test = train_test_split(X, y, test_size=0.2, random_state=42)\n",
    "\n",
    "scaler = StandardScaler()\n",
    "X_train_scaled = scaler.fit_transform(X_train)\n",
    "X_test_scaled = scaler.transform(X_test)"
   ]
  },
  {
   "cell_type": "markdown",
   "id": "4c6a6b7c",
   "metadata": {},
   "source": [
    "## Modelling"
   ]
  },
  {
   "cell_type": "markdown",
   "id": "c54ba9d0",
   "metadata": {},
   "source": [
    "Model ini merupakan arsitektur Deep Neural Network (DNN) yang dibangun menggunakan Sequential dari Keras. Model terdiri dari beberapa lapisan Dense dengan fungsi aktivasi ReLU dan satu lapisan output untuk regresi.<br>\n",
    "Langkah kerja model:\n",
    "- Input Layer menerima fitur sebanyak X_train_scaled.shape[1].\n",
    "- Hidden Layers: \n",
    "    - Lapisan bertingkat dari 32 → 64 → 128 → 256 → 512 neuron.\n",
    "\n",
    "    - Semua menggunakan aktivasi ReLU untuk menangani vanishing gradient dan meningkatkan non-linearitas model.\n",
    "\n",
    "- Output Layer: Satu neuron tanpa fungsi aktivasi (linear) karena target bersifat numerik (regresi).\n",
    "- Optimisasi dilakukan dengan algoritma Adam, loss function menggunakan Mean Squared Error (MSE), dan metrik evaluasi tambahan adalah Mean Absolute Error (MAE).\n",
    "\n",
    "\n",
    "\n"
   ]
  },
  {
   "cell_type": "markdown",
   "id": "74fa12c9",
   "metadata": {},
   "source": [
    "Pembahasan Parameter\n",
    "- Dense Neurons: 32, 64, 128, 256, 512 → jumlah neuron bertambah secara progresif untuk menangkap pola kompleks.\n",
    "- Activation Function: ReLU untuk semua hidden layer (default).\n",
    "- Output Activation: Linear (default, tanpa aktivasi).\n",
    "- Optimizer: Adam (default setting).\n",
    "- Loss Function: mse (default untuk regresi).\n",
    "- Metrics: mae untuk interpretasi performa model."
   ]
  },
  {
   "cell_type": "code",
   "execution_count": 34,
   "id": "4231f750",
   "metadata": {},
   "outputs": [
    {
     "name": "stderr",
     "output_type": "stream",
     "text": [
      "d:\\Dicoding\\Predictive-Analytic\\.venv\\lib\\site-packages\\keras\\src\\layers\\core\\dense.py:93: UserWarning: Do not pass an `input_shape`/`input_dim` argument to a layer. When using Sequential models, prefer using an `Input(shape)` object as the first layer in the model instead.\n",
      "  super().__init__(activity_regularizer=activity_regularizer, **kwargs)\n"
     ]
    },
    {
     "data": {
      "text/html": [
       "<pre style=\"white-space:pre;overflow-x:auto;line-height:normal;font-family:Menlo,'DejaVu Sans Mono',consolas,'Courier New',monospace\"><span style=\"font-weight: bold\">Model: \"sequential_1\"</span>\n",
       "</pre>\n"
      ],
      "text/plain": [
       "\u001b[1mModel: \"sequential_1\"\u001b[0m\n"
      ]
     },
     "metadata": {},
     "output_type": "display_data"
    },
    {
     "data": {
      "text/html": [
       "<pre style=\"white-space:pre;overflow-x:auto;line-height:normal;font-family:Menlo,'DejaVu Sans Mono',consolas,'Courier New',monospace\">┏━━━━━━━━━━━━━━━━━━━━━━━━━━━━━━━━━┳━━━━━━━━━━━━━━━━━━━━━━━━┳━━━━━━━━━━━━━━━┓\n",
       "┃<span style=\"font-weight: bold\"> Layer (type)                    </span>┃<span style=\"font-weight: bold\"> Output Shape           </span>┃<span style=\"font-weight: bold\">       Param # </span>┃\n",
       "┡━━━━━━━━━━━━━━━━━━━━━━━━━━━━━━━━━╇━━━━━━━━━━━━━━━━━━━━━━━━╇━━━━━━━━━━━━━━━┩\n",
       "│ dense_6 (<span style=\"color: #0087ff; text-decoration-color: #0087ff\">Dense</span>)                 │ (<span style=\"color: #00d7ff; text-decoration-color: #00d7ff\">None</span>, <span style=\"color: #00af00; text-decoration-color: #00af00\">32</span>)             │           <span style=\"color: #00af00; text-decoration-color: #00af00\">384</span> │\n",
       "├─────────────────────────────────┼────────────────────────┼───────────────┤\n",
       "│ dense_7 (<span style=\"color: #0087ff; text-decoration-color: #0087ff\">Dense</span>)                 │ (<span style=\"color: #00d7ff; text-decoration-color: #00d7ff\">None</span>, <span style=\"color: #00af00; text-decoration-color: #00af00\">64</span>)             │         <span style=\"color: #00af00; text-decoration-color: #00af00\">2,112</span> │\n",
       "├─────────────────────────────────┼────────────────────────┼───────────────┤\n",
       "│ dense_8 (<span style=\"color: #0087ff; text-decoration-color: #0087ff\">Dense</span>)                 │ (<span style=\"color: #00d7ff; text-decoration-color: #00d7ff\">None</span>, <span style=\"color: #00af00; text-decoration-color: #00af00\">128</span>)            │         <span style=\"color: #00af00; text-decoration-color: #00af00\">8,320</span> │\n",
       "├─────────────────────────────────┼────────────────────────┼───────────────┤\n",
       "│ dense_9 (<span style=\"color: #0087ff; text-decoration-color: #0087ff\">Dense</span>)                 │ (<span style=\"color: #00d7ff; text-decoration-color: #00d7ff\">None</span>, <span style=\"color: #00af00; text-decoration-color: #00af00\">256</span>)            │        <span style=\"color: #00af00; text-decoration-color: #00af00\">33,024</span> │\n",
       "├─────────────────────────────────┼────────────────────────┼───────────────┤\n",
       "│ dense_10 (<span style=\"color: #0087ff; text-decoration-color: #0087ff\">Dense</span>)                │ (<span style=\"color: #00d7ff; text-decoration-color: #00d7ff\">None</span>, <span style=\"color: #00af00; text-decoration-color: #00af00\">512</span>)            │       <span style=\"color: #00af00; text-decoration-color: #00af00\">131,584</span> │\n",
       "├─────────────────────────────────┼────────────────────────┼───────────────┤\n",
       "│ dense_11 (<span style=\"color: #0087ff; text-decoration-color: #0087ff\">Dense</span>)                │ (<span style=\"color: #00d7ff; text-decoration-color: #00d7ff\">None</span>, <span style=\"color: #00af00; text-decoration-color: #00af00\">1</span>)              │           <span style=\"color: #00af00; text-decoration-color: #00af00\">513</span> │\n",
       "└─────────────────────────────────┴────────────────────────┴───────────────┘\n",
       "</pre>\n"
      ],
      "text/plain": [
       "┏━━━━━━━━━━━━━━━━━━━━━━━━━━━━━━━━━┳━━━━━━━━━━━━━━━━━━━━━━━━┳━━━━━━━━━━━━━━━┓\n",
       "┃\u001b[1m \u001b[0m\u001b[1mLayer (type)                   \u001b[0m\u001b[1m \u001b[0m┃\u001b[1m \u001b[0m\u001b[1mOutput Shape          \u001b[0m\u001b[1m \u001b[0m┃\u001b[1m \u001b[0m\u001b[1m      Param #\u001b[0m\u001b[1m \u001b[0m┃\n",
       "┡━━━━━━━━━━━━━━━━━━━━━━━━━━━━━━━━━╇━━━━━━━━━━━━━━━━━━━━━━━━╇━━━━━━━━━━━━━━━┩\n",
       "│ dense_6 (\u001b[38;5;33mDense\u001b[0m)                 │ (\u001b[38;5;45mNone\u001b[0m, \u001b[38;5;34m32\u001b[0m)             │           \u001b[38;5;34m384\u001b[0m │\n",
       "├─────────────────────────────────┼────────────────────────┼───────────────┤\n",
       "│ dense_7 (\u001b[38;5;33mDense\u001b[0m)                 │ (\u001b[38;5;45mNone\u001b[0m, \u001b[38;5;34m64\u001b[0m)             │         \u001b[38;5;34m2,112\u001b[0m │\n",
       "├─────────────────────────────────┼────────────────────────┼───────────────┤\n",
       "│ dense_8 (\u001b[38;5;33mDense\u001b[0m)                 │ (\u001b[38;5;45mNone\u001b[0m, \u001b[38;5;34m128\u001b[0m)            │         \u001b[38;5;34m8,320\u001b[0m │\n",
       "├─────────────────────────────────┼────────────────────────┼───────────────┤\n",
       "│ dense_9 (\u001b[38;5;33mDense\u001b[0m)                 │ (\u001b[38;5;45mNone\u001b[0m, \u001b[38;5;34m256\u001b[0m)            │        \u001b[38;5;34m33,024\u001b[0m │\n",
       "├─────────────────────────────────┼────────────────────────┼───────────────┤\n",
       "│ dense_10 (\u001b[38;5;33mDense\u001b[0m)                │ (\u001b[38;5;45mNone\u001b[0m, \u001b[38;5;34m512\u001b[0m)            │       \u001b[38;5;34m131,584\u001b[0m │\n",
       "├─────────────────────────────────┼────────────────────────┼───────────────┤\n",
       "│ dense_11 (\u001b[38;5;33mDense\u001b[0m)                │ (\u001b[38;5;45mNone\u001b[0m, \u001b[38;5;34m1\u001b[0m)              │           \u001b[38;5;34m513\u001b[0m │\n",
       "└─────────────────────────────────┴────────────────────────┴───────────────┘\n"
      ]
     },
     "metadata": {},
     "output_type": "display_data"
    },
    {
     "data": {
      "text/html": [
       "<pre style=\"white-space:pre;overflow-x:auto;line-height:normal;font-family:Menlo,'DejaVu Sans Mono',consolas,'Courier New',monospace\"><span style=\"font-weight: bold\"> Total params: </span><span style=\"color: #00af00; text-decoration-color: #00af00\">175,937</span> (687.25 KB)\n",
       "</pre>\n"
      ],
      "text/plain": [
       "\u001b[1m Total params: \u001b[0m\u001b[38;5;34m175,937\u001b[0m (687.25 KB)\n"
      ]
     },
     "metadata": {},
     "output_type": "display_data"
    },
    {
     "data": {
      "text/html": [
       "<pre style=\"white-space:pre;overflow-x:auto;line-height:normal;font-family:Menlo,'DejaVu Sans Mono',consolas,'Courier New',monospace\"><span style=\"font-weight: bold\"> Trainable params: </span><span style=\"color: #00af00; text-decoration-color: #00af00\">175,937</span> (687.25 KB)\n",
       "</pre>\n"
      ],
      "text/plain": [
       "\u001b[1m Trainable params: \u001b[0m\u001b[38;5;34m175,937\u001b[0m (687.25 KB)\n"
      ]
     },
     "metadata": {},
     "output_type": "display_data"
    },
    {
     "data": {
      "text/html": [
       "<pre style=\"white-space:pre;overflow-x:auto;line-height:normal;font-family:Menlo,'DejaVu Sans Mono',consolas,'Courier New',monospace\"><span style=\"font-weight: bold\"> Non-trainable params: </span><span style=\"color: #00af00; text-decoration-color: #00af00\">0</span> (0.00 B)\n",
       "</pre>\n"
      ],
      "text/plain": [
       "\u001b[1m Non-trainable params: \u001b[0m\u001b[38;5;34m0\u001b[0m (0.00 B)\n"
      ]
     },
     "metadata": {},
     "output_type": "display_data"
    }
   ],
   "source": [
    "model = Sequential([\n",
    "    Dense(32, activation='relu', input_shape=(X_train_scaled.shape[1],)),\n",
    "    Dense(64, activation='relu'),\n",
    "    Dense(128, activation='relu'),\n",
    "    Dense(256, activation='relu'),\n",
    "    Dense(512, activation='relu'),\n",
    "    Dense(1)\n",
    "])\n",
    "model.compile(optimizer='Adam', loss='mse', metrics=['mae'])\n",
    "model.summary()"
   ]
  },
  {
   "cell_type": "markdown",
   "id": "82b27eac",
   "metadata": {},
   "source": [
    "Callbacks yang digunakan:\n",
    "- EarlyStopping(patience=5, restore_best_weights=True): menghentikan training jika tidak ada perbaikan dalam 5 epoch.\n",
    "- ReduceLROnPlateau: menurunkan learning rate jika val_loss stagnan.\n",
    "- ModelCheckpoint: menyimpan model terbaik berdasarkan val_loss."
   ]
  },
  {
   "cell_type": "code",
   "execution_count": 35,
   "id": "f5c2fb38",
   "metadata": {},
   "outputs": [],
   "source": [
    "callback = [\n",
    "    EarlyStopping(patience=5, restore_best_weights=True),\n",
    "    ReduceLROnPlateau(monitor='val_loss', factor=0.5, patience=5, min_lr=1e-6,verbose=1),\n",
    "    ModelCheckpoint(filepath='../models/best_model.keras', monitor='val_loss', save_best_only=True, mode='min', verbose=1)\n",
    "]"
   ]
  },
  {
   "cell_type": "code",
   "execution_count": 36,
   "id": "50d89179",
   "metadata": {},
   "outputs": [
    {
     "name": "stdout",
     "output_type": "stream",
     "text": [
      "Epoch 1/100\n",
      "\u001b[1m324/327\u001b[0m \u001b[32m━━━━━━━━━━━━━━━━━━━\u001b[0m\u001b[37m━\u001b[0m \u001b[1m0s\u001b[0m 4ms/step - loss: 63428.7266 - mae: 154.8642\n",
      "Epoch 1: val_loss improved from inf to 15321.08008, saving model to ../models/best_model.keras\n",
      "\u001b[1m327/327\u001b[0m \u001b[32m━━━━━━━━━━━━━━━━━━━━\u001b[0m\u001b[37m\u001b[0m \u001b[1m4s\u001b[0m 5ms/step - loss: 63071.6602 - mae: 154.2837 - val_loss: 15321.0801 - val_mae: 67.3245 - learning_rate: 0.0010\n",
      "Epoch 2/100\n",
      "\u001b[1m321/327\u001b[0m \u001b[32m━━━━━━━━━━━━━━━━━━━\u001b[0m\u001b[37m━\u001b[0m \u001b[1m0s\u001b[0m 4ms/step - loss: 13940.3916 - mae: 62.6119\n",
      "Epoch 2: val_loss improved from 15321.08008 to 10968.79688, saving model to ../models/best_model.keras\n",
      "\u001b[1m327/327\u001b[0m \u001b[32m━━━━━━━━━━━━━━━━━━━━\u001b[0m\u001b[37m\u001b[0m \u001b[1m2s\u001b[0m 5ms/step - loss: 13921.1338 - mae: 62.5568 - val_loss: 10968.7969 - val_mae: 53.9444 - learning_rate: 0.0010\n",
      "Epoch 3/100\n",
      "\u001b[1m317/327\u001b[0m \u001b[32m━━━━━━━━━━━━━━━━━━━\u001b[0m\u001b[37m━\u001b[0m \u001b[1m0s\u001b[0m 4ms/step - loss: 10960.0361 - mae: 54.0916\n",
      "Epoch 3: val_loss improved from 10968.79688 to 9867.43359, saving model to ../models/best_model.keras\n",
      "\u001b[1m327/327\u001b[0m \u001b[32m━━━━━━━━━━━━━━━━━━━━\u001b[0m\u001b[37m\u001b[0m \u001b[1m2s\u001b[0m 5ms/step - loss: 10954.4531 - mae: 54.0721 - val_loss: 9867.4336 - val_mae: 50.4194 - learning_rate: 0.0010\n",
      "Epoch 4/100\n",
      "\u001b[1m320/327\u001b[0m \u001b[32m━━━━━━━━━━━━━━━━━━━\u001b[0m\u001b[37m━\u001b[0m \u001b[1m0s\u001b[0m 4ms/step - loss: 9674.4590 - mae: 49.6226\n",
      "Epoch 4: val_loss improved from 9867.43359 to 9332.82812, saving model to ../models/best_model.keras\n",
      "\u001b[1m327/327\u001b[0m \u001b[32m━━━━━━━━━━━━━━━━━━━━\u001b[0m\u001b[37m\u001b[0m \u001b[1m2s\u001b[0m 5ms/step - loss: 9678.8027 - mae: 49.6347 - val_loss: 9332.8281 - val_mae: 48.2710 - learning_rate: 0.0010\n",
      "Epoch 5/100\n",
      "\u001b[1m326/327\u001b[0m \u001b[32m━━━━━━━━━━━━━━━━━━━\u001b[0m\u001b[37m━\u001b[0m \u001b[1m0s\u001b[0m 6ms/step - loss: 9711.1484 - mae: 49.5169\n",
      "Epoch 5: val_loss improved from 9332.82812 to 8771.30176, saving model to ../models/best_model.keras\n",
      "\u001b[1m327/327\u001b[0m \u001b[32m━━━━━━━━━━━━━━━━━━━━\u001b[0m\u001b[37m\u001b[0m \u001b[1m2s\u001b[0m 7ms/step - loss: 9708.7900 - mae: 49.5090 - val_loss: 8771.3018 - val_mae: 46.2661 - learning_rate: 0.0010\n",
      "Epoch 6/100\n",
      "\u001b[1m320/327\u001b[0m \u001b[32m━━━━━━━━━━━━━━━━━━━\u001b[0m\u001b[37m━\u001b[0m \u001b[1m0s\u001b[0m 6ms/step - loss: 8684.2666 - mae: 45.4244\n",
      "Epoch 6: val_loss did not improve from 8771.30176\n",
      "\u001b[1m327/327\u001b[0m \u001b[32m━━━━━━━━━━━━━━━━━━━━\u001b[0m\u001b[37m\u001b[0m \u001b[1m2s\u001b[0m 7ms/step - loss: 8692.3125 - mae: 45.4650 - val_loss: 9346.2461 - val_mae: 50.0517 - learning_rate: 0.0010\n",
      "Epoch 7/100\n",
      "\u001b[1m319/327\u001b[0m \u001b[32m━━━━━━━━━━━━━━━━━━━\u001b[0m\u001b[37m━\u001b[0m \u001b[1m0s\u001b[0m 4ms/step - loss: 8808.7734 - mae: 45.7605\n",
      "Epoch 7: val_loss improved from 8771.30176 to 8132.57031, saving model to ../models/best_model.keras\n",
      "\u001b[1m327/327\u001b[0m \u001b[32m━━━━━━━━━━━━━━━━━━━━\u001b[0m\u001b[37m\u001b[0m \u001b[1m2s\u001b[0m 5ms/step - loss: 8804.0996 - mae: 45.7483 - val_loss: 8132.5703 - val_mae: 42.2640 - learning_rate: 0.0010\n",
      "Epoch 8/100\n",
      "\u001b[1m324/327\u001b[0m \u001b[32m━━━━━━━━━━━━━━━━━━━\u001b[0m\u001b[37m━\u001b[0m \u001b[1m0s\u001b[0m 4ms/step - loss: 8529.1504 - mae: 45.5140\n",
      "Epoch 8: val_loss did not improve from 8132.57031\n",
      "\u001b[1m327/327\u001b[0m \u001b[32m━━━━━━━━━━━━━━━━━━━━\u001b[0m\u001b[37m\u001b[0m \u001b[1m2s\u001b[0m 5ms/step - loss: 8529.5684 - mae: 45.5121 - val_loss: 8597.4814 - val_mae: 47.8965 - learning_rate: 0.0010\n",
      "Epoch 9/100\n",
      "\u001b[1m320/327\u001b[0m \u001b[32m━━━━━━━━━━━━━━━━━━━\u001b[0m\u001b[37m━\u001b[0m \u001b[1m0s\u001b[0m 4ms/step - loss: 8550.5068 - mae: 45.3842\n",
      "Epoch 9: val_loss did not improve from 8132.57031\n",
      "\u001b[1m327/327\u001b[0m \u001b[32m━━━━━━━━━━━━━━━━━━━━\u001b[0m\u001b[37m\u001b[0m \u001b[1m2s\u001b[0m 5ms/step - loss: 8543.5186 - mae: 45.3549 - val_loss: 9611.0488 - val_mae: 51.4661 - learning_rate: 0.0010\n",
      "Epoch 10/100\n",
      "\u001b[1m319/327\u001b[0m \u001b[32m━━━━━━━━━━━━━━━━━━━\u001b[0m\u001b[37m━\u001b[0m \u001b[1m0s\u001b[0m 4ms/step - loss: 8223.3330 - mae: 43.9524\n",
      "Epoch 10: val_loss improved from 8132.57031 to 7851.37646, saving model to ../models/best_model.keras\n",
      "\u001b[1m327/327\u001b[0m \u001b[32m━━━━━━━━━━━━━━━━━━━━\u001b[0m\u001b[37m\u001b[0m \u001b[1m2s\u001b[0m 5ms/step - loss: 8216.4697 - mae: 43.9251 - val_loss: 7851.3765 - val_mae: 43.3351 - learning_rate: 0.0010\n",
      "Epoch 11/100\n",
      "\u001b[1m321/327\u001b[0m \u001b[32m━━━━━━━━━━━━━━━━━━━\u001b[0m\u001b[37m━\u001b[0m \u001b[1m0s\u001b[0m 4ms/step - loss: 7975.0737 - mae: 43.2974\n",
      "Epoch 11: val_loss improved from 7851.37646 to 7738.28613, saving model to ../models/best_model.keras\n",
      "\u001b[1m327/327\u001b[0m \u001b[32m━━━━━━━━━━━━━━━━━━━━\u001b[0m\u001b[37m\u001b[0m \u001b[1m2s\u001b[0m 5ms/step - loss: 7975.3750 - mae: 43.2933 - val_loss: 7738.2861 - val_mae: 41.7139 - learning_rate: 0.0010\n",
      "Epoch 12/100\n",
      "\u001b[1m318/327\u001b[0m \u001b[32m━━━━━━━━━━━━━━━━━━━\u001b[0m\u001b[37m━\u001b[0m \u001b[1m0s\u001b[0m 4ms/step - loss: 7977.2935 - mae: 43.3389\n",
      "Epoch 12: val_loss did not improve from 7738.28613\n",
      "\u001b[1m327/327\u001b[0m \u001b[32m━━━━━━━━━━━━━━━━━━━━\u001b[0m\u001b[37m\u001b[0m \u001b[1m1s\u001b[0m 4ms/step - loss: 7974.9995 - mae: 43.3164 - val_loss: 7826.0483 - val_mae: 43.3459 - learning_rate: 0.0010\n",
      "Epoch 13/100\n",
      "\u001b[1m318/327\u001b[0m \u001b[32m━━━━━━━━━━━━━━━━━━━\u001b[0m\u001b[37m━\u001b[0m \u001b[1m0s\u001b[0m 4ms/step - loss: 7574.4678 - mae: 42.1503\n",
      "Epoch 13: val_loss improved from 7738.28613 to 7517.69775, saving model to ../models/best_model.keras\n",
      "\u001b[1m327/327\u001b[0m \u001b[32m━━━━━━━━━━━━━━━━━━━━\u001b[0m\u001b[37m\u001b[0m \u001b[1m1s\u001b[0m 4ms/step - loss: 7577.6538 - mae: 42.1494 - val_loss: 7517.6978 - val_mae: 41.2457 - learning_rate: 0.0010\n",
      "Epoch 14/100\n",
      "\u001b[1m323/327\u001b[0m \u001b[32m━━━━━━━━━━━━━━━━━━━\u001b[0m\u001b[37m━\u001b[0m \u001b[1m0s\u001b[0m 4ms/step - loss: 7527.6304 - mae: 41.6260\n",
      "Epoch 14: val_loss did not improve from 7517.69775\n",
      "\u001b[1m327/327\u001b[0m \u001b[32m━━━━━━━━━━━━━━━━━━━━\u001b[0m\u001b[37m\u001b[0m \u001b[1m2s\u001b[0m 5ms/step - loss: 7528.4014 - mae: 41.6256 - val_loss: 7842.8652 - val_mae: 43.0630 - learning_rate: 0.0010\n",
      "Epoch 15/100\n",
      "\u001b[1m318/327\u001b[0m \u001b[32m━━━━━━━━━━━━━━━━━━━\u001b[0m\u001b[37m━\u001b[0m \u001b[1m0s\u001b[0m 4ms/step - loss: 7386.5679 - mae: 40.7181\n",
      "Epoch 15: val_loss did not improve from 7517.69775\n",
      "\u001b[1m327/327\u001b[0m \u001b[32m━━━━━━━━━━━━━━━━━━━━\u001b[0m\u001b[37m\u001b[0m \u001b[1m1s\u001b[0m 4ms/step - loss: 7388.5669 - mae: 40.7208 - val_loss: 7563.1211 - val_mae: 41.8714 - learning_rate: 0.0010\n",
      "Epoch 16/100\n",
      "\u001b[1m325/327\u001b[0m \u001b[32m━━━━━━━━━━━━━━━━━━━\u001b[0m\u001b[37m━\u001b[0m \u001b[1m0s\u001b[0m 4ms/step - loss: 7477.7500 - mae: 41.5891\n",
      "Epoch 16: val_loss did not improve from 7517.69775\n",
      "\u001b[1m327/327\u001b[0m \u001b[32m━━━━━━━━━━━━━━━━━━━━\u001b[0m\u001b[37m\u001b[0m \u001b[1m2s\u001b[0m 5ms/step - loss: 7478.3076 - mae: 41.5888 - val_loss: 8660.5840 - val_mae: 47.8698 - learning_rate: 0.0010\n",
      "Epoch 17/100\n",
      "\u001b[1m327/327\u001b[0m \u001b[32m━━━━━━━━━━━━━━━━━━━━\u001b[0m\u001b[37m\u001b[0m \u001b[1m0s\u001b[0m 4ms/step - loss: 6976.0303 - mae: 40.2368\n",
      "Epoch 17: val_loss improved from 7517.69775 to 7061.80176, saving model to ../models/best_model.keras\n",
      "\u001b[1m327/327\u001b[0m \u001b[32m━━━━━━━━━━━━━━━━━━━━\u001b[0m\u001b[37m\u001b[0m \u001b[1m2s\u001b[0m 5ms/step - loss: 6976.7349 - mae: 40.2371 - val_loss: 7061.8018 - val_mae: 39.3780 - learning_rate: 0.0010\n",
      "Epoch 18/100\n",
      "\u001b[1m326/327\u001b[0m \u001b[32m━━━━━━━━━━━━━━━━━━━\u001b[0m\u001b[37m━\u001b[0m \u001b[1m0s\u001b[0m 4ms/step - loss: 7175.7480 - mae: 40.4802\n",
      "Epoch 18: val_loss did not improve from 7061.80176\n",
      "\u001b[1m327/327\u001b[0m \u001b[32m━━━━━━━━━━━━━━━━━━━━\u001b[0m\u001b[37m\u001b[0m \u001b[1m2s\u001b[0m 5ms/step - loss: 7175.9546 - mae: 40.4794 - val_loss: 7349.4648 - val_mae: 40.4315 - learning_rate: 0.0010\n",
      "Epoch 19/100\n",
      "\u001b[1m316/327\u001b[0m \u001b[32m━━━━━━━━━━━━━━━━━━━\u001b[0m\u001b[37m━\u001b[0m \u001b[1m0s\u001b[0m 4ms/step - loss: 7377.0479 - mae: 40.6918\n",
      "Epoch 19: val_loss did not improve from 7061.80176\n",
      "\u001b[1m327/327\u001b[0m \u001b[32m━━━━━━━━━━━━━━━━━━━━\u001b[0m\u001b[37m\u001b[0m \u001b[1m2s\u001b[0m 5ms/step - loss: 7366.7783 - mae: 40.6566 - val_loss: 8384.2393 - val_mae: 45.7550 - learning_rate: 0.0010\n",
      "Epoch 20/100\n",
      "\u001b[1m321/327\u001b[0m \u001b[32m━━━━━━━━━━━━━━━━━━━\u001b[0m\u001b[37m━\u001b[0m \u001b[1m0s\u001b[0m 4ms/step - loss: 7443.9556 - mae: 40.8489\n",
      "Epoch 20: val_loss did not improve from 7061.80176\n",
      "\u001b[1m327/327\u001b[0m \u001b[32m━━━━━━━━━━━━━━━━━━━━\u001b[0m\u001b[37m\u001b[0m \u001b[1m2s\u001b[0m 4ms/step - loss: 7435.4297 - mae: 40.8265 - val_loss: 7529.9067 - val_mae: 43.4107 - learning_rate: 0.0010\n",
      "Epoch 21/100\n",
      "\u001b[1m326/327\u001b[0m \u001b[32m━━━━━━━━━━━━━━━━━━━\u001b[0m\u001b[37m━\u001b[0m \u001b[1m0s\u001b[0m 4ms/step - loss: 6929.1162 - mae: 39.5911\n",
      "Epoch 21: val_loss did not improve from 7061.80176\n",
      "\u001b[1m327/327\u001b[0m \u001b[32m━━━━━━━━━━━━━━━━━━━━\u001b[0m\u001b[37m\u001b[0m \u001b[1m1s\u001b[0m 4ms/step - loss: 6929.9048 - mae: 39.5914 - val_loss: 7272.0625 - val_mae: 42.2793 - learning_rate: 0.0010\n",
      "Epoch 22/100\n",
      "\u001b[1m324/327\u001b[0m \u001b[32m━━━━━━━━━━━━━━━━━━━\u001b[0m\u001b[37m━\u001b[0m \u001b[1m0s\u001b[0m 4ms/step - loss: 6658.3843 - mae: 38.5781\n",
      "Epoch 22: val_loss improved from 7061.80176 to 6931.77344, saving model to ../models/best_model.keras\n",
      "\u001b[1m327/327\u001b[0m \u001b[32m━━━━━━━━━━━━━━━━━━━━\u001b[0m\u001b[37m\u001b[0m \u001b[1m2s\u001b[0m 5ms/step - loss: 6659.3828 - mae: 38.5783 - val_loss: 6931.7734 - val_mae: 39.1145 - learning_rate: 0.0010\n",
      "Epoch 23/100\n",
      "\u001b[1m326/327\u001b[0m \u001b[32m━━━━━━━━━━━━━━━━━━━\u001b[0m\u001b[37m━\u001b[0m \u001b[1m0s\u001b[0m 4ms/step - loss: 6510.5107 - mae: 38.6379\n",
      "Epoch 23: val_loss did not improve from 6931.77344\n",
      "\u001b[1m327/327\u001b[0m \u001b[32m━━━━━━━━━━━━━━━━━━━━\u001b[0m\u001b[37m\u001b[0m \u001b[1m2s\u001b[0m 5ms/step - loss: 6512.4404 - mae: 38.6411 - val_loss: 7228.0771 - val_mae: 41.6823 - learning_rate: 0.0010\n",
      "Epoch 24/100\n",
      "\u001b[1m317/327\u001b[0m \u001b[32m━━━━━━━━━━━━━━━━━━━\u001b[0m\u001b[37m━\u001b[0m \u001b[1m0s\u001b[0m 4ms/step - loss: 6833.7104 - mae: 39.1762\n",
      "Epoch 24: val_loss improved from 6931.77344 to 6608.53857, saving model to ../models/best_model.keras\n",
      "\u001b[1m327/327\u001b[0m \u001b[32m━━━━━━━━━━━━━━━━━━━━\u001b[0m\u001b[37m\u001b[0m \u001b[1m2s\u001b[0m 5ms/step - loss: 6830.1597 - mae: 39.1598 - val_loss: 6608.5386 - val_mae: 36.9932 - learning_rate: 0.0010\n",
      "Epoch 25/100\n",
      "\u001b[1m315/327\u001b[0m \u001b[32m━━━━━━━━━━━━━━━━━━━\u001b[0m\u001b[37m━\u001b[0m \u001b[1m0s\u001b[0m 4ms/step - loss: 6609.2490 - mae: 38.1530\n",
      "Epoch 25: val_loss did not improve from 6608.53857\n",
      "\u001b[1m327/327\u001b[0m \u001b[32m━━━━━━━━━━━━━━━━━━━━\u001b[0m\u001b[37m\u001b[0m \u001b[1m2s\u001b[0m 5ms/step - loss: 6608.8760 - mae: 38.1529 - val_loss: 6982.5054 - val_mae: 38.1456 - learning_rate: 0.0010\n",
      "Epoch 26/100\n",
      "\u001b[1m321/327\u001b[0m \u001b[32m━━━━━━━━━━━━━━━━━━━\u001b[0m\u001b[37m━\u001b[0m \u001b[1m0s\u001b[0m 4ms/step - loss: 6619.5996 - mae: 38.4567\n",
      "Epoch 26: val_loss did not improve from 6608.53857\n",
      "\u001b[1m327/327\u001b[0m \u001b[32m━━━━━━━━━━━━━━━━━━━━\u001b[0m\u001b[37m\u001b[0m \u001b[1m1s\u001b[0m 4ms/step - loss: 6618.2568 - mae: 38.4478 - val_loss: 6723.6797 - val_mae: 37.4282 - learning_rate: 0.0010\n",
      "Epoch 27/100\n",
      "\u001b[1m315/327\u001b[0m \u001b[32m━━━━━━━━━━━━━━━━━━━\u001b[0m\u001b[37m━\u001b[0m \u001b[1m0s\u001b[0m 4ms/step - loss: 6240.9043 - mae: 36.3991\n",
      "Epoch 27: val_loss did not improve from 6608.53857\n",
      "\u001b[1m327/327\u001b[0m \u001b[32m━━━━━━━━━━━━━━━━━━━━\u001b[0m\u001b[37m\u001b[0m \u001b[1m2s\u001b[0m 4ms/step - loss: 6248.0640 - mae: 36.4315 - val_loss: 7144.1348 - val_mae: 40.1808 - learning_rate: 0.0010\n",
      "Epoch 28/100\n",
      "\u001b[1m315/327\u001b[0m \u001b[32m━━━━━━━━━━━━━━━━━━━\u001b[0m\u001b[37m━\u001b[0m \u001b[1m0s\u001b[0m 4ms/step - loss: 6340.2251 - mae: 37.0255\n",
      "Epoch 28: val_loss did not improve from 6608.53857\n",
      "\u001b[1m327/327\u001b[0m \u001b[32m━━━━━━━━━━━━━━━━━━━━\u001b[0m\u001b[37m\u001b[0m \u001b[1m1s\u001b[0m 4ms/step - loss: 6341.9702 - mae: 37.0250 - val_loss: 6963.1914 - val_mae: 40.6809 - learning_rate: 0.0010\n",
      "Epoch 29/100\n",
      "\u001b[1m316/327\u001b[0m \u001b[32m━━━━━━━━━━━━━━━━━━━\u001b[0m\u001b[37m━\u001b[0m \u001b[1m0s\u001b[0m 4ms/step - loss: 6114.4067 - mae: 36.6431\n",
      "Epoch 29: ReduceLROnPlateau reducing learning rate to 0.0005000000237487257.\n",
      "\n",
      "Epoch 29: val_loss did not improve from 6608.53857\n",
      "\u001b[1m327/327\u001b[0m \u001b[32m━━━━━━━━━━━━━━━━━━━━\u001b[0m\u001b[37m\u001b[0m \u001b[1m1s\u001b[0m 4ms/step - loss: 6121.8003 - mae: 36.6459 - val_loss: 6897.7461 - val_mae: 38.7885 - learning_rate: 0.0010\n"
     ]
    }
   ],
   "source": [
    "history = model.fit(X_train_scaled,y_train, validation_split=0.2, batch_size=64, epochs=100, callbacks=[callback])"
   ]
  },
  {
   "cell_type": "markdown",
   "id": "3fba5709",
   "metadata": {},
   "source": [
    "Kelebihan/Kekurangan<br>\n",
    "Kelebihan:\n",
    "- Arsitektur deep yang fleksibel untuk menangkap pola kompleks.\n",
    "- Callbacks mencegah overfitting dan meningkatkan efisiensi training.\n",
    "Kekurangan:\n",
    "- Rentan overfitting tanpa regularisasi tambahan.\n",
    "- Memerlukan data dalam jumlah besar untuk hasil optimal."
   ]
  },
  {
   "cell_type": "markdown",
   "id": "ddd7a625",
   "metadata": {},
   "source": [
    "## Evaluation"
   ]
  },
  {
   "cell_type": "markdown",
   "id": "962a6c0c",
   "metadata": {},
   "source": [
    "Metrik Evaluasi<br>\n",
    "Pada proyek ini digunakan dua metrik utama untuk mengevaluasi performa model regresi:\n",
    "\n",
    "- Mean Absolute Error (MAE): Mengukur rata-rata selisih absolut antara nilai prediksi dengan nilai aktual. Metrik ini cocok untuk mengetahui seberapa jauh rata-rata prediksi meleset dari nilai sebenarnya tanpa penalti besar terhadap outlier.\n",
    "\n",
    "- Mean Squared Error (MSE): Memberikan penalti lebih besar terhadap error yang besar (kuadrat dari selisih), sehingga cocok untuk mendeteksi prediksi yang jauh melenceng.\n",
    "\n",
    "Kedua metrik dipilih karena mampu memberikan gambaran menyeluruh tentang kualitas prediksi model regresi, terutama dalam konteks prediksi radiasi matahari yang membutuhkan presisi tinggi.\n",
    "\n"
   ]
  },
  {
   "cell_type": "code",
   "execution_count": 37,
   "id": "092869af",
   "metadata": {},
   "outputs": [
    {
     "data": {
      "image/png": "[encoded data removed]",
      "text/plain": [
       "<Figure size 1400x500 with 2 Axes>"
      ]
     },
     "metadata": {},
     "output_type": "display_data"
    }
   ],
   "source": [
    "loss = history.history['loss']\n",
    "val_loss = history.history['val_loss']\n",
    "mae = history.history['mae']\n",
    "val_mae = history.history['val_mae']\n",
    "epochs = range(1, len(loss) + 1)\n",
    "\n",
    "# Plot Loss\n",
    "plt.figure(figsize=(14, 5))\n",
    "\n",
    "plt.subplot(1, 2, 1)\n",
    "plt.plot(epochs, loss, 'bo-', label='Training Loss')\n",
    "plt.plot(epochs, val_loss, 'ro-', label='Validation Loss')\n",
    "plt.title('Training vs Validation Loss')\n",
    "plt.xlabel('Epochs')\n",
    "plt.ylabel('MSE Loss')\n",
    "plt.legend()\n",
    "\n",
    "# Plot MAE\n",
    "plt.subplot(1, 2, 2)\n",
    "plt.plot(epochs, mae, 'bo-', label='Training MAE')\n",
    "plt.plot(epochs, val_mae, 'ro-', label='Validation MAE')\n",
    "plt.title('Training vs Validation MAE')\n",
    "plt.xlabel('Epochs')\n",
    "plt.ylabel('Mean Absolute Error')\n",
    "plt.legend()\n",
    "\n",
    "plt.tight_layout()\n",
    "plt.show()"
   ]
  },
  {
   "cell_type": "code",
   "execution_count": 38,
   "id": "f51cf4b4",
   "metadata": {},
   "outputs": [
    {
     "name": "stdout",
     "output_type": "stream",
     "text": [
      "MAE sekitar 19.64% dari rata-rata radiation\n"
     ]
    }
   ],
   "source": [
    "val_mae = history.history['val_mae'][-1]\n",
    "mae_percent = (val_mae / y_test.mean()) * 100\n",
    "print(f\"MAE sekitar {mae_percent:.2f}% dari rata-rata radiation\")"
   ]
  },
  {
   "cell_type": "markdown",
   "id": "3ebacff0",
   "metadata": {},
   "source": [
    "Paparkan Hasil Evaluasi<br>\n",
    "Berdasarkan hasil training dengan model terbaik (dengan arsitektur dense 6-layer), diperoleh hasil evaluasi sebagai berikut:\n",
    "\n",
    "- MAE Validation (akhir): val_mae = {val_mae}\n",
    "\n",
    "- Rata-rata nilai aktual radiasi: y_test.mean() = {y_test.mean()}\n",
    "\n",
    "- Persentase MAE terhadap rata-rata:\n",
    "→ Model menghasilkan MAE sekitar {mae_percent:.2f}% dari rata-rata nilai aktual, yang menunjukkan bahwa model memiliki akurasi prediksi yang cukup baik untuk kebutuhan analisis radiasi matahari.\n",
    "\n",
    "Visualisasi juga memperkuat hasil evaluasi melalui grafik berikut:\n",
    "\n",
    "- Grafik Training vs Validation Loss (MSE)\n",
    "- Grafik Training vs Validation MAE\n",
    "\n",
    "Keduanya menunjukkan bahwa model tidak mengalami overfitting yang signifikan dan stabil selama proses pelatihan."
   ]
  },
  {
   "cell_type": "markdown",
   "id": "818675ec",
   "metadata": {},
   "source": [
    "Apakah sudah menjawab setiap problem statement?<br>\n",
    "✅ Ya. Model berhasil menjawab tantangan terbatasnya sistem prediksi radiasi matahari dengan membangun arsitektur deep learning berbasis data historis meteorologi. Selain itu, eksperimen ini menyediakan benchmark awal untuk model prediksi berbasis deep learning pada dataset terbuka.\n",
    "\n",
    "Apakah berhasil mencapai setiap goals?<br>\n",
    "✅ Ya. Tujuan untuk membangun sistem prediksi dan menyediakan baseline performa sudah tercapai. Model dapat digunakan sebagai titik awal pengembangan sistem energi surya berbasis prediksi.\n",
    "\n",
    "Apakah setiap solusi statement yang direncanakan berdampak?<br>\n",
    "✅ Ya.\n",
    "\n",
    "- Solusi pengembangan model deep learning berhasil menghasilkan performa yang baik.\n",
    "\n",
    "- Hyperparameter tuning mampu meningkatkan performa.\n",
    "\n",
    "- Evaluasi menggunakan MAE & MSE memberikan validasi yang kuat bahwa model dapat digunakan untuk skenario dunia nyata."
   ]
  }
 ],
 "metadata": {
  "kernelspec": {
   "display_name": ".venv",
   "language": "python",
   "name": "python3"
  },
  "language_info": {
   "codemirror_mode": {
    "name": "ipython",
    "version": 3
   },
   "file_extension": ".py",
   "mimetype": "text/x-python",
   "name": "python",
   "nbconvert_exporter": "python",
   "pygments_lexer": "ipython3",
   "version": "3.10.0"
  }
 },
 "nbformat": 4,
 "nbformat_minor": 5
}

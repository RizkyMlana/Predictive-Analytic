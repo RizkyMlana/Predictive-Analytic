{
 "cells": [
  {
   "cell_type": "markdown",
   "id": "e193a58d",
   "metadata": {},
   "source": [
    "# **Predictive Analytics**"
   ]
  },
  {
   "cell_type": "markdown",
   "id": "5db52510",
   "metadata": {},
   "source": [
    "- Import Library"
   ]
  },
  {
   "cell_type": "code",
   "execution_count": 21,
   "id": "1195a406",
   "metadata": {},
   "outputs": [],
   "source": [
    "import pandas as pd\n",
    "import matplotlib.pyplot as plt\n",
    "import seaborn as sns\n",
    "from sklearn.model_selection import train_test_split\n",
    "from sklearn.preprocessing import StandardScaler\n",
    "from tensorflow.keras.models import Sequential\n",
    "from tensorflow.keras.layers import Dense\n",
    "from tensorflow.keras.callbacks import EarlyStopping, ReduceLROnPlateau, ModelCheckpoint"
   ]
  },
  {
   "cell_type": "markdown",
   "id": "791ddeac",
   "metadata": {},
   "source": [
    "- Load Data"
   ]
  },
  {
   "cell_type": "markdown",
   "id": "c5837833",
   "metadata": {},
   "source": [
    "Dataset yang digunakan dalam proyek ini diambil dari Kaggle - Solar Energy, yang berisi data pengukuran kondisi cuaca dan radiasi matahari di berbagai waktu. Dataset ini digunakan untuk membangun model prediktif terhadap nilai radiasi matahari berdasarkan kondisi cuaca historis. \n",
    "[Solar Energy](https://www.kaggle.com/datasets/dronio/SolarEnergy)."
   ]
  },
  {
   "cell_type": "code",
   "execution_count": 22,
   "id": "dec2b264",
   "metadata": {},
   "outputs": [
    {
     "name": "stderr",
     "output_type": "stream",
     "text": [
      "C:\\Users\\acer\\AppData\\Local\\Temp\\ipykernel_12496\\2920403303.py:1: UserWarning: Could not infer format, so each element will be parsed individually, falling back to `dateutil`. To ensure parsing is consistent and as-expected, please specify a format.\n",
      "  df = pd.read_csv('../data/raw/SolarPrediction.csv', parse_dates=['Time'])\n"
     ]
    }
   ],
   "source": [
    "df = pd.read_csv('../data/raw/SolarPrediction.csv', parse_dates=['Time'])"
   ]
  },
  {
   "cell_type": "markdown",
   "id": "439c1531",
   "metadata": {},
   "source": [
    "Dataset memiliki sekitar 32.000 baris data yang merepresentasikan pengukuran harian atau periodik (tergantung preprocessing) dari variabel-variabel cuaca dan radiasi matahari.\n",
    "- UNIXTime : Waktu dalam format UNIX timestamp.\n",
    "- Data : Format waktu yang telah di-decode dari UNIXTime.\n",
    "- Radiation : Nilai radiasi matahari (target yang akan diprediksi).\n",
    "- Temperature : Suhu udara pada waktu pengukuran.\n",
    "- Pressure : Tekanan udara.\n",
    "- Humidity : Kelembaban udara.\n",
    "- WindDirection(Degrees) : Arah angin dalam derajat.\n",
    "- Speed : Kecepatan angin.\n",
    "- TimeSunRise, TimeSunSet : Waktu matahari terbit dan terbenam.\n",
    "- Time : Waktu lokal dari pengukuran."
   ]
  },
  {
   "cell_type": "markdown",
   "id": "04a6df3e",
   "metadata": {},
   "source": [
    "## Exploration Data Analysis"
   ]
  },
  {
   "cell_type": "code",
   "execution_count": 23,
   "id": "d9c23211",
   "metadata": {},
   "outputs": [
    {
     "data": {
      "application/vnd.microsoft.datawrangler.viewer.v0+json": {
       "columns": [
        {
         "name": "index",
         "rawType": "int64",
         "type": "integer"
        },
        {
         "name": "UNIXTime",
         "rawType": "int64",
         "type": "integer"
        },
        {
         "name": "Data",
         "rawType": "object",
         "type": "string"
        },
        {
         "name": "Time",
         "rawType": "datetime64[ns]",
         "type": "datetime"
        },
        {
         "name": "Radiation",
         "rawType": "float64",
         "type": "float"
        },
        {
         "name": "Temperature",
         "rawType": "int64",
         "type": "integer"
        },
        {
         "name": "Pressure",
         "rawType": "float64",
         "type": "float"
        },
        {
         "name": "Humidity",
         "rawType": "int64",
         "type": "integer"
        },
        {
         "name": "WindDirection(Degrees)",
         "rawType": "float64",
         "type": "float"
        },
        {
         "name": "Speed",
         "rawType": "float64",
         "type": "float"
        },
        {
         "name": "TimeSunRise",
         "rawType": "object",
         "type": "string"
        },
        {
         "name": "TimeSunSet",
         "rawType": "object",
         "type": "string"
        }
       ],
       "ref": "451638a6-0a58-4ae1-ad71-8ea50ed7a1c4",
       "rows": [
        [
         "0",
         "1475229326",
         "9/29/2016 12:00:00 AM",
         "2025-05-25 23:55:26",
         "1.21",
         "48",
         "30.46",
         "59",
         "177.39",
         "5.62",
         "06:13:00",
         "18:13:00"
        ],
        [
         "1",
         "1475229023",
         "9/29/2016 12:00:00 AM",
         "2025-05-25 23:50:23",
         "1.21",
         "48",
         "30.46",
         "58",
         "176.78",
         "3.37",
         "06:13:00",
         "18:13:00"
        ],
        [
         "2",
         "1475228726",
         "9/29/2016 12:00:00 AM",
         "2025-05-25 23:45:26",
         "1.23",
         "48",
         "30.46",
         "57",
         "158.75",
         "3.37",
         "06:13:00",
         "18:13:00"
        ],
        [
         "3",
         "1475228421",
         "9/29/2016 12:00:00 AM",
         "2025-05-25 23:40:21",
         "1.21",
         "48",
         "30.46",
         "60",
         "137.71",
         "3.37",
         "06:13:00",
         "18:13:00"
        ],
        [
         "4",
         "1475228124",
         "9/29/2016 12:00:00 AM",
         "2025-05-25 23:35:24",
         "1.17",
         "48",
         "30.46",
         "62",
         "104.95",
         "5.62",
         "06:13:00",
         "18:13:00"
        ]
       ],
       "shape": {
        "columns": 11,
        "rows": 5
       }
      },
      "text/html": [
       "<div>\n",
       "<style scoped>\n",
       "    .dataframe tbody tr th:only-of-type {\n",
       "        vertical-align: middle;\n",
       "    }\n",
       "\n",
       "    .dataframe tbody tr th {\n",
       "        vertical-align: top;\n",
       "    }\n",
       "\n",
       "    .dataframe thead th {\n",
       "        text-align: right;\n",
       "    }\n",
       "</style>\n",
       "<table border=\"1\" class=\"dataframe\">\n",
       "  <thead>\n",
       "    <tr style=\"text-align: right;\">\n",
       "      <th></th>\n",
       "      <th>UNIXTime</th>\n",
       "      <th>Data</th>\n",
       "      <th>Time</th>\n",
       "      <th>Radiation</th>\n",
       "      <th>Temperature</th>\n",
       "      <th>Pressure</th>\n",
       "      <th>Humidity</th>\n",
       "      <th>WindDirection(Degrees)</th>\n",
       "      <th>Speed</th>\n",
       "      <th>TimeSunRise</th>\n",
       "      <th>TimeSunSet</th>\n",
       "    </tr>\n",
       "  </thead>\n",
       "  <tbody>\n",
       "    <tr>\n",
       "      <th>0</th>\n",
       "      <td>1475229326</td>\n",
       "      <td>9/29/2016 12:00:00 AM</td>\n",
       "      <td>2025-05-25 23:55:26</td>\n",
       "      <td>1.21</td>\n",
       "      <td>48</td>\n",
       "      <td>30.46</td>\n",
       "      <td>59</td>\n",
       "      <td>177.39</td>\n",
       "      <td>5.62</td>\n",
       "      <td>06:13:00</td>\n",
       "      <td>18:13:00</td>\n",
       "    </tr>\n",
       "    <tr>\n",
       "      <th>1</th>\n",
       "      <td>1475229023</td>\n",
       "      <td>9/29/2016 12:00:00 AM</td>\n",
       "      <td>2025-05-25 23:50:23</td>\n",
       "      <td>1.21</td>\n",
       "      <td>48</td>\n",
       "      <td>30.46</td>\n",
       "      <td>58</td>\n",
       "      <td>176.78</td>\n",
       "      <td>3.37</td>\n",
       "      <td>06:13:00</td>\n",
       "      <td>18:13:00</td>\n",
       "    </tr>\n",
       "    <tr>\n",
       "      <th>2</th>\n",
       "      <td>1475228726</td>\n",
       "      <td>9/29/2016 12:00:00 AM</td>\n",
       "      <td>2025-05-25 23:45:26</td>\n",
       "      <td>1.23</td>\n",
       "      <td>48</td>\n",
       "      <td>30.46</td>\n",
       "      <td>57</td>\n",
       "      <td>158.75</td>\n",
       "      <td>3.37</td>\n",
       "      <td>06:13:00</td>\n",
       "      <td>18:13:00</td>\n",
       "    </tr>\n",
       "    <tr>\n",
       "      <th>3</th>\n",
       "      <td>1475228421</td>\n",
       "      <td>9/29/2016 12:00:00 AM</td>\n",
       "      <td>2025-05-25 23:40:21</td>\n",
       "      <td>1.21</td>\n",
       "      <td>48</td>\n",
       "      <td>30.46</td>\n",
       "      <td>60</td>\n",
       "      <td>137.71</td>\n",
       "      <td>3.37</td>\n",
       "      <td>06:13:00</td>\n",
       "      <td>18:13:00</td>\n",
       "    </tr>\n",
       "    <tr>\n",
       "      <th>4</th>\n",
       "      <td>1475228124</td>\n",
       "      <td>9/29/2016 12:00:00 AM</td>\n",
       "      <td>2025-05-25 23:35:24</td>\n",
       "      <td>1.17</td>\n",
       "      <td>48</td>\n",
       "      <td>30.46</td>\n",
       "      <td>62</td>\n",
       "      <td>104.95</td>\n",
       "      <td>5.62</td>\n",
       "      <td>06:13:00</td>\n",
       "      <td>18:13:00</td>\n",
       "    </tr>\n",
       "  </tbody>\n",
       "</table>\n",
       "</div>"
      ],
      "text/plain": [
       "     UNIXTime                   Data                Time  Radiation  \\\n",
       "0  1475229326  9/29/2016 12:00:00 AM 2025-05-25 23:55:26       1.21   \n",
       "1  1475229023  9/29/2016 12:00:00 AM 2025-05-25 23:50:23       1.21   \n",
       "2  1475228726  9/29/2016 12:00:00 AM 2025-05-25 23:45:26       1.23   \n",
       "3  1475228421  9/29/2016 12:00:00 AM 2025-05-25 23:40:21       1.21   \n",
       "4  1475228124  9/29/2016 12:00:00 AM 2025-05-25 23:35:24       1.17   \n",
       "\n",
       "   Temperature  Pressure  Humidity  WindDirection(Degrees)  Speed TimeSunRise  \\\n",
       "0           48     30.46        59                  177.39   5.62    06:13:00   \n",
       "1           48     30.46        58                  176.78   3.37    06:13:00   \n",
       "2           48     30.46        57                  158.75   3.37    06:13:00   \n",
       "3           48     30.46        60                  137.71   3.37    06:13:00   \n",
       "4           48     30.46        62                  104.95   5.62    06:13:00   \n",
       "\n",
       "  TimeSunSet  \n",
       "0   18:13:00  \n",
       "1   18:13:00  \n",
       "2   18:13:00  \n",
       "3   18:13:00  \n",
       "4   18:13:00  "
      ]
     },
     "execution_count": 23,
     "metadata": {},
     "output_type": "execute_result"
    }
   ],
   "source": [
    "df.head()"
   ]
  },
  {
   "cell_type": "code",
   "execution_count": 24,
   "id": "d36accac",
   "metadata": {},
   "outputs": [
    {
     "data": {
      "application/vnd.microsoft.datawrangler.viewer.v0+json": {
       "columns": [
        {
         "name": "index",
         "rawType": "object",
         "type": "string"
        },
        {
         "name": "0",
         "rawType": "object",
         "type": "unknown"
        }
       ],
       "ref": "bb1d2836-d227-4479-a8de-34e41c55a246",
       "rows": [
        [
         "UNIXTime",
         "int64"
        ],
        [
         "Data",
         "object"
        ],
        [
         "Time",
         "datetime64[ns]"
        ],
        [
         "Radiation",
         "float64"
        ],
        [
         "Temperature",
         "int64"
        ],
        [
         "Pressure",
         "float64"
        ],
        [
         "Humidity",
         "int64"
        ],
        [
         "WindDirection(Degrees)",
         "float64"
        ],
        [
         "Speed",
         "float64"
        ],
        [
         "TimeSunRise",
         "object"
        ],
        [
         "TimeSunSet",
         "object"
        ]
       ],
       "shape": {
        "columns": 1,
        "rows": 11
       }
      },
      "text/plain": [
       "UNIXTime                           int64\n",
       "Data                              object\n",
       "Time                      datetime64[ns]\n",
       "Radiation                        float64\n",
       "Temperature                        int64\n",
       "Pressure                         float64\n",
       "Humidity                           int64\n",
       "WindDirection(Degrees)           float64\n",
       "Speed                            float64\n",
       "TimeSunRise                       object\n",
       "TimeSunSet                        object\n",
       "dtype: object"
      ]
     },
     "execution_count": 24,
     "metadata": {},
     "output_type": "execute_result"
    }
   ],
   "source": [
    "df.dtypes"
   ]
  },
  {
   "cell_type": "markdown",
   "id": "de4e9ea6",
   "metadata": {},
   "source": [
    "1. Pemeriksaan Struktur Data dan Missing Value :\n",
    "Dataset terdiri dari lebih dari 32.000 baris dengan berbagai variabel cuaca seperti Temperature, Humidity, Wind Speed, Radiation sebagai target. Hasil pengecekan menunjukan bahwa tidak terdapat missing value pada dataset, sehingga tidak diperlukan penanganan khusus terdapat nilai kosong."
   ]
  },
  {
   "cell_type": "code",
   "execution_count": 25,
   "id": "af67f666",
   "metadata": {},
   "outputs": [
    {
     "data": {
      "application/vnd.microsoft.datawrangler.viewer.v0+json": {
       "columns": [
        {
         "name": "index",
         "rawType": "object",
         "type": "string"
        },
        {
         "name": "0",
         "rawType": "int64",
         "type": "integer"
        }
       ],
       "ref": "71af8d7a-c26d-4462-9bdf-6b59c7dc2f8f",
       "rows": [
        [
         "UNIXTime",
         "0"
        ],
        [
         "Data",
         "0"
        ],
        [
         "Time",
         "0"
        ],
        [
         "Radiation",
         "0"
        ],
        [
         "Temperature",
         "0"
        ],
        [
         "Pressure",
         "0"
        ],
        [
         "Humidity",
         "0"
        ],
        [
         "WindDirection(Degrees)",
         "0"
        ],
        [
         "Speed",
         "0"
        ],
        [
         "TimeSunRise",
         "0"
        ],
        [
         "TimeSunSet",
         "0"
        ]
       ],
       "shape": {
        "columns": 1,
        "rows": 11
       }
      },
      "text/plain": [
       "UNIXTime                  0\n",
       "Data                      0\n",
       "Time                      0\n",
       "Radiation                 0\n",
       "Temperature               0\n",
       "Pressure                  0\n",
       "Humidity                  0\n",
       "WindDirection(Degrees)    0\n",
       "Speed                     0\n",
       "TimeSunRise               0\n",
       "TimeSunSet                0\n",
       "dtype: int64"
      ]
     },
     "execution_count": 25,
     "metadata": {},
     "output_type": "execute_result"
    }
   ],
   "source": [
    "df.isna().sum()"
   ]
  },
  {
   "cell_type": "markdown",
   "id": "c720e45e",
   "metadata": {},
   "source": [
    "2. Statistik Deskriptif : \n",
    "Nilai rata - rata radiasi berkisar 207 W/m², dengan nilai max mendekati 1601 W/m². Ini menunjukan adanya variasi besar pada intensitas cahaya matahari sepanjang waktu pengamatan, kemungkinan dipengaruhi oleh waktu dalam sehari, musim dan kondisi cuaca"
   ]
  },
  {
   "cell_type": "code",
   "execution_count": 26,
   "id": "891224c6",
   "metadata": {},
   "outputs": [
    {
     "data": {
      "application/vnd.microsoft.datawrangler.viewer.v0+json": {
       "columns": [
        {
         "name": "index",
         "rawType": "object",
         "type": "string"
        },
        {
         "name": "UNIXTime",
         "rawType": "float64",
         "type": "float"
        },
        {
         "name": "Time",
         "rawType": "object",
         "type": "unknown"
        },
        {
         "name": "Radiation",
         "rawType": "float64",
         "type": "float"
        },
        {
         "name": "Temperature",
         "rawType": "float64",
         "type": "float"
        },
        {
         "name": "Pressure",
         "rawType": "float64",
         "type": "float"
        },
        {
         "name": "Humidity",
         "rawType": "float64",
         "type": "float"
        },
        {
         "name": "WindDirection(Degrees)",
         "rawType": "float64",
         "type": "float"
        },
        {
         "name": "Speed",
         "rawType": "float64",
         "type": "float"
        }
       ],
       "ref": "dc7ad0f1-54f7-4d90-8d57-214364a90e9c",
       "rows": [
        [
         "count",
         "32686.0",
         "32686",
         "32686.0",
         "32686.0",
         "32686.0",
         "32686.0",
         "32686.0",
         "32686.0"
        ],
        [
         "mean",
         "1478047264.9448082",
         "2025-05-25 12:01:17.574068480",
         "207.12469742397357",
         "51.10325521630055",
         "30.42287890840115",
         "75.01630667564095",
         "143.48982071835036",
         "6.243869240653491"
        ],
        [
         "min",
         "1472724008.0",
         "2025-05-25 00:00:01",
         "1.11",
         "34.0",
         "30.19",
         "8.0",
         "0.09",
         "0.0"
        ],
        [
         "25%",
         "1475546497.5",
         "2025-05-25 06:00:17",
         "1.23",
         "46.0",
         "30.4",
         "56.0",
         "82.22749999999999",
         "3.37"
        ],
        [
         "50%",
         "1478026069.5",
         "2025-05-25 12:00:30",
         "2.66",
         "50.0",
         "30.43",
         "85.0",
         "147.7",
         "5.62"
        ],
        [
         "75%",
         "1480480128.0",
         "2025-05-25 18:00:49",
         "354.235",
         "55.0",
         "30.46",
         "97.0",
         "179.31",
         "7.87"
        ],
        [
         "max",
         "1483264501.0",
         "2025-05-25 23:56:25",
         "1601.26",
         "71.0",
         "30.56",
         "103.0",
         "359.95",
         "40.5"
        ],
        [
         "std",
         "3005036.6420480353",
         null,
         "315.91638719511025",
         "6.20115735704016",
         "0.05467315506388666",
         "25.990218508443228",
         "83.16749964761783",
         "3.4904735500653947"
        ]
       ],
       "shape": {
        "columns": 8,
        "rows": 8
       }
      },
      "text/html": [
       "<div>\n",
       "<style scoped>\n",
       "    .dataframe tbody tr th:only-of-type {\n",
       "        vertical-align: middle;\n",
       "    }\n",
       "\n",
       "    .dataframe tbody tr th {\n",
       "        vertical-align: top;\n",
       "    }\n",
       "\n",
       "    .dataframe thead th {\n",
       "        text-align: right;\n",
       "    }\n",
       "</style>\n",
       "<table border=\"1\" class=\"dataframe\">\n",
       "  <thead>\n",
       "    <tr style=\"text-align: right;\">\n",
       "      <th></th>\n",
       "      <th>UNIXTime</th>\n",
       "      <th>Time</th>\n",
       "      <th>Radiation</th>\n",
       "      <th>Temperature</th>\n",
       "      <th>Pressure</th>\n",
       "      <th>Humidity</th>\n",
       "      <th>WindDirection(Degrees)</th>\n",
       "      <th>Speed</th>\n",
       "    </tr>\n",
       "  </thead>\n",
       "  <tbody>\n",
       "    <tr>\n",
       "      <th>count</th>\n",
       "      <td>3.268600e+04</td>\n",
       "      <td>32686</td>\n",
       "      <td>32686.000000</td>\n",
       "      <td>32686.000000</td>\n",
       "      <td>32686.000000</td>\n",
       "      <td>32686.000000</td>\n",
       "      <td>32686.000000</td>\n",
       "      <td>32686.000000</td>\n",
       "    </tr>\n",
       "    <tr>\n",
       "      <th>mean</th>\n",
       "      <td>1.478047e+09</td>\n",
       "      <td>2025-05-25 12:01:17.574068480</td>\n",
       "      <td>207.124697</td>\n",
       "      <td>51.103255</td>\n",
       "      <td>30.422879</td>\n",
       "      <td>75.016307</td>\n",
       "      <td>143.489821</td>\n",
       "      <td>6.243869</td>\n",
       "    </tr>\n",
       "    <tr>\n",
       "      <th>min</th>\n",
       "      <td>1.472724e+09</td>\n",
       "      <td>2025-05-25 00:00:01</td>\n",
       "      <td>1.110000</td>\n",
       "      <td>34.000000</td>\n",
       "      <td>30.190000</td>\n",
       "      <td>8.000000</td>\n",
       "      <td>0.090000</td>\n",
       "      <td>0.000000</td>\n",
       "    </tr>\n",
       "    <tr>\n",
       "      <th>25%</th>\n",
       "      <td>1.475546e+09</td>\n",
       "      <td>2025-05-25 06:00:17</td>\n",
       "      <td>1.230000</td>\n",
       "      <td>46.000000</td>\n",
       "      <td>30.400000</td>\n",
       "      <td>56.000000</td>\n",
       "      <td>82.227500</td>\n",
       "      <td>3.370000</td>\n",
       "    </tr>\n",
       "    <tr>\n",
       "      <th>50%</th>\n",
       "      <td>1.478026e+09</td>\n",
       "      <td>2025-05-25 12:00:30</td>\n",
       "      <td>2.660000</td>\n",
       "      <td>50.000000</td>\n",
       "      <td>30.430000</td>\n",
       "      <td>85.000000</td>\n",
       "      <td>147.700000</td>\n",
       "      <td>5.620000</td>\n",
       "    </tr>\n",
       "    <tr>\n",
       "      <th>75%</th>\n",
       "      <td>1.480480e+09</td>\n",
       "      <td>2025-05-25 18:00:49</td>\n",
       "      <td>354.235000</td>\n",
       "      <td>55.000000</td>\n",
       "      <td>30.460000</td>\n",
       "      <td>97.000000</td>\n",
       "      <td>179.310000</td>\n",
       "      <td>7.870000</td>\n",
       "    </tr>\n",
       "    <tr>\n",
       "      <th>max</th>\n",
       "      <td>1.483265e+09</td>\n",
       "      <td>2025-05-25 23:56:25</td>\n",
       "      <td>1601.260000</td>\n",
       "      <td>71.000000</td>\n",
       "      <td>30.560000</td>\n",
       "      <td>103.000000</td>\n",
       "      <td>359.950000</td>\n",
       "      <td>40.500000</td>\n",
       "    </tr>\n",
       "    <tr>\n",
       "      <th>std</th>\n",
       "      <td>3.005037e+06</td>\n",
       "      <td>NaN</td>\n",
       "      <td>315.916387</td>\n",
       "      <td>6.201157</td>\n",
       "      <td>0.054673</td>\n",
       "      <td>25.990219</td>\n",
       "      <td>83.167500</td>\n",
       "      <td>3.490474</td>\n",
       "    </tr>\n",
       "  </tbody>\n",
       "</table>\n",
       "</div>"
      ],
      "text/plain": [
       "           UNIXTime                           Time     Radiation  \\\n",
       "count  3.268600e+04                          32686  32686.000000   \n",
       "mean   1.478047e+09  2025-05-25 12:01:17.574068480    207.124697   \n",
       "min    1.472724e+09            2025-05-25 00:00:01      1.110000   \n",
       "25%    1.475546e+09            2025-05-25 06:00:17      1.230000   \n",
       "50%    1.478026e+09            2025-05-25 12:00:30      2.660000   \n",
       "75%    1.480480e+09            2025-05-25 18:00:49    354.235000   \n",
       "max    1.483265e+09            2025-05-25 23:56:25   1601.260000   \n",
       "std    3.005037e+06                            NaN    315.916387   \n",
       "\n",
       "        Temperature      Pressure      Humidity  WindDirection(Degrees)  \\\n",
       "count  32686.000000  32686.000000  32686.000000            32686.000000   \n",
       "mean      51.103255     30.422879     75.016307              143.489821   \n",
       "min       34.000000     30.190000      8.000000                0.090000   \n",
       "25%       46.000000     30.400000     56.000000               82.227500   \n",
       "50%       50.000000     30.430000     85.000000              147.700000   \n",
       "75%       55.000000     30.460000     97.000000              179.310000   \n",
       "max       71.000000     30.560000    103.000000              359.950000   \n",
       "std        6.201157      0.054673     25.990219               83.167500   \n",
       "\n",
       "              Speed  \n",
       "count  32686.000000  \n",
       "mean       6.243869  \n",
       "min        0.000000  \n",
       "25%        3.370000  \n",
       "50%        5.620000  \n",
       "75%        7.870000  \n",
       "max       40.500000  \n",
       "std        3.490474  "
      ]
     },
     "execution_count": 26,
     "metadata": {},
     "output_type": "execute_result"
    }
   ],
   "source": [
    "df.describe()"
   ]
  },
  {
   "cell_type": "code",
   "execution_count": 27,
   "id": "88c58639",
   "metadata": {},
   "outputs": [
    {
     "data": {
      "text/plain": [
       "np.int64(0)"
      ]
     },
     "execution_count": 27,
     "metadata": {},
     "output_type": "execute_result"
    }
   ],
   "source": [
    "df.duplicated().sum()"
   ]
  },
  {
   "cell_type": "markdown",
   "id": "b03ea876",
   "metadata": {},
   "source": [
    "3. Distribusi Nilai Radiation :\n",
    "Visualisasi histogram menunjukkan bahwa distribusi Radiation cenderung right-skewed, yaitu sebagian besar nilai berada di rentang rendah (sekitar 0–200 W/m²), dan hanya sedikit yang mencapai angka sangat tinggi. Pola ini wajar karena intensitas matahari tertinggi hanya terjadi dalam waktu tertentu (misalnya, siang hari pada hari cerah)."
   ]
  },
  {
   "cell_type": "code",
   "execution_count": 28,
   "id": "9787afb1",
   "metadata": {},
   "outputs": [
    {
     "data": {
      "image/png": "[encoded data removed]",
      "text/plain": [
       "<Figure size 800x500 with 1 Axes>"
      ]
     },
     "metadata": {},
     "output_type": "display_data"
    }
   ],
   "source": [
    "plt.figure(figsize=(8,5))\n",
    "sns.histplot(df['Radiation'], kde=True, bins=50, color='orange')\n",
    "plt.title('Distribusi Nilai Radiasi Matahari')\n",
    "plt.xlabel('Radiation')\n",
    "plt.ylabel('Frequency')\n",
    "plt.show()"
   ]
  },
  {
   "cell_type": "markdown",
   "id": "7ad413e6",
   "metadata": {},
   "source": [
    "4. Korelasi Antar Fitur :\n",
    "Hasil perhitungan matriks korelasi menunjukkan bahwa:\n",
    "    - Temperature memiliki korelasi positif yang cukup tinggi dengan Radiation (~0.63), yang masuk akal karena suhu biasanya meningkat seiring dengan meningkatnya radiasi matahari.\n",
    "    - Humidity menunjukkan korelasi negatif terhadap Radiation, yang berarti semakin tinggi kelembaban, semakin rendah kemungkinan intensitas cahaya matahari (karena awan atau uap air menyerap sinar).\n",
    "    - Fitur lain seperti Pressure, WindDirection, dan Speed menunjukkan korelasi yang lebih lemah terhadap target."
   ]
  },
  {
   "cell_type": "code",
   "execution_count": 29,
   "id": "6c459e17",
   "metadata": {},
   "outputs": [],
   "source": [
    "numerical_cols = ['Radiation', 'Temperature', 'Pressure', 'Humidity', 'WindDirection(Degrees)', 'Speed']\n",
    "correlation_matrix = df[numerical_cols].corr()"
   ]
  },
  {
   "cell_type": "code",
   "execution_count": 30,
   "id": "6a4a9883",
   "metadata": {},
   "outputs": [
    {
     "data": {
      "image/png": "[encoded data removed]",
      "text/plain": [
       "<Figure size 1000x700 with 2 Axes>"
      ]
     },
     "metadata": {},
     "output_type": "display_data"
    }
   ],
   "source": [
    "plt.figure(figsize=(10, 7))\n",
    "sns.heatmap(correlation_matrix, annot=True, cmap='coolwarm', fmt='.2f')\n",
    "plt.title('Heatmap Korelasi antar Fitur')\n",
    "plt.show()"
   ]
  },
  {
   "cell_type": "markdown",
   "id": "405958f8",
   "metadata": {},
   "source": [
    "## Data Preprocessing"
   ]
  },
  {
   "cell_type": "markdown",
   "id": "511fd3ee",
   "metadata": {},
   "source": [
    "1. Seleksi dan Fitur Engineering :\n",
    "Berdasarkan hasil eksplorasi data (EDA), fitur - fitur yang digunakan selain fitur asli dari dataset seperti Temperature, Humidity, Pressure, WindDirection(Degrees), dan Speed, dilakukan penambahan fitur baru berdasarkan informasi waktu (Time, SunRise, dan SunSet). Fitur tambahan tersebut adalah :\n",
    "    - SunRiseMinutes : Waktu matahari terbit dalam menit dari pukul 00:00\n",
    "    - SunSetMinutes : Waktu matahari terbenam dalam menit dari pukul 00:00\n",
    "    - CurrentMinutes : Waktu saat pengukuran dalam menit dari pukul 00:00\n",
    "    - MinutesSinceSunRise : Selisih menit antara waktu sekarang dan waktu matahari terbit\n",
    "    - MinuteUntilSunset : Selisih menit antara waktu matahari terbenam dan waktu sekarang\n",
    "    - DaylightDuration : Durasi siang hari dalam menit"
   ]
  },
  {
   "cell_type": "code",
   "execution_count": 31,
   "id": "18ecfc29",
   "metadata": {},
   "outputs": [],
   "source": [
    "def time_to_minutes(t):\n",
    "    return t.hour * 60 + t.minute + t.second / 60\n",
    "df['Temperature'] = df['Temperature'].astype(float)\n",
    "df['Humidity'] = df['Humidity'].astype(float)\n",
    "df['TimeSunRise'] = pd.to_datetime(df['TimeSunRise'], format=\"%H:%M:%S\").dt.time\n",
    "df['TimeSunSet'] = pd.to_datetime(df['TimeSunSet'], format=\"%H:%M:%S\").dt.time\n",
    "df['SunRiseMinutes'] = df['TimeSunRise'].apply(time_to_minutes)\n",
    "df['SunSetMinutes'] = df['TimeSunSet'].apply(time_to_minutes)\n",
    "df['CurrentMinutes'] = df['Time'].apply(time_to_minutes)\n",
    "df['MinutesSinceSunrise'] = df['CurrentMinutes'] - df['SunRiseMinutes']\n",
    "df['MinutesUntilSunset'] = df['SunSetMinutes'] - df['CurrentMinutes']\n",
    "df['DaylightDuration'] = df['SunSetMinutes'] - df['SunRiseMinutes']\n",
    "df = df.drop(columns=['UNIXTime','Data','Time','TimeSunRise','TimeSunSet'])"
   ]
  },
  {
   "cell_type": "markdown",
   "id": "9418a479",
   "metadata": {},
   "source": [
    "2. Handling Outlier :\n",
    "Untuk menjaga kualitas data yang masuk ke model, dilakukan normalisasi terhadap nilai - nilai ekstrem (outlier). Penanganan ini penting agar model tidak terdistraksi oleh data yang tidak representatif. Metode yang digunakan adalah clipping berdasarkan distribusi kuartil (IQR)"
   ]
  },
  {
   "cell_type": "code",
   "execution_count": 32,
   "id": "490ee646",
   "metadata": {},
   "outputs": [
    {
     "name": "stdout",
     "output_type": "stream",
     "text": [
      "Kolom Radiation : 1965 outlier\n",
      "Kolom Temperature : 89 outlier\n",
      "Kolom Pressure : 1662 outlier\n",
      "Kolom Humidity : 0 outlier\n",
      "Kolom WindDirection(Degrees) : 1618 outlier\n",
      "Kolom Speed : 479 outlier\n",
      "Kolom SunRiseMinutes : 0 outlier\n",
      "Kolom SunSetMinutes : 0 outlier\n",
      "Kolom CurrentMinutes : 0 outlier\n",
      "Kolom MinutesSinceSunrise : 0 outlier\n",
      "Kolom MinutesUntilSunset : 0 outlier\n",
      "Kolom DaylightDuration : 0 outlier\n"
     ]
    }
   ],
   "source": [
    "numeric =  df.select_dtypes(include=\"number\").columns\n",
    "for i in numeric:\n",
    "    Q1 = df[i].quantile(0.25)\n",
    "    Q3 = df[i].quantile(0.75)\n",
    "    IQR = Q3 - Q1\n",
    "    lower = Q1 - 1.5 * IQR\n",
    "    upper = Q3 + 1.5 * IQR\n",
    "\n",
    "    outlier = df[(df[i] < lower) | (df[i] > upper)]\n",
    "    print(f\"Kolom {i} : {len(outlier)} outlier\")"
   ]
  },
  {
   "cell_type": "code",
   "execution_count": 33,
   "id": "b6970f90",
   "metadata": {},
   "outputs": [
    {
     "name": "stdout",
     "output_type": "stream",
     "text": [
      "Kolom Radiation : 0 outlier\n",
      "Kolom Temperature : 0 outlier\n",
      "Kolom Pressure : 0 outlier\n",
      "Kolom Humidity : 0 outlier\n",
      "Kolom WindDirection(Degrees) : 0 outlier\n",
      "Kolom Speed : 0 outlier\n",
      "Kolom SunRiseMinutes : 0 outlier\n",
      "Kolom SunSetMinutes : 0 outlier\n",
      "Kolom CurrentMinutes : 0 outlier\n",
      "Kolom MinutesSinceSunrise : 0 outlier\n",
      "Kolom MinutesUntilSunset : 0 outlier\n",
      "Kolom DaylightDuration : 0 outlier\n"
     ]
    }
   ],
   "source": [
    "def outlierhandling(series):\n",
    "    Q1 = df[series].quantile(0.25)\n",
    "    Q3 = df[series].quantile(0.75)\n",
    "    IQR = Q3 - Q1\n",
    "    lower = Q1 - 1.5 * IQR\n",
    "    upper = Q3 + 1.5 * IQR\n",
    "    df.loc[df[series] > upper, series] = upper\n",
    "    df.loc[df[series] < lower, series] = lower\n",
    "    return df\n",
    "for i in numeric:\n",
    "    df = outlierhandling(i)\n",
    "for i in numeric:\n",
    "    Q1 = df[i].quantile(0.25)\n",
    "    Q3 = df[i].quantile(0.75)\n",
    "    IQR = Q3 - Q1\n",
    "    lower = Q1 - 1.5 * IQR\n",
    "    upper = Q3 + 1.5 * IQR\n",
    "    outlier = df[(df[i] < lower) | (df[i] > upper)]\n",
    "    print(f\"Kolom {i} : {len(outlier)} outlier\")"
   ]
  },
  {
   "cell_type": "markdown",
   "id": "c3b3ff50",
   "metadata": {},
   "source": [
    "3. Seleksi Fitur dan Target :\n",
    "Fitur dan Target yang digunakan dipisah terlebih dahulu pada variabel X sebagai fitur (Temperature, Humidity, Pressure, WindDirection(Degrees), Speed, SunRiseMinutes, SunSetMinutes, CurrentMinutes, MinuteUntilSunset and DaylightDuration) dan y sebagai target (Radiation)\n",
    "4. Split Data :\n",
    "Melakukan splitting data menjadi dua yaitu Data training dan data testing yang dibagi sebesar 80:20\n",
    "5. Normalisasi Fitur :\n",
    "Untuk memastikan semua fitur memiliki skala yang sebanding, dilakukan normalisasi menggunakan StandardScaler dari sklearn.preprocessing. Metode ini mengubah distribusi fitur agar memiliki mean = 0 dan standard deviation = 1, sehingga mempercepat proses konvergensi model dan menghindari dominasi fitur tertentu."
   ]
  },
  {
   "cell_type": "code",
   "execution_count": 34,
   "id": "b4e9a304",
   "metadata": {},
   "outputs": [],
   "source": [
    "X = df.drop('Radiation',axis=1)\n",
    "y = df['Radiation']\n",
    "\n",
    "X_train,X_test,y_train,y_test = train_test_split(X, y, test_size=0.2, random_state=42)\n",
    "\n",
    "scaler = StandardScaler()\n",
    "X_train_scaled = scaler.fit_transform(X_train)\n",
    "X_test_scaled = scaler.transform(X_test)"
   ]
  },
  {
   "cell_type": "markdown",
   "id": "4c6a6b7c",
   "metadata": {},
   "source": [
    "## Modelling"
   ]
  },
  {
   "cell_type": "markdown",
   "id": "c54ba9d0",
   "metadata": {},
   "source": [
    "1. Arsitektur Model :\n",
    "Model awal dibangun menggunakan beberapa lapisan Dense, dengan struktur sebagai berikut:"
   ]
  },
  {
   "cell_type": "code",
   "execution_count": 35,
   "id": "4231f750",
   "metadata": {},
   "outputs": [
    {
     "name": "stderr",
     "output_type": "stream",
     "text": [
      "d:\\Dicoding\\Predictive-Analytic\\.venv\\lib\\site-packages\\keras\\src\\layers\\core\\dense.py:93: UserWarning: Do not pass an `input_shape`/`input_dim` argument to a layer. When using Sequential models, prefer using an `Input(shape)` object as the first layer in the model instead.\n",
      "  super().__init__(activity_regularizer=activity_regularizer, **kwargs)\n"
     ]
    },
    {
     "data": {
      "text/html": [
       "<pre style=\"white-space:pre;overflow-x:auto;line-height:normal;font-family:Menlo,'DejaVu Sans Mono',consolas,'Courier New',monospace\"><span style=\"font-weight: bold\">Model: \"sequential_1\"</span>\n",
       "</pre>\n"
      ],
      "text/plain": [
       "\u001b[1mModel: \"sequential_1\"\u001b[0m\n"
      ]
     },
     "metadata": {},
     "output_type": "display_data"
    },
    {
     "data": {
      "text/html": [
       "<pre style=\"white-space:pre;overflow-x:auto;line-height:normal;font-family:Menlo,'DejaVu Sans Mono',consolas,'Courier New',monospace\">┏━━━━━━━━━━━━━━━━━━━━━━━━━━━━━━━━━┳━━━━━━━━━━━━━━━━━━━━━━━━┳━━━━━━━━━━━━━━━┓\n",
       "┃<span style=\"font-weight: bold\"> Layer (type)                    </span>┃<span style=\"font-weight: bold\"> Output Shape           </span>┃<span style=\"font-weight: bold\">       Param # </span>┃\n",
       "┡━━━━━━━━━━━━━━━━━━━━━━━━━━━━━━━━━╇━━━━━━━━━━━━━━━━━━━━━━━━╇━━━━━━━━━━━━━━━┩\n",
       "│ dense_6 (<span style=\"color: #0087ff; text-decoration-color: #0087ff\">Dense</span>)                 │ (<span style=\"color: #00d7ff; text-decoration-color: #00d7ff\">None</span>, <span style=\"color: #00af00; text-decoration-color: #00af00\">32</span>)             │           <span style=\"color: #00af00; text-decoration-color: #00af00\">384</span> │\n",
       "├─────────────────────────────────┼────────────────────────┼───────────────┤\n",
       "│ dense_7 (<span style=\"color: #0087ff; text-decoration-color: #0087ff\">Dense</span>)                 │ (<span style=\"color: #00d7ff; text-decoration-color: #00d7ff\">None</span>, <span style=\"color: #00af00; text-decoration-color: #00af00\">64</span>)             │         <span style=\"color: #00af00; text-decoration-color: #00af00\">2,112</span> │\n",
       "├─────────────────────────────────┼────────────────────────┼───────────────┤\n",
       "│ dense_8 (<span style=\"color: #0087ff; text-decoration-color: #0087ff\">Dense</span>)                 │ (<span style=\"color: #00d7ff; text-decoration-color: #00d7ff\">None</span>, <span style=\"color: #00af00; text-decoration-color: #00af00\">128</span>)            │         <span style=\"color: #00af00; text-decoration-color: #00af00\">8,320</span> │\n",
       "├─────────────────────────────────┼────────────────────────┼───────────────┤\n",
       "│ dense_9 (<span style=\"color: #0087ff; text-decoration-color: #0087ff\">Dense</span>)                 │ (<span style=\"color: #00d7ff; text-decoration-color: #00d7ff\">None</span>, <span style=\"color: #00af00; text-decoration-color: #00af00\">256</span>)            │        <span style=\"color: #00af00; text-decoration-color: #00af00\">33,024</span> │\n",
       "├─────────────────────────────────┼────────────────────────┼───────────────┤\n",
       "│ dense_10 (<span style=\"color: #0087ff; text-decoration-color: #0087ff\">Dense</span>)                │ (<span style=\"color: #00d7ff; text-decoration-color: #00d7ff\">None</span>, <span style=\"color: #00af00; text-decoration-color: #00af00\">512</span>)            │       <span style=\"color: #00af00; text-decoration-color: #00af00\">131,584</span> │\n",
       "├─────────────────────────────────┼────────────────────────┼───────────────┤\n",
       "│ dense_11 (<span style=\"color: #0087ff; text-decoration-color: #0087ff\">Dense</span>)                │ (<span style=\"color: #00d7ff; text-decoration-color: #00d7ff\">None</span>, <span style=\"color: #00af00; text-decoration-color: #00af00\">1</span>)              │           <span style=\"color: #00af00; text-decoration-color: #00af00\">513</span> │\n",
       "└─────────────────────────────────┴────────────────────────┴───────────────┘\n",
       "</pre>\n"
      ],
      "text/plain": [
       "┏━━━━━━━━━━━━━━━━━━━━━━━━━━━━━━━━━┳━━━━━━━━━━━━━━━━━━━━━━━━┳━━━━━━━━━━━━━━━┓\n",
       "┃\u001b[1m \u001b[0m\u001b[1mLayer (type)                   \u001b[0m\u001b[1m \u001b[0m┃\u001b[1m \u001b[0m\u001b[1mOutput Shape          \u001b[0m\u001b[1m \u001b[0m┃\u001b[1m \u001b[0m\u001b[1m      Param #\u001b[0m\u001b[1m \u001b[0m┃\n",
       "┡━━━━━━━━━━━━━━━━━━━━━━━━━━━━━━━━━╇━━━━━━━━━━━━━━━━━━━━━━━━╇━━━━━━━━━━━━━━━┩\n",
       "│ dense_6 (\u001b[38;5;33mDense\u001b[0m)                 │ (\u001b[38;5;45mNone\u001b[0m, \u001b[38;5;34m32\u001b[0m)             │           \u001b[38;5;34m384\u001b[0m │\n",
       "├─────────────────────────────────┼────────────────────────┼───────────────┤\n",
       "│ dense_7 (\u001b[38;5;33mDense\u001b[0m)                 │ (\u001b[38;5;45mNone\u001b[0m, \u001b[38;5;34m64\u001b[0m)             │         \u001b[38;5;34m2,112\u001b[0m │\n",
       "├─────────────────────────────────┼────────────────────────┼───────────────┤\n",
       "│ dense_8 (\u001b[38;5;33mDense\u001b[0m)                 │ (\u001b[38;5;45mNone\u001b[0m, \u001b[38;5;34m128\u001b[0m)            │         \u001b[38;5;34m8,320\u001b[0m │\n",
       "├─────────────────────────────────┼────────────────────────┼───────────────┤\n",
       "│ dense_9 (\u001b[38;5;33mDense\u001b[0m)                 │ (\u001b[38;5;45mNone\u001b[0m, \u001b[38;5;34m256\u001b[0m)            │        \u001b[38;5;34m33,024\u001b[0m │\n",
       "├─────────────────────────────────┼────────────────────────┼───────────────┤\n",
       "│ dense_10 (\u001b[38;5;33mDense\u001b[0m)                │ (\u001b[38;5;45mNone\u001b[0m, \u001b[38;5;34m512\u001b[0m)            │       \u001b[38;5;34m131,584\u001b[0m │\n",
       "├─────────────────────────────────┼────────────────────────┼───────────────┤\n",
       "│ dense_11 (\u001b[38;5;33mDense\u001b[0m)                │ (\u001b[38;5;45mNone\u001b[0m, \u001b[38;5;34m1\u001b[0m)              │           \u001b[38;5;34m513\u001b[0m │\n",
       "└─────────────────────────────────┴────────────────────────┴───────────────┘\n"
      ]
     },
     "metadata": {},
     "output_type": "display_data"
    },
    {
     "data": {
      "text/html": [
       "<pre style=\"white-space:pre;overflow-x:auto;line-height:normal;font-family:Menlo,'DejaVu Sans Mono',consolas,'Courier New',monospace\"><span style=\"font-weight: bold\"> Total params: </span><span style=\"color: #00af00; text-decoration-color: #00af00\">175,937</span> (687.25 KB)\n",
       "</pre>\n"
      ],
      "text/plain": [
       "\u001b[1m Total params: \u001b[0m\u001b[38;5;34m175,937\u001b[0m (687.25 KB)\n"
      ]
     },
     "metadata": {},
     "output_type": "display_data"
    },
    {
     "data": {
      "text/html": [
       "<pre style=\"white-space:pre;overflow-x:auto;line-height:normal;font-family:Menlo,'DejaVu Sans Mono',consolas,'Courier New',monospace\"><span style=\"font-weight: bold\"> Trainable params: </span><span style=\"color: #00af00; text-decoration-color: #00af00\">175,937</span> (687.25 KB)\n",
       "</pre>\n"
      ],
      "text/plain": [
       "\u001b[1m Trainable params: \u001b[0m\u001b[38;5;34m175,937\u001b[0m (687.25 KB)\n"
      ]
     },
     "metadata": {},
     "output_type": "display_data"
    },
    {
     "data": {
      "text/html": [
       "<pre style=\"white-space:pre;overflow-x:auto;line-height:normal;font-family:Menlo,'DejaVu Sans Mono',consolas,'Courier New',monospace\"><span style=\"font-weight: bold\"> Non-trainable params: </span><span style=\"color: #00af00; text-decoration-color: #00af00\">0</span> (0.00 B)\n",
       "</pre>\n"
      ],
      "text/plain": [
       "\u001b[1m Non-trainable params: \u001b[0m\u001b[38;5;34m0\u001b[0m (0.00 B)\n"
      ]
     },
     "metadata": {},
     "output_type": "display_data"
    }
   ],
   "source": [
    "model = Sequential([\n",
    "    Dense(32, activation='relu', input_shape=(X_train_scaled.shape[1],)),\n",
    "    Dense(64, activation='relu'),\n",
    "    Dense(128, activation='relu'),\n",
    "    Dense(256, activation='relu'),\n",
    "    Dense(512, activation='relu'),\n",
    "    Dense(1)\n",
    "])\n",
    "model.compile(optimizer='Adam', loss='mse', metrics=['mae'])\n",
    "model.summary()"
   ]
  },
  {
   "cell_type": "markdown",
   "id": "b2642ffd",
   "metadata": {},
   "source": [
    "2. Proses Training :\n",
    "Model dilatih dengan loss function Mean Squared Error (MSE) dan dioptimasi menggunakan algoritma Adam Optimizer. Evaluasi dilakukan menggunakan MAE\n",
    "3. Tuning dan Improvement :\n",
    "    - Menambahkan jumlah neuron dan layer untuk meningkatkan kapasitas model dalam menangkap pola kompleks\n",
    "    - EarlyStopping dan Callbacks untuk mencegah overfitting dan mempercepat training"
   ]
  },
  {
   "cell_type": "code",
   "execution_count": 36,
   "id": "f5c2fb38",
   "metadata": {},
   "outputs": [],
   "source": [
    "callback = [\n",
    "    EarlyStopping(patience=5, restore_best_weights=True),\n",
    "    ReduceLROnPlateau(monitor='val_loss', factor=0.5, patience=5, min_lr=1e-6,verbose=1),\n",
    "    ModelCheckpoint(filepath='../models/best_model.keras', monitor='val_loss', save_best_only=True, mode='min', verbose=1)\n",
    "]"
   ]
  },
  {
   "cell_type": "code",
   "execution_count": 37,
   "id": "50d89179",
   "metadata": {},
   "outputs": [
    {
     "name": "stdout",
     "output_type": "stream",
     "text": [
      "Epoch 1/100\n",
      "\u001b[1m326/327\u001b[0m \u001b[32m━━━━━━━━━━━━━━━━━━━\u001b[0m\u001b[37m━\u001b[0m \u001b[1m0s\u001b[0m 4ms/step - loss: 59540.5117 - mae: 148.4994\n",
      "Epoch 1: val_loss improved from inf to 14298.47070, saving model to ../models/best_model.keras\n",
      "\u001b[1m327/327\u001b[0m \u001b[32m━━━━━━━━━━━━━━━━━━━━\u001b[0m\u001b[37m\u001b[0m \u001b[1m4s\u001b[0m 5ms/step - loss: 59373.7266 - mae: 148.2233 - val_loss: 14298.4707 - val_mae: 63.3536 - learning_rate: 0.0010\n",
      "Epoch 2/100\n",
      "\u001b[1m327/327\u001b[0m \u001b[32m━━━━━━━━━━━━━━━━━━━━\u001b[0m\u001b[37m\u001b[0m \u001b[1m0s\u001b[0m 4ms/step - loss: 12673.9248 - mae: 58.9794\n",
      "Epoch 2: val_loss improved from 14298.47070 to 12537.33203, saving model to ../models/best_model.keras\n",
      "\u001b[1m327/327\u001b[0m \u001b[32m━━━━━━━━━━━━━━━━━━━━\u001b[0m\u001b[37m\u001b[0m \u001b[1m2s\u001b[0m 5ms/step - loss: 12673.3125 - mae: 58.9783 - val_loss: 12537.3320 - val_mae: 59.5740 - learning_rate: 0.0010\n",
      "Epoch 3/100\n",
      "\u001b[1m327/327\u001b[0m \u001b[32m━━━━━━━━━━━━━━━━━━━━\u001b[0m\u001b[37m\u001b[0m \u001b[1m0s\u001b[0m 4ms/step - loss: 10687.5576 - mae: 52.7429\n",
      "Epoch 3: val_loss improved from 12537.33203 to 9805.72754, saving model to ../models/best_model.keras\n",
      "\u001b[1m327/327\u001b[0m \u001b[32m━━━━━━━━━━━━━━━━━━━━\u001b[0m\u001b[37m\u001b[0m \u001b[1m1s\u001b[0m 4ms/step - loss: 10687.0195 - mae: 52.7405 - val_loss: 9805.7275 - val_mae: 50.1065 - learning_rate: 0.0010\n",
      "Epoch 4/100\n",
      "\u001b[1m323/327\u001b[0m \u001b[32m━━━━━━━━━━━━━━━━━━━\u001b[0m\u001b[37m━\u001b[0m \u001b[1m0s\u001b[0m 4ms/step - loss: 10034.7871 - mae: 50.0735\n",
      "Epoch 4: val_loss improved from 9805.72754 to 9672.88867, saving model to ../models/best_model.keras\n",
      "\u001b[1m327/327\u001b[0m \u001b[32m━━━━━━━━━━━━━━━━━━━━\u001b[0m\u001b[37m\u001b[0m \u001b[1m2s\u001b[0m 5ms/step - loss: 10027.2373 - mae: 50.0574 - val_loss: 9672.8887 - val_mae: 49.8057 - learning_rate: 0.0010\n",
      "Epoch 5/100\n",
      "\u001b[1m317/327\u001b[0m \u001b[32m━━━━━━━━━━━━━━━━━━━\u001b[0m\u001b[37m━\u001b[0m \u001b[1m0s\u001b[0m 4ms/step - loss: 9513.0957 - mae: 48.8091\n",
      "Epoch 5: val_loss improved from 9672.88867 to 8991.04004, saving model to ../models/best_model.keras\n",
      "\u001b[1m327/327\u001b[0m \u001b[32m━━━━━━━━━━━━━━━━━━━━\u001b[0m\u001b[37m\u001b[0m \u001b[1m2s\u001b[0m 5ms/step - loss: 9500.7510 - mae: 48.7597 - val_loss: 8991.0400 - val_mae: 46.7178 - learning_rate: 0.0010\n",
      "Epoch 6/100\n",
      "\u001b[1m316/327\u001b[0m \u001b[32m━━━━━━━━━━━━━━━━━━━\u001b[0m\u001b[37m━\u001b[0m \u001b[1m0s\u001b[0m 4ms/step - loss: 8349.6504 - mae: 44.3228\n",
      "Epoch 6: val_loss improved from 8991.04004 to 8670.36914, saving model to ../models/best_model.keras\n",
      "\u001b[1m327/327\u001b[0m \u001b[32m━━━━━━━━━━━━━━━━━━━━\u001b[0m\u001b[37m\u001b[0m \u001b[1m2s\u001b[0m 5ms/step - loss: 8367.8770 - mae: 44.3921 - val_loss: 8670.3691 - val_mae: 45.6811 - learning_rate: 0.0010\n",
      "Epoch 7/100\n",
      "\u001b[1m322/327\u001b[0m \u001b[32m━━━━━━━━━━━━━━━━━━━\u001b[0m\u001b[37m━\u001b[0m \u001b[1m0s\u001b[0m 4ms/step - loss: 8418.7939 - mae: 44.6548\n",
      "Epoch 7: val_loss improved from 8670.36914 to 8176.09863, saving model to ../models/best_model.keras\n",
      "\u001b[1m327/327\u001b[0m \u001b[32m━━━━━━━━━━━━━━━━━━━━\u001b[0m\u001b[37m\u001b[0m \u001b[1m2s\u001b[0m 5ms/step - loss: 8420.5410 - mae: 44.6613 - val_loss: 8176.0986 - val_mae: 44.0170 - learning_rate: 0.0010\n",
      "Epoch 8/100\n",
      "\u001b[1m319/327\u001b[0m \u001b[32m━━━━━━━━━━━━━━━━━━━\u001b[0m\u001b[37m━\u001b[0m \u001b[1m0s\u001b[0m 4ms/step - loss: 8305.4434 - mae: 44.3268\n",
      "Epoch 8: val_loss improved from 8176.09863 to 8072.85742, saving model to ../models/best_model.keras\n",
      "\u001b[1m327/327\u001b[0m \u001b[32m━━━━━━━━━━━━━━━━━━━━\u001b[0m\u001b[37m\u001b[0m \u001b[1m2s\u001b[0m 5ms/step - loss: 8308.2490 - mae: 44.3337 - val_loss: 8072.8574 - val_mae: 42.4168 - learning_rate: 0.0010\n",
      "Epoch 9/100\n",
      "\u001b[1m316/327\u001b[0m \u001b[32m━━━━━━━━━━━━━━━━━━━\u001b[0m\u001b[37m━\u001b[0m \u001b[1m0s\u001b[0m 4ms/step - loss: 8168.0835 - mae: 43.2264\n",
      "Epoch 9: val_loss did not improve from 8072.85742\n",
      "\u001b[1m327/327\u001b[0m \u001b[32m━━━━━━━━━━━━━━━━━━━━\u001b[0m\u001b[37m\u001b[0m \u001b[1m2s\u001b[0m 5ms/step - loss: 8167.7285 - mae: 43.2428 - val_loss: 8390.7051 - val_mae: 44.8595 - learning_rate: 0.0010\n",
      "Epoch 10/100\n",
      "\u001b[1m317/327\u001b[0m \u001b[32m━━━━━━━━━━━━━━━━━━━\u001b[0m\u001b[37m━\u001b[0m \u001b[1m0s\u001b[0m 4ms/step - loss: 8313.9844 - mae: 43.7711\n",
      "Epoch 10: val_loss did not improve from 8072.85742\n",
      "\u001b[1m327/327\u001b[0m \u001b[32m━━━━━━━━━━━━━━━━━━━━\u001b[0m\u001b[37m\u001b[0m \u001b[1m1s\u001b[0m 4ms/step - loss: 8308.3955 - mae: 43.7669 - val_loss: 8095.4326 - val_mae: 43.7096 - learning_rate: 0.0010\n",
      "Epoch 11/100\n",
      "\u001b[1m321/327\u001b[0m \u001b[32m━━━━━━━━━━━━━━━━━━━\u001b[0m\u001b[37m━\u001b[0m \u001b[1m0s\u001b[0m 4ms/step - loss: 7633.2339 - mae: 41.9099\n",
      "Epoch 11: val_loss improved from 8072.85742 to 7723.42236, saving model to ../models/best_model.keras\n",
      "\u001b[1m327/327\u001b[0m \u001b[32m━━━━━━━━━━━━━━━━━━━━\u001b[0m\u001b[37m\u001b[0m \u001b[1m1s\u001b[0m 4ms/step - loss: 7638.8838 - mae: 41.9246 - val_loss: 7723.4224 - val_mae: 41.3931 - learning_rate: 0.0010\n",
      "Epoch 12/100\n",
      "\u001b[1m327/327\u001b[0m \u001b[32m━━━━━━━━━━━━━━━━━━━━\u001b[0m\u001b[37m\u001b[0m \u001b[1m0s\u001b[0m 4ms/step - loss: 7874.4531 - mae: 42.0278\n",
      "Epoch 12: val_loss improved from 7723.42236 to 7498.06348, saving model to ../models/best_model.keras\n",
      "\u001b[1m327/327\u001b[0m \u001b[32m━━━━━━━━━━━━━━━━━━━━\u001b[0m\u001b[37m\u001b[0m \u001b[1m2s\u001b[0m 5ms/step - loss: 7873.9712 - mae: 42.0271 - val_loss: 7498.0635 - val_mae: 41.3542 - learning_rate: 0.0010\n",
      "Epoch 13/100\n",
      "\u001b[1m317/327\u001b[0m \u001b[32m━━━━━━━━━━━━━━━━━━━\u001b[0m\u001b[37m━\u001b[0m \u001b[1m0s\u001b[0m 4ms/step - loss: 7407.3154 - mae: 40.4322\n",
      "Epoch 13: val_loss improved from 7498.06348 to 7402.22314, saving model to ../models/best_model.keras\n",
      "\u001b[1m327/327\u001b[0m \u001b[32m━━━━━━━━━━━━━━━━━━━━\u001b[0m\u001b[37m\u001b[0m \u001b[1m2s\u001b[0m 4ms/step - loss: 7413.5376 - mae: 40.4510 - val_loss: 7402.2231 - val_mae: 41.7296 - learning_rate: 0.0010\n",
      "Epoch 14/100\n",
      "\u001b[1m315/327\u001b[0m \u001b[32m━━━━━━━━━━━━━━━━━━━\u001b[0m\u001b[37m━\u001b[0m \u001b[1m0s\u001b[0m 4ms/step - loss: 7487.3433 - mae: 41.4629\n",
      "Epoch 14: val_loss improved from 7402.22314 to 7237.59717, saving model to ../models/best_model.keras\n",
      "\u001b[1m327/327\u001b[0m \u001b[32m━━━━━━━━━━━━━━━━━━━━\u001b[0m\u001b[37m\u001b[0m \u001b[1m2s\u001b[0m 5ms/step - loss: 7483.1294 - mae: 41.4309 - val_loss: 7237.5972 - val_mae: 40.3304 - learning_rate: 0.0010\n",
      "Epoch 15/100\n",
      "\u001b[1m322/327\u001b[0m \u001b[32m━━━━━━━━━━━━━━━━━━━\u001b[0m\u001b[37m━\u001b[0m \u001b[1m0s\u001b[0m 4ms/step - loss: 7117.8271 - mae: 40.2323\n",
      "Epoch 15: val_loss did not improve from 7237.59717\n",
      "\u001b[1m327/327\u001b[0m \u001b[32m━━━━━━━━━━━━━━━━━━━━\u001b[0m\u001b[37m\u001b[0m \u001b[1m1s\u001b[0m 4ms/step - loss: 7121.3320 - mae: 40.2417 - val_loss: 8144.4673 - val_mae: 44.9922 - learning_rate: 0.0010\n",
      "Epoch 16/100\n",
      "\u001b[1m316/327\u001b[0m \u001b[32m━━━━━━━━━━━━━━━━━━━\u001b[0m\u001b[37m━\u001b[0m \u001b[1m0s\u001b[0m 4ms/step - loss: 7259.1167 - mae: 39.8511\n",
      "Epoch 16: val_loss did not improve from 7237.59717\n",
      "\u001b[1m327/327\u001b[0m \u001b[32m━━━━━━━━━━━━━━━━━━━━\u001b[0m\u001b[37m\u001b[0m \u001b[1m1s\u001b[0m 4ms/step - loss: 7255.8032 - mae: 39.8510 - val_loss: 7376.5913 - val_mae: 40.8961 - learning_rate: 0.0010\n",
      "Epoch 17/100\n",
      "\u001b[1m323/327\u001b[0m \u001b[32m━━━━━━━━━━━━━━━━━━━\u001b[0m\u001b[37m━\u001b[0m \u001b[1m0s\u001b[0m 4ms/step - loss: 7300.0693 - mae: 39.8005\n",
      "Epoch 17: val_loss improved from 7237.59717 to 7082.11572, saving model to ../models/best_model.keras\n",
      "\u001b[1m327/327\u001b[0m \u001b[32m━━━━━━━━━━━━━━━━━━━━\u001b[0m\u001b[37m\u001b[0m \u001b[1m1s\u001b[0m 4ms/step - loss: 7298.7939 - mae: 39.8001 - val_loss: 7082.1157 - val_mae: 39.0807 - learning_rate: 0.0010\n",
      "Epoch 18/100\n",
      "\u001b[1m315/327\u001b[0m \u001b[32m━━━━━━━━━━━━━━━━━━━\u001b[0m\u001b[37m━\u001b[0m \u001b[1m0s\u001b[0m 4ms/step - loss: 7065.1538 - mae: 38.9983\n",
      "Epoch 18: val_loss did not improve from 7082.11572\n",
      "\u001b[1m327/327\u001b[0m \u001b[32m━━━━━━━━━━━━━━━━━━━━\u001b[0m\u001b[37m\u001b[0m \u001b[1m1s\u001b[0m 4ms/step - loss: 7064.7085 - mae: 39.0095 - val_loss: 7757.4922 - val_mae: 41.1406 - learning_rate: 0.0010\n",
      "Epoch 19/100\n",
      "\u001b[1m319/327\u001b[0m \u001b[32m━━━━━━━━━━━━━━━━━━━\u001b[0m\u001b[37m━\u001b[0m \u001b[1m0s\u001b[0m 4ms/step - loss: 6907.7100 - mae: 38.7676\n",
      "Epoch 19: val_loss improved from 7082.11572 to 6909.81787, saving model to ../models/best_model.keras\n",
      "\u001b[1m327/327\u001b[0m \u001b[32m━━━━━━━━━━━━━━━━━━━━\u001b[0m\u001b[37m\u001b[0m \u001b[1m2s\u001b[0m 5ms/step - loss: 6907.5679 - mae: 38.7662 - val_loss: 6909.8179 - val_mae: 38.2731 - learning_rate: 0.0010\n",
      "Epoch 20/100\n",
      "\u001b[1m319/327\u001b[0m \u001b[32m━━━━━━━━━━━━━━━━━━━\u001b[0m\u001b[37m━\u001b[0m \u001b[1m0s\u001b[0m 4ms/step - loss: 6696.2104 - mae: 38.3203\n",
      "Epoch 20: val_loss improved from 6909.81787 to 6895.65430, saving model to ../models/best_model.keras\n",
      "\u001b[1m327/327\u001b[0m \u001b[32m━━━━━━━━━━━━━━━━━━━━\u001b[0m\u001b[37m\u001b[0m \u001b[1m2s\u001b[0m 5ms/step - loss: 6697.8936 - mae: 38.3230 - val_loss: 6895.6543 - val_mae: 38.6172 - learning_rate: 0.0010\n",
      "Epoch 21/100\n",
      "\u001b[1m316/327\u001b[0m \u001b[32m━━━━━━━━━━━━━━━━━━━\u001b[0m\u001b[37m━\u001b[0m \u001b[1m0s\u001b[0m 4ms/step - loss: 6972.3599 - mae: 38.7811\n",
      "Epoch 21: val_loss improved from 6895.65430 to 6760.92383, saving model to ../models/best_model.keras\n",
      "\u001b[1m327/327\u001b[0m \u001b[32m━━━━━━━━━━━━━━━━━━━━\u001b[0m\u001b[37m\u001b[0m \u001b[1m2s\u001b[0m 5ms/step - loss: 6963.4146 - mae: 38.7666 - val_loss: 6760.9238 - val_mae: 37.7837 - learning_rate: 0.0010\n",
      "Epoch 22/100\n",
      "\u001b[1m327/327\u001b[0m \u001b[32m━━━━━━━━━━━━━━━━━━━━\u001b[0m\u001b[37m\u001b[0m \u001b[1m0s\u001b[0m 4ms/step - loss: 6731.2324 - mae: 38.9174\n",
      "Epoch 22: val_loss improved from 6760.92383 to 6687.25293, saving model to ../models/best_model.keras\n",
      "\u001b[1m327/327\u001b[0m \u001b[32m━━━━━━━━━━━━━━━━━━━━\u001b[0m\u001b[37m\u001b[0m \u001b[1m2s\u001b[0m 5ms/step - loss: 6730.9624 - mae: 38.9147 - val_loss: 6687.2529 - val_mae: 38.0143 - learning_rate: 0.0010\n",
      "Epoch 23/100\n",
      "\u001b[1m321/327\u001b[0m \u001b[32m━━━━━━━━━━━━━━━━━━━\u001b[0m\u001b[37m━\u001b[0m \u001b[1m0s\u001b[0m 4ms/step - loss: 6505.7285 - mae: 37.4914\n",
      "Epoch 23: val_loss did not improve from 6687.25293\n",
      "\u001b[1m327/327\u001b[0m \u001b[32m━━━━━━━━━━━━━━━━━━━━\u001b[0m\u001b[37m\u001b[0m \u001b[1m2s\u001b[0m 5ms/step - loss: 6509.4766 - mae: 37.5050 - val_loss: 7737.1084 - val_mae: 44.2620 - learning_rate: 0.0010\n",
      "Epoch 24/100\n",
      "\u001b[1m323/327\u001b[0m \u001b[32m━━━━━━━━━━━━━━━━━━━\u001b[0m\u001b[37m━\u001b[0m \u001b[1m0s\u001b[0m 4ms/step - loss: 6508.1113 - mae: 37.6605\n",
      "Epoch 24: val_loss did not improve from 6687.25293\n",
      "\u001b[1m327/327\u001b[0m \u001b[32m━━━━━━━━━━━━━━━━━━━━\u001b[0m\u001b[37m\u001b[0m \u001b[1m2s\u001b[0m 5ms/step - loss: 6508.9917 - mae: 37.6633 - val_loss: 6857.7095 - val_mae: 39.0189 - learning_rate: 0.0010\n",
      "Epoch 25/100\n",
      "\u001b[1m314/327\u001b[0m \u001b[32m━━━━━━━━━━━━━━━━━━━\u001b[0m\u001b[37m━\u001b[0m \u001b[1m0s\u001b[0m 4ms/step - loss: 6073.7227 - mae: 36.4929\n",
      "Epoch 25: val_loss improved from 6687.25293 to 6531.97803, saving model to ../models/best_model.keras\n",
      "\u001b[1m327/327\u001b[0m \u001b[32m━━━━━━━━━━━━━━━━━━━━\u001b[0m\u001b[37m\u001b[0m \u001b[1m2s\u001b[0m 5ms/step - loss: 6086.0317 - mae: 36.5270 - val_loss: 6531.9780 - val_mae: 37.1168 - learning_rate: 0.0010\n",
      "Epoch 26/100\n",
      "\u001b[1m317/327\u001b[0m \u001b[32m━━━━━━━━━━━━━━━━━━━\u001b[0m\u001b[37m━\u001b[0m \u001b[1m0s\u001b[0m 4ms/step - loss: 6290.4951 - mae: 37.2253\n",
      "Epoch 26: val_loss did not improve from 6531.97803\n",
      "\u001b[1m327/327\u001b[0m \u001b[32m━━━━━━━━━━━━━━━━━━━━\u001b[0m\u001b[37m\u001b[0m \u001b[1m2s\u001b[0m 5ms/step - loss: 6296.0317 - mae: 37.2405 - val_loss: 6789.4346 - val_mae: 38.3542 - learning_rate: 0.0010\n",
      "Epoch 27/100\n",
      "\u001b[1m318/327\u001b[0m \u001b[32m━━━━━━━━━━━━━━━━━━━\u001b[0m\u001b[37m━\u001b[0m \u001b[1m0s\u001b[0m 4ms/step - loss: 6382.2231 - mae: 37.1303\n",
      "Epoch 27: val_loss did not improve from 6531.97803\n",
      "\u001b[1m327/327\u001b[0m \u001b[32m━━━━━━━━━━━━━━━━━━━━\u001b[0m\u001b[37m\u001b[0m \u001b[1m1s\u001b[0m 4ms/step - loss: 6380.1299 - mae: 37.1319 - val_loss: 6815.9150 - val_mae: 38.0474 - learning_rate: 0.0010\n",
      "Epoch 28/100\n",
      "\u001b[1m315/327\u001b[0m \u001b[32m━━━━━━━━━━━━━━━━━━━\u001b[0m\u001b[37m━\u001b[0m \u001b[1m0s\u001b[0m 4ms/step - loss: 6009.2773 - mae: 36.0831\n",
      "Epoch 28: val_loss did not improve from 6531.97803\n",
      "\u001b[1m327/327\u001b[0m \u001b[32m━━━━━━━━━━━━━━━━━━━━\u001b[0m\u001b[37m\u001b[0m \u001b[1m1s\u001b[0m 4ms/step - loss: 6016.4233 - mae: 36.1019 - val_loss: 7118.8467 - val_mae: 41.8998 - learning_rate: 0.0010\n",
      "Epoch 29/100\n",
      "\u001b[1m327/327\u001b[0m \u001b[32m━━━━━━━━━━━━━━━━━━━━\u001b[0m\u001b[37m\u001b[0m \u001b[1m0s\u001b[0m 4ms/step - loss: 6147.1143 - mae: 36.3609\n",
      "Epoch 29: val_loss did not improve from 6531.97803\n",
      "\u001b[1m327/327\u001b[0m \u001b[32m━━━━━━━━━━━━━━━━━━━━\u001b[0m\u001b[37m\u001b[0m \u001b[1m1s\u001b[0m 4ms/step - loss: 6146.9043 - mae: 36.3611 - val_loss: 6672.6890 - val_mae: 38.0743 - learning_rate: 0.0010\n",
      "Epoch 30/100\n",
      "\u001b[1m321/327\u001b[0m \u001b[32m━━━━━━━━━━━━━━━━━━━\u001b[0m\u001b[37m━\u001b[0m \u001b[1m0s\u001b[0m 4ms/step - loss: 5868.1699 - mae: 35.5454\n",
      "Epoch 30: val_loss improved from 6531.97803 to 6481.08154, saving model to ../models/best_model.keras\n",
      "\u001b[1m327/327\u001b[0m \u001b[32m━━━━━━━━━━━━━━━━━━━━\u001b[0m\u001b[37m\u001b[0m \u001b[1m1s\u001b[0m 4ms/step - loss: 5871.6831 - mae: 35.5576 - val_loss: 6481.0815 - val_mae: 37.6758 - learning_rate: 0.0010\n",
      "Epoch 31/100\n",
      "\u001b[1m317/327\u001b[0m \u001b[32m━━━━━━━━━━━━━━━━━━━\u001b[0m\u001b[37m━\u001b[0m \u001b[1m0s\u001b[0m 4ms/step - loss: 5937.5308 - mae: 35.2484\n",
      "Epoch 31: val_loss improved from 6481.08154 to 6383.75781, saving model to ../models/best_model.keras\n",
      "\u001b[1m327/327\u001b[0m \u001b[32m━━━━━━━━━━━━━━━━━━━━\u001b[0m\u001b[37m\u001b[0m \u001b[1m2s\u001b[0m 5ms/step - loss: 5938.1104 - mae: 35.2619 - val_loss: 6383.7578 - val_mae: 35.8805 - learning_rate: 0.0010\n",
      "Epoch 32/100\n",
      "\u001b[1m324/327\u001b[0m \u001b[32m━━━━━━━━━━━━━━━━━━━\u001b[0m\u001b[37m━\u001b[0m \u001b[1m0s\u001b[0m 4ms/step - loss: 5819.6426 - mae: 35.6548\n",
      "Epoch 32: val_loss did not improve from 6383.75781\n",
      "\u001b[1m327/327\u001b[0m \u001b[32m━━━━━━━━━━━━━━━━━━━━\u001b[0m\u001b[37m\u001b[0m \u001b[1m1s\u001b[0m 4ms/step - loss: 5820.5537 - mae: 35.6518 - val_loss: 6722.4917 - val_mae: 38.3737 - learning_rate: 0.0010\n",
      "Epoch 33/100\n",
      "\u001b[1m327/327\u001b[0m \u001b[32m━━━━━━━━━━━━━━━━━━━━\u001b[0m\u001b[37m\u001b[0m \u001b[1m0s\u001b[0m 4ms/step - loss: 5651.6235 - mae: 34.2660\n",
      "Epoch 33: val_loss improved from 6383.75781 to 6179.25977, saving model to ../models/best_model.keras\n",
      "\u001b[1m327/327\u001b[0m \u001b[32m━━━━━━━━━━━━━━━━━━━━\u001b[0m\u001b[37m\u001b[0m \u001b[1m2s\u001b[0m 4ms/step - loss: 5652.0415 - mae: 34.2683 - val_loss: 6179.2598 - val_mae: 36.2224 - learning_rate: 0.0010\n",
      "Epoch 34/100\n",
      "\u001b[1m327/327\u001b[0m \u001b[32m━━━━━━━━━━━━━━━━━━━━\u001b[0m\u001b[37m\u001b[0m \u001b[1m0s\u001b[0m 4ms/step - loss: 5896.8652 - mae: 36.0448\n",
      "Epoch 34: val_loss did not improve from 6179.25977\n",
      "\u001b[1m327/327\u001b[0m \u001b[32m━━━━━━━━━━━━━━━━━━━━\u001b[0m\u001b[37m\u001b[0m \u001b[1m1s\u001b[0m 4ms/step - loss: 5896.8418 - mae: 36.0438 - val_loss: 6403.9951 - val_mae: 35.2614 - learning_rate: 0.0010\n",
      "Epoch 35/100\n",
      "\u001b[1m316/327\u001b[0m \u001b[32m━━━━━━━━━━━━━━━━━━━\u001b[0m\u001b[37m━\u001b[0m \u001b[1m0s\u001b[0m 3ms/step - loss: 5617.3687 - mae: 34.2656\n",
      "Epoch 35: val_loss did not improve from 6179.25977\n",
      "\u001b[1m327/327\u001b[0m \u001b[32m━━━━━━━━━━━━━━━━━━━━\u001b[0m\u001b[37m\u001b[0m \u001b[1m1s\u001b[0m 4ms/step - loss: 5622.2046 - mae: 34.2913 - val_loss: 6339.7451 - val_mae: 36.8350 - learning_rate: 0.0010\n",
      "Epoch 36/100\n",
      "\u001b[1m325/327\u001b[0m \u001b[32m━━━━━━━━━━━━━━━━━━━\u001b[0m\u001b[37m━\u001b[0m \u001b[1m0s\u001b[0m 4ms/step - loss: 5468.4854 - mae: 34.5109\n",
      "Epoch 36: val_loss did not improve from 6179.25977\n",
      "\u001b[1m327/327\u001b[0m \u001b[32m━━━━━━━━━━━━━━━━━━━━\u001b[0m\u001b[37m\u001b[0m \u001b[1m1s\u001b[0m 4ms/step - loss: 5470.5161 - mae: 34.5150 - val_loss: 6695.2085 - val_mae: 38.4284 - learning_rate: 0.0010\n",
      "Epoch 37/100\n",
      "\u001b[1m317/327\u001b[0m \u001b[32m━━━━━━━━━━━━━━━━━━━\u001b[0m\u001b[37m━\u001b[0m \u001b[1m0s\u001b[0m 4ms/step - loss: 5872.8188 - mae: 35.5039\n",
      "Epoch 37: val_loss improved from 6179.25977 to 6029.36279, saving model to ../models/best_model.keras\n",
      "\u001b[1m327/327\u001b[0m \u001b[32m━━━━━━━━━━━━━━━━━━━━\u001b[0m\u001b[37m\u001b[0m \u001b[1m2s\u001b[0m 5ms/step - loss: 5865.5713 - mae: 35.4862 - val_loss: 6029.3628 - val_mae: 35.0641 - learning_rate: 0.0010\n",
      "Epoch 38/100\n",
      "\u001b[1m313/327\u001b[0m \u001b[32m━━━━━━━━━━━━━━━━━━━\u001b[0m\u001b[37m━\u001b[0m \u001b[1m0s\u001b[0m 4ms/step - loss: 5465.7129 - mae: 33.8527\n",
      "Epoch 38: val_loss did not improve from 6029.36279\n",
      "\u001b[1m327/327\u001b[0m \u001b[32m━━━━━━━━━━━━━━━━━━━━\u001b[0m\u001b[37m\u001b[0m \u001b[1m1s\u001b[0m 4ms/step - loss: 5467.6865 - mae: 33.8585 - val_loss: 6850.2632 - val_mae: 39.5476 - learning_rate: 0.0010\n",
      "Epoch 39/100\n",
      "\u001b[1m325/327\u001b[0m \u001b[32m━━━━━━━━━━━━━━━━━━━\u001b[0m\u001b[37m━\u001b[0m \u001b[1m0s\u001b[0m 4ms/step - loss: 5347.7944 - mae: 33.7204\n",
      "Epoch 39: val_loss did not improve from 6029.36279\n",
      "\u001b[1m327/327\u001b[0m \u001b[32m━━━━━━━━━━━━━━━━━━━━\u001b[0m\u001b[37m\u001b[0m \u001b[1m1s\u001b[0m 4ms/step - loss: 5347.9214 - mae: 33.7204 - val_loss: 6945.7822 - val_mae: 40.2174 - learning_rate: 0.0010\n",
      "Epoch 40/100\n",
      "\u001b[1m315/327\u001b[0m \u001b[32m━━━━━━━━━━━━━━━━━━━\u001b[0m\u001b[37m━\u001b[0m \u001b[1m0s\u001b[0m 3ms/step - loss: 5527.9014 - mae: 34.6004\n",
      "Epoch 40: val_loss did not improve from 6029.36279\n",
      "\u001b[1m327/327\u001b[0m \u001b[32m━━━━━━━━━━━━━━━━━━━━\u001b[0m\u001b[37m\u001b[0m \u001b[1m1s\u001b[0m 4ms/step - loss: 5527.0562 - mae: 34.5828 - val_loss: 6260.6104 - val_mae: 35.3469 - learning_rate: 0.0010\n",
      "Epoch 41/100\n",
      "\u001b[1m326/327\u001b[0m \u001b[32m━━━━━━━━━━━━━━━━━━━\u001b[0m\u001b[37m━\u001b[0m \u001b[1m0s\u001b[0m 4ms/step - loss: 5395.9688 - mae: 34.3186\n",
      "Epoch 41: val_loss did not improve from 6029.36279\n",
      "\u001b[1m327/327\u001b[0m \u001b[32m━━━━━━━━━━━━━━━━━━━━\u001b[0m\u001b[37m\u001b[0m \u001b[1m1s\u001b[0m 4ms/step - loss: 5396.6885 - mae: 34.3199 - val_loss: 6260.0781 - val_mae: 36.2970 - learning_rate: 0.0010\n",
      "Epoch 42/100\n",
      "\u001b[1m326/327\u001b[0m \u001b[32m━━━━━━━━━━━━━━━━━━━\u001b[0m\u001b[37m━\u001b[0m \u001b[1m0s\u001b[0m 4ms/step - loss: 5172.2734 - mae: 33.4180\n",
      "Epoch 42: ReduceLROnPlateau reducing learning rate to 0.0005000000237487257.\n",
      "\n",
      "Epoch 42: val_loss did not improve from 6029.36279\n",
      "\u001b[1m327/327\u001b[0m \u001b[32m━━━━━━━━━━━━━━━━━━━━\u001b[0m\u001b[37m\u001b[0m \u001b[1m1s\u001b[0m 4ms/step - loss: 5173.5767 - mae: 33.4217 - val_loss: 6188.3394 - val_mae: 36.4989 - learning_rate: 0.0010\n"
     ]
    }
   ],
   "source": [
    "history = model.fit(X_train_scaled,y_train, validation_split=0.2, batch_size=64, epochs=100, callbacks=[callback])"
   ]
  },
  {
   "cell_type": "markdown",
   "id": "ddd7a625",
   "metadata": {},
   "source": [
    "## Evaluation"
   ]
  },
  {
   "cell_type": "markdown",
   "id": "962a6c0c",
   "metadata": {},
   "source": [
    "Dalam proyek ini, metrik utama digunakan untuk mengevaluasi performa model regresi yaitu :\n",
    "- Mean Absolute Error(MAE)\n",
    "MAE ini mengukur rata rata kesalahan absolut antara nilai prediksi dan nilai aktual. MAE ini dinilai lebih mudah di interpretasikan karena berada dalam satuan yang sama dengan target"
   ]
  },
  {
   "cell_type": "code",
   "execution_count": 38,
   "id": "092869af",
   "metadata": {},
   "outputs": [
    {
     "data": {
      "image/png": "[encoded data removed]",
      "text/plain": [
       "<Figure size 1400x500 with 2 Axes>"
      ]
     },
     "metadata": {},
     "output_type": "display_data"
    }
   ],
   "source": [
    "loss = history.history['loss']\n",
    "val_loss = history.history['val_loss']\n",
    "mae = history.history['mae']\n",
    "val_mae = history.history['val_mae']\n",
    "epochs = range(1, len(loss) + 1)\n",
    "\n",
    "# Plot Loss\n",
    "plt.figure(figsize=(14, 5))\n",
    "\n",
    "plt.subplot(1, 2, 1)\n",
    "plt.plot(epochs, loss, 'bo-', label='Training Loss')\n",
    "plt.plot(epochs, val_loss, 'ro-', label='Validation Loss')\n",
    "plt.title('Training vs Validation Loss')\n",
    "plt.xlabel('Epochs')\n",
    "plt.ylabel('MSE Loss')\n",
    "plt.legend()\n",
    "\n",
    "# Plot MAE\n",
    "plt.subplot(1, 2, 2)\n",
    "plt.plot(epochs, mae, 'bo-', label='Training MAE')\n",
    "plt.plot(epochs, val_mae, 'ro-', label='Validation MAE')\n",
    "plt.title('Training vs Validation MAE')\n",
    "plt.xlabel('Epochs')\n",
    "plt.ylabel('Mean Absolute Error')\n",
    "plt.legend()\n",
    "\n",
    "plt.tight_layout()\n",
    "plt.show()"
   ]
  },
  {
   "cell_type": "code",
   "execution_count": 39,
   "id": "f51cf4b4",
   "metadata": {},
   "outputs": [
    {
     "name": "stdout",
     "output_type": "stream",
     "text": [
      "MAE sekitar 18.48% dari rata-rata radiation\n"
     ]
    }
   ],
   "source": [
    "val_mae = history.history['val_mae'][-1]\n",
    "mae_percent = (val_mae / y_test.mean()) * 100\n",
    "print(f\"MAE sekitar {mae_percent:.2f}% dari rata-rata radiation\")"
   ]
  }
 ],
 "metadata": {
  "kernelspec": {
   "display_name": ".venv",
   "language": "python",
   "name": "python3"
  },
  "language_info": {
   "codemirror_mode": {
    "name": "ipython",
    "version": 3
   },
   "file_extension": ".py",
   "mimetype": "text/x-python",
   "name": "python",
   "nbconvert_exporter": "python",
   "pygments_lexer": "ipython3",
   "version": "3.10.0"
  }
 },
 "nbformat": 4,
 "nbformat_minor": 5
}

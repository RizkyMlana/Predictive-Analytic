{
 "cells": [
  {
   "cell_type": "markdown",
   "id": "e193a58d",
   "metadata": {},
   "source": [
    "# **Predictive Analytics**"
   ]
  },
  {
   "cell_type": "markdown",
   "id": "5db52510",
   "metadata": {},
   "source": [
    "- Import Library"
   ]
  },
  {
   "cell_type": "code",
   "execution_count": 2,
   "id": "1195a406",
   "metadata": {},
   "outputs": [],
   "source": [
    "import pandas as pd\n",
    "import numpy as np\n",
    "import tensorflow as tf\n",
    "import matplotlib.pyplot as plt\n",
    "import seaborn as sns\n",
    "from sklearn.model_selection import train_test_split\n",
    "from sklearn.preprocessing import StandardScaler\n",
    "from sklearn.metrics import mean_absolute_error\n",
    "from tensorflow.keras.models import Sequential\n",
    "from tensorflow.keras.layers import Dense, Conv1D, MaxPooling1D, GlobalAveragePooling1D, Dropout, BatchNormalization\n",
    "from tensorflow.keras.callbacks import EarlyStopping, ReduceLROnPlateau, ModelCheckpoint"
   ]
  },
  {
   "cell_type": "markdown",
   "id": "791ddeac",
   "metadata": {},
   "source": [
    "- Load Data"
   ]
  },
  {
   "cell_type": "markdown",
   "id": "da7fb0dc",
   "metadata": {},
   "source": [
    "Information : \n",
    "- Radiation : Radiasi Solar watts per meter^2\n",
    "- Temperature : Suhu dalam derajat Fahrenheit\n",
    "- Humidity : Percent\n",
    "- Barometric Pressure : Hg\n",
    "- Wind Direction : Degrees\n",
    "- Wind Speed : miles per hour\n",
    "- Sunrise & Sunset : hawai time"
   ]
  },
  {
   "cell_type": "code",
   "execution_count": 3,
   "id": "dec2b264",
   "metadata": {},
   "outputs": [],
   "source": [
    "df = pd.read_csv('../data/raw/SolarPrediction.csv')"
   ]
  },
  {
   "cell_type": "markdown",
   "id": "04a6df3e",
   "metadata": {},
   "source": [
    "## Exploration Data Analysis"
   ]
  },
  {
   "cell_type": "code",
   "execution_count": null,
   "id": "d9c23211",
   "metadata": {},
   "outputs": [],
   "source": [
    "df.head()"
   ]
  },
  {
   "cell_type": "code",
   "execution_count": null,
   "id": "d36accac",
   "metadata": {},
   "outputs": [],
   "source": [
    "df.dtypes"
   ]
  },
  {
   "cell_type": "markdown",
   "id": "405958f8",
   "metadata": {},
   "source": [
    "## Data Preprocessing"
   ]
  },
  {
   "cell_type": "code",
   "execution_count": null,
   "id": "6aae2f80",
   "metadata": {},
   "outputs": [],
   "source": [
    "def time_to_minutes(t):\n",
    "    return t.hour * 60 + t.minute + t.second / 60"
   ]
  },
  {
   "cell_type": "code",
   "execution_count": null,
   "id": "18ecfc29",
   "metadata": {},
   "outputs": [],
   "source": [
    "df['Temperature'] = df['Temperature'].astype(float)\n",
    "df['Humidity'] = df['Humidity'].astype(float)\n",
    "df['Time'] = pd.to_datetime(df['Time'], format=\"%H:%M:%S\").dt.time\n",
    "df['TimeSunRise'] = pd.to_datetime(df['TimeSunRise'], format=\"%H:%M:%S\").dt.time\n",
    "df['TimeSunSet'] = pd.to_datetime(df['TimeSunSet'], format=\"%H:%M:%S\").dt.time\n",
    "\n",
    "df['SunRiseMinutes'] = df['TimeSunRise'].apply(time_to_minutes)\n",
    "df['SunSetMinutes'] = df['TimeSunSet'].apply(time_to_minutes)\n",
    "df['CurrentMinutes'] = df['Time'].apply(time_to_minutes)\n",
    "df['MinutesSinceSunrise'] = df['CurrentMinutes'] - df['SunRiseMinutes']\n",
    "df['MinutesUntilSunset'] = df['SunSetMinutes'] - df['CurrentMinutes']\n",
    "df['DaylightDuration'] = df['SunSetMinutes'] - df['SunRiseMinutes']\n",
    "df = df.drop(columns=['UNIXTime','Data','Time','TimeSunRise','TimeSunSet'])"
   ]
  },
  {
   "cell_type": "code",
   "execution_count": null,
   "id": "01619f9d",
   "metadata": {},
   "outputs": [],
   "source": [
    "sns.heatmap(df.corr(), annot=True)\n"
   ]
  },
  {
   "cell_type": "code",
   "execution_count": null,
   "id": "e5980d45",
   "metadata": {},
   "outputs": [],
   "source": [
    "df.isna().sum()\n"
   ]
  },
  {
   "cell_type": "code",
   "execution_count": null,
   "id": "8c374fdc",
   "metadata": {},
   "outputs": [],
   "source": [
    "numeric =  df.select_dtypes(include=\"number\").columns\n"
   ]
  },
  {
   "cell_type": "code",
   "execution_count": null,
   "id": "490ee646",
   "metadata": {},
   "outputs": [],
   "source": [
    "for i in numeric:\n",
    "    Q1 = df[i].quantile(0.25)\n",
    "    Q3 = df[i].quantile(0.75)\n",
    "    IQR = Q3 - Q1\n",
    "    lower = Q1 - 1.5 * IQR\n",
    "    upper = Q3 + 1.5 * IQR\n",
    "\n",
    "    outlier = df[(df[i] < lower) | (df[i] > upper)]\n",
    "    print(f\"Kolom {i} : {len(outlier)} outlier\")"
   ]
  },
  {
   "cell_type": "code",
   "execution_count": null,
   "id": "161860c8",
   "metadata": {},
   "outputs": [],
   "source": [
    "def outlierhandling(series):\n",
    "    Q1 = df[series].quantile(0.25)\n",
    "    Q3 = df[series].quantile(0.75)\n",
    "    IQR = Q3 - Q1\n",
    "    lower = Q1 - 1.5 * IQR\n",
    "    upper = Q3 + 1.5 * IQR\n",
    "    df.loc[df[series] > upper, series] = upper\n",
    "    df.loc[df[series] < lower, series] = lower\n",
    "    return df"
   ]
  },
  {
   "cell_type": "code",
   "execution_count": null,
   "id": "b6970f90",
   "metadata": {},
   "outputs": [],
   "source": [
    "for i in numeric:\n",
    "    df = outlierhandling(i)\n",
    "for i in numeric:\n",
    "    Q1 = df[i].quantile(0.25)\n",
    "    Q3 = df[i].quantile(0.75)\n",
    "    IQR = Q3 - Q1\n",
    "    lower = Q1 - 1.5 * IQR\n",
    "    upper = Q3 + 1.5 * IQR\n",
    "\n",
    "    outlier = df[(df[i] < lower) | (df[i] > upper)]\n",
    "    print(f\"Kolom {i} : {len(outlier)} outlier\")"
   ]
  },
  {
   "cell_type": "code",
   "execution_count": null,
   "id": "b4e9a304",
   "metadata": {},
   "outputs": [],
   "source": [
    "X = df.drop('Radiation',axis=1)\n",
    "y = df['Radiation']\n",
    "\n",
    "X_train,X_test,y_train,y_test = train_test_split(X, y, test_size=0.2, random_state=42)"
   ]
  },
  {
   "cell_type": "code",
   "execution_count": null,
   "id": "4f9f12cf",
   "metadata": {},
   "outputs": [],
   "source": [
    "scaler = StandardScaler()\n",
    "X_train_scaled = scaler.fit_transform(X_train)\n",
    "X_test_scaled = scaler.transform(X_test)"
   ]
  },
  {
   "cell_type": "markdown",
   "id": "4c6a6b7c",
   "metadata": {},
   "source": [
    "## Modelling & Evaluasi"
   ]
  },
  {
   "cell_type": "code",
   "execution_count": null,
   "id": "4231f750",
   "metadata": {},
   "outputs": [],
   "source": []
  },
  {
   "cell_type": "markdown",
   "id": "fd687ad1",
   "metadata": {},
   "source": [
    "## Testing"
   ]
  },
  {
   "cell_type": "code",
   "execution_count": null,
   "id": "f1b56086",
   "metadata": {},
   "outputs": [],
   "source": []
  }
 ],
 "metadata": {
  "kernelspec": {
   "display_name": ".venv",
   "language": "python",
   "name": "python3"
  },
  "language_info": {
   "codemirror_mode": {
    "name": "ipython",
    "version": 3
   },
   "file_extension": ".py",
   "mimetype": "text/x-python",
   "name": "python",
   "nbconvert_exporter": "python",
   "pygments_lexer": "ipython3",
   "version": "3.10.0"
  }
 },
 "nbformat": 4,
 "nbformat_minor": 5
}

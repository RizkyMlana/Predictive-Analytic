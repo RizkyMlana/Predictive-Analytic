{
 "cells": [
  {
   "cell_type": "markdown",
   "id": "1b0783db",
   "metadata": {},
   "source": [
    "# **Predictive Analytics**"
   ]
  },
  {
   "cell_type": "markdown",
   "id": "48637cbf",
   "metadata": {},
   "source": [
    "- Import Library"
   ]
  },
  {
   "cell_type": "code",
   "execution_count": 115,
   "id": "7425418f",
   "metadata": {},
   "outputs": [],
   "source": [
    "import pandas as pd\n",
    "import numpy as np\n",
    "import matplotlib.pyplot as plt\n",
    "import seaborn as sns\n",
    "from sklearn.model_selection import train_test_split\n",
    "from sklearn.preprocessing import StandardScaler\n",
    "from sklearn.metrics import mean_squared_error, r2_score\n",
    "from sklearn.linear_model import LinearRegression\n",
    "from sklearn.neighbors import KNeighborsRegressor"
   ]
  },
  {
   "cell_type": "markdown",
   "id": "5d0de255",
   "metadata": {},
   "source": [
    "- Load Data"
   ]
  },
  {
   "cell_type": "markdown",
   "id": "d37f75e8",
   "metadata": {},
   "source": [
    "Information : \n",
    "- Radiation : Radiasi Solar watts per meter^2\n",
    "- Temperature : Suhu dalam derajat Fahrenheit\n",
    "- Humidity : Percent\n",
    "- Barometric Pressure : Hg\n",
    "- Wind Direction : Degrees\n",
    "- Wind Speed : miles per hour\n",
    "- Sunrise & Sunset : hawai time"
   ]
  },
  {
   "cell_type": "code",
   "execution_count": 116,
   "id": "e8f5dd4a",
   "metadata": {},
   "outputs": [],
   "source": [
    "df = pd.read_csv('../data/raw/SolarPrediction.csv')"
   ]
  },
  {
   "cell_type": "markdown",
   "id": "d5abf5ea",
   "metadata": {},
   "source": [
    "## Exploration Data Analysis"
   ]
  },
  {
   "cell_type": "code",
   "execution_count": 117,
   "id": "f62263aa",
   "metadata": {},
   "outputs": [
    {
     "data": {
      "application/vnd.microsoft.datawrangler.viewer.v0+json": {
       "columns": [
        {
         "name": "index",
         "rawType": "int64",
         "type": "integer"
        },
        {
         "name": "UNIXTime",
         "rawType": "int64",
         "type": "integer"
        },
        {
         "name": "Data",
         "rawType": "object",
         "type": "string"
        },
        {
         "name": "Time",
         "rawType": "object",
         "type": "string"
        },
        {
         "name": "Radiation",
         "rawType": "float64",
         "type": "float"
        },
        {
         "name": "Temperature",
         "rawType": "int64",
         "type": "integer"
        },
        {
         "name": "Pressure",
         "rawType": "float64",
         "type": "float"
        },
        {
         "name": "Humidity",
         "rawType": "int64",
         "type": "integer"
        },
        {
         "name": "WindDirection(Degrees)",
         "rawType": "float64",
         "type": "float"
        },
        {
         "name": "Speed",
         "rawType": "float64",
         "type": "float"
        },
        {
         "name": "TimeSunRise",
         "rawType": "object",
         "type": "string"
        },
        {
         "name": "TimeSunSet",
         "rawType": "object",
         "type": "string"
        }
       ],
       "ref": "8c83ee9c-26c4-44de-9039-d3238a06696b",
       "rows": [
        [
         "0",
         "1475229326",
         "9/29/2016 12:00:00 AM",
         "23:55:26",
         "1.21",
         "48",
         "30.46",
         "59",
         "177.39",
         "5.62",
         "06:13:00",
         "18:13:00"
        ],
        [
         "1",
         "1475229023",
         "9/29/2016 12:00:00 AM",
         "23:50:23",
         "1.21",
         "48",
         "30.46",
         "58",
         "176.78",
         "3.37",
         "06:13:00",
         "18:13:00"
        ],
        [
         "2",
         "1475228726",
         "9/29/2016 12:00:00 AM",
         "23:45:26",
         "1.23",
         "48",
         "30.46",
         "57",
         "158.75",
         "3.37",
         "06:13:00",
         "18:13:00"
        ],
        [
         "3",
         "1475228421",
         "9/29/2016 12:00:00 AM",
         "23:40:21",
         "1.21",
         "48",
         "30.46",
         "60",
         "137.71",
         "3.37",
         "06:13:00",
         "18:13:00"
        ],
        [
         "4",
         "1475228124",
         "9/29/2016 12:00:00 AM",
         "23:35:24",
         "1.17",
         "48",
         "30.46",
         "62",
         "104.95",
         "5.62",
         "06:13:00",
         "18:13:00"
        ]
       ],
       "shape": {
        "columns": 11,
        "rows": 5
       }
      },
      "text/html": [
       "<div>\n",
       "<style scoped>\n",
       "    .dataframe tbody tr th:only-of-type {\n",
       "        vertical-align: middle;\n",
       "    }\n",
       "\n",
       "    .dataframe tbody tr th {\n",
       "        vertical-align: top;\n",
       "    }\n",
       "\n",
       "    .dataframe thead th {\n",
       "        text-align: right;\n",
       "    }\n",
       "</style>\n",
       "<table border=\"1\" class=\"dataframe\">\n",
       "  <thead>\n",
       "    <tr style=\"text-align: right;\">\n",
       "      <th></th>\n",
       "      <th>UNIXTime</th>\n",
       "      <th>Data</th>\n",
       "      <th>Time</th>\n",
       "      <th>Radiation</th>\n",
       "      <th>Temperature</th>\n",
       "      <th>Pressure</th>\n",
       "      <th>Humidity</th>\n",
       "      <th>WindDirection(Degrees)</th>\n",
       "      <th>Speed</th>\n",
       "      <th>TimeSunRise</th>\n",
       "      <th>TimeSunSet</th>\n",
       "    </tr>\n",
       "  </thead>\n",
       "  <tbody>\n",
       "    <tr>\n",
       "      <th>0</th>\n",
       "      <td>1475229326</td>\n",
       "      <td>9/29/2016 12:00:00 AM</td>\n",
       "      <td>23:55:26</td>\n",
       "      <td>1.21</td>\n",
       "      <td>48</td>\n",
       "      <td>30.46</td>\n",
       "      <td>59</td>\n",
       "      <td>177.39</td>\n",
       "      <td>5.62</td>\n",
       "      <td>06:13:00</td>\n",
       "      <td>18:13:00</td>\n",
       "    </tr>\n",
       "    <tr>\n",
       "      <th>1</th>\n",
       "      <td>1475229023</td>\n",
       "      <td>9/29/2016 12:00:00 AM</td>\n",
       "      <td>23:50:23</td>\n",
       "      <td>1.21</td>\n",
       "      <td>48</td>\n",
       "      <td>30.46</td>\n",
       "      <td>58</td>\n",
       "      <td>176.78</td>\n",
       "      <td>3.37</td>\n",
       "      <td>06:13:00</td>\n",
       "      <td>18:13:00</td>\n",
       "    </tr>\n",
       "    <tr>\n",
       "      <th>2</th>\n",
       "      <td>1475228726</td>\n",
       "      <td>9/29/2016 12:00:00 AM</td>\n",
       "      <td>23:45:26</td>\n",
       "      <td>1.23</td>\n",
       "      <td>48</td>\n",
       "      <td>30.46</td>\n",
       "      <td>57</td>\n",
       "      <td>158.75</td>\n",
       "      <td>3.37</td>\n",
       "      <td>06:13:00</td>\n",
       "      <td>18:13:00</td>\n",
       "    </tr>\n",
       "    <tr>\n",
       "      <th>3</th>\n",
       "      <td>1475228421</td>\n",
       "      <td>9/29/2016 12:00:00 AM</td>\n",
       "      <td>23:40:21</td>\n",
       "      <td>1.21</td>\n",
       "      <td>48</td>\n",
       "      <td>30.46</td>\n",
       "      <td>60</td>\n",
       "      <td>137.71</td>\n",
       "      <td>3.37</td>\n",
       "      <td>06:13:00</td>\n",
       "      <td>18:13:00</td>\n",
       "    </tr>\n",
       "    <tr>\n",
       "      <th>4</th>\n",
       "      <td>1475228124</td>\n",
       "      <td>9/29/2016 12:00:00 AM</td>\n",
       "      <td>23:35:24</td>\n",
       "      <td>1.17</td>\n",
       "      <td>48</td>\n",
       "      <td>30.46</td>\n",
       "      <td>62</td>\n",
       "      <td>104.95</td>\n",
       "      <td>5.62</td>\n",
       "      <td>06:13:00</td>\n",
       "      <td>18:13:00</td>\n",
       "    </tr>\n",
       "  </tbody>\n",
       "</table>\n",
       "</div>"
      ],
      "text/plain": [
       "     UNIXTime                   Data      Time  Radiation  Temperature  \\\n",
       "0  1475229326  9/29/2016 12:00:00 AM  23:55:26       1.21           48   \n",
       "1  1475229023  9/29/2016 12:00:00 AM  23:50:23       1.21           48   \n",
       "2  1475228726  9/29/2016 12:00:00 AM  23:45:26       1.23           48   \n",
       "3  1475228421  9/29/2016 12:00:00 AM  23:40:21       1.21           48   \n",
       "4  1475228124  9/29/2016 12:00:00 AM  23:35:24       1.17           48   \n",
       "\n",
       "   Pressure  Humidity  WindDirection(Degrees)  Speed TimeSunRise TimeSunSet  \n",
       "0     30.46        59                  177.39   5.62    06:13:00   18:13:00  \n",
       "1     30.46        58                  176.78   3.37    06:13:00   18:13:00  \n",
       "2     30.46        57                  158.75   3.37    06:13:00   18:13:00  \n",
       "3     30.46        60                  137.71   3.37    06:13:00   18:13:00  \n",
       "4     30.46        62                  104.95   5.62    06:13:00   18:13:00  "
      ]
     },
     "execution_count": 117,
     "metadata": {},
     "output_type": "execute_result"
    }
   ],
   "source": [
    "df.head()"
   ]
  },
  {
   "cell_type": "code",
   "execution_count": null,
   "id": "394bb770",
   "metadata": {},
   "outputs": [],
   "source": [
    "# sns.heatmap(df.corr(), annot=True)"
   ]
  },
  {
   "cell_type": "code",
   "execution_count": null,
   "id": "c99dd18f",
   "metadata": {},
   "outputs": [
    {
     "data": {
      "application/vnd.microsoft.datawrangler.viewer.v0+json": {
       "columns": [
        {
         "name": "index",
         "rawType": "object",
         "type": "string"
        },
        {
         "name": "0",
         "rawType": "object",
         "type": "unknown"
        }
       ],
       "ref": "2ba726bd-508d-4a52-851a-28842484c29b",
       "rows": [
        [
         "UNIXTime",
         "int64"
        ],
        [
         "Data",
         "object"
        ],
        [
         "Time",
         "object"
        ],
        [
         "Radiation",
         "float64"
        ],
        [
         "Temperature",
         "int64"
        ],
        [
         "Pressure",
         "float64"
        ],
        [
         "Humidity",
         "int64"
        ],
        [
         "WindDirection(Degrees)",
         "float64"
        ],
        [
         "Speed",
         "float64"
        ],
        [
         "TimeSunRise",
         "object"
        ],
        [
         "TimeSunSet",
         "object"
        ]
       ],
       "shape": {
        "columns": 1,
        "rows": 11
       }
      },
      "text/plain": [
       "UNIXTime                    int64\n",
       "Data                       object\n",
       "Time                       object\n",
       "Radiation                 float64\n",
       "Temperature                 int64\n",
       "Pressure                  float64\n",
       "Humidity                    int64\n",
       "WindDirection(Degrees)    float64\n",
       "Speed                     float64\n",
       "TimeSunRise                object\n",
       "TimeSunSet                 object\n",
       "dtype: object"
      ]
     },
     "execution_count": 103,
     "metadata": {},
     "output_type": "execute_result"
    }
   ],
   "source": [
    "df.dtypes"
   ]
  },
  {
   "cell_type": "markdown",
   "id": "2e0fc1ac",
   "metadata": {},
   "source": [
    "## Data Preprocessing"
   ]
  },
  {
   "cell_type": "code",
   "execution_count": null,
   "id": "a6b96b06",
   "metadata": {},
   "outputs": [],
   "source": [
    "df = df.drop(columns=['UNIXTime','Data','Time','TimeSunRise','TimeSunSet'])\n",
    "df['Temperature'] = df['Temperature'].astype(float)\n",
    "df['Humidity'] = df['Humidity'].astype(float)"
   ]
  },
  {
   "cell_type": "code",
   "execution_count": null,
   "id": "40bd8fc4",
   "metadata": {},
   "outputs": [
    {
     "data": {
      "application/vnd.microsoft.datawrangler.viewer.v0+json": {
       "columns": [
        {
         "name": "index",
         "rawType": "object",
         "type": "string"
        },
        {
         "name": "0",
         "rawType": "int64",
         "type": "integer"
        }
       ],
       "ref": "38bf14f3-fedd-40d0-a511-a78b190f3f01",
       "rows": [
        [
         "Radiation",
         "0"
        ],
        [
         "Temperature",
         "0"
        ],
        [
         "Pressure",
         "0"
        ],
        [
         "Humidity",
         "0"
        ],
        [
         "WindDirection(Degrees)",
         "0"
        ],
        [
         "Speed",
         "0"
        ]
       ],
       "shape": {
        "columns": 1,
        "rows": 6
       }
      },
      "text/plain": [
       "Radiation                 0\n",
       "Temperature               0\n",
       "Pressure                  0\n",
       "Humidity                  0\n",
       "WindDirection(Degrees)    0\n",
       "Speed                     0\n",
       "dtype: int64"
      ]
     },
     "execution_count": 105,
     "metadata": {},
     "output_type": "execute_result"
    }
   ],
   "source": [
    "df.isna().sum()"
   ]
  },
  {
   "cell_type": "code",
   "execution_count": null,
   "id": "7206ffdf",
   "metadata": {},
   "outputs": [],
   "source": [
    "numeric =  df.select_dtypes(include=\"number\").columns"
   ]
  },
  {
   "cell_type": "code",
   "execution_count": null,
   "id": "d0fa0ed8",
   "metadata": {},
   "outputs": [
    {
     "name": "stdout",
     "output_type": "stream",
     "text": [
      "Kolom Radiation : 1965 outlier\n",
      "Kolom Temperature : 89 outlier\n",
      "Kolom Pressure : 1662 outlier\n",
      "Kolom Humidity : 0 outlier\n",
      "Kolom WindDirection(Degrees) : 1618 outlier\n",
      "Kolom Speed : 479 outlier\n"
     ]
    }
   ],
   "source": [
    "for i in numeric:\n",
    "    Q1 = df[i].quantile(0.25)\n",
    "    Q3 = df[i].quantile(0.75)\n",
    "    IQR = Q3 - Q1\n",
    "    lower = Q1 - 1.5 * IQR\n",
    "    upper = Q3 + 1.5 * IQR\n",
    "\n",
    "    outlier = df[(df[i] < lower) | (df[i] > upper)]\n",
    "    print(f\"Kolom {i} : {len(outlier)} outlier\")"
   ]
  },
  {
   "cell_type": "code",
   "execution_count": null,
   "id": "921b8577",
   "metadata": {},
   "outputs": [],
   "source": [
    "def outlierhandling(series):\n",
    "    Q1 = df[series].quantile(0.25)\n",
    "    Q3 = df[series].quantile(0.75)\n",
    "    IQR = Q3 - Q1\n",
    "    lower = Q1 - 1.5 * IQR\n",
    "    upper = Q3 + 1.5 * IQR\n",
    "    df.loc[df[series] > upper, series] = upper\n",
    "    df.loc[df[series] < lower, series] = lower\n",
    "    return df\n"
   ]
  },
  {
   "cell_type": "code",
   "execution_count": null,
   "id": "122805ef",
   "metadata": {},
   "outputs": [
    {
     "name": "stdout",
     "output_type": "stream",
     "text": [
      "Kolom Radiation : 0 outlier\n",
      "Kolom Temperature : 0 outlier\n",
      "Kolom Pressure : 0 outlier\n",
      "Kolom Humidity : 0 outlier\n",
      "Kolom WindDirection(Degrees) : 0 outlier\n",
      "Kolom Speed : 0 outlier\n"
     ]
    }
   ],
   "source": [
    "for i in numeric:\n",
    "    df = outlierhandling(i)\n",
    "for i in numeric:\n",
    "    Q1 = df[i].quantile(0.25)\n",
    "    Q3 = df[i].quantile(0.75)\n",
    "    IQR = Q3 - Q1\n",
    "    lower = Q1 - 1.5 * IQR\n",
    "    upper = Q3 + 1.5 * IQR\n",
    "\n",
    "    outlier = df[(df[i] < lower) | (df[i] > upper)]\n",
    "    print(f\"Kolom {i} : {len(outlier)} outlier\")\n"
   ]
  },
  {
   "cell_type": "code",
   "execution_count": null,
   "id": "c4066b83",
   "metadata": {},
   "outputs": [],
   "source": [
    "X = df.drop('Radiation',axis=1)\n",
    "y = df['Radiation']\n",
    "\n",
    "X_train,X_test,y_train,y_test = train_test_split(X, y, test_size=0.2, random_state=42)\n"
   ]
  },
  {
   "cell_type": "code",
   "execution_count": null,
   "id": "83ee7f62",
   "metadata": {},
   "outputs": [
    {
     "data": {
      "application/vnd.microsoft.datawrangler.viewer.v0+json": {
       "columns": [
        {
         "name": "index",
         "rawType": "object",
         "type": "string"
        },
        {
         "name": "Radiation",
         "rawType": "float64",
         "type": "float"
        }
       ],
       "ref": "c1ab3ae6-b002-48ef-8838-70bce4f3b700",
       "rows": [
        [
         "count",
         "32686.0"
        ],
        [
         "mean",
         "201.35404951661263"
        ],
        [
         "std",
         "301.68233725661696"
        ],
        [
         "min",
         "1.11"
        ],
        [
         "25%",
         "1.23"
        ],
        [
         "50%",
         "2.66"
        ],
        [
         "75%",
         "354.235"
        ],
        [
         "max",
         "883.7425"
        ]
       ],
       "shape": {
        "columns": 1,
        "rows": 8
       }
      },
      "text/plain": [
       "count    32686.000000\n",
       "mean       201.354050\n",
       "std        301.682337\n",
       "min          1.110000\n",
       "25%          1.230000\n",
       "50%          2.660000\n",
       "75%        354.235000\n",
       "max        883.742500\n",
       "Name: Radiation, dtype: float64"
      ]
     },
     "execution_count": 111,
     "metadata": {},
     "output_type": "execute_result"
    }
   ],
   "source": [
    "y.describe()"
   ]
  },
  {
   "cell_type": "code",
   "execution_count": null,
   "id": "7fa6f580",
   "metadata": {},
   "outputs": [],
   "source": [
    "scaler = StandardScaler()\n",
    "X_train_scaled = scaler.fit_transform(X_train)\n",
    "X_test_scaled = scaler.transform(X_test)"
   ]
  },
  {
   "cell_type": "markdown",
   "id": "3dc3f4fb",
   "metadata": {},
   "source": [
    "## Modelling"
   ]
  },
  {
   "cell_type": "code",
   "execution_count": null,
   "id": "b2012b79",
   "metadata": {},
   "outputs": [
    {
     "name": "stdout",
     "output_type": "stream",
     "text": [
      "Mean Squared Error : 39051.27811234309\n",
      "R2 Score : 0.567344722914279\n"
     ]
    }
   ],
   "source": [
    "model_linier = LinearRegression()\n",
    "model_linier.fit(X_train_scaled, y_train)\n",
    "y_pred_linier = model_linier.predict(X_test_scaled)\n",
    "mse = mean_squared_error(y_test,y_pred_linier)\n",
    "r2 = r2_score(y_test,y_pred_linier)\n",
    "print(f\"Mean Squared Error : {mse}\")\n",
    "print(f\"R2 Score : {r2}\")\n"
   ]
  },
  {
   "cell_type": "code",
   "execution_count": null,
   "id": "5bb4d4bb",
   "metadata": {},
   "outputs": [],
   "source": [
    "model_knn = KNeighborsRegressor(n_neighbors=5)"
   ]
  },
  {
   "cell_type": "markdown",
   "id": "a6ff77ea",
   "metadata": {},
   "source": [
    "## Testing"
   ]
  },
  {
   "cell_type": "code",
   "execution_count": null,
   "id": "31230866",
   "metadata": {},
   "outputs": [],
   "source": []
  }
 ],
 "metadata": {
  "kernelspec": {
   "display_name": ".venv",
   "language": "python",
   "name": "python3"
  },
  "language_info": {
   "codemirror_mode": {
    "name": "ipython",
    "version": 3
   },
   "file_extension": ".py",
   "mimetype": "text/x-python",
   "name": "python",
   "nbconvert_exporter": "python",
   "pygments_lexer": "ipython3",
   "version": "3.10.0"
  }
 },
 "nbformat": 4,
 "nbformat_minor": 5
}
